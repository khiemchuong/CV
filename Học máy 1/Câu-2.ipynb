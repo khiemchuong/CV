{
 "cells": [
  {
   "cell_type": "code",
   "execution_count": 1,
   "metadata": {},
   "outputs": [
    {
     "data": {
      "text/html": [
       "        <script type=\"text/javascript\">\n",
       "        window.PlotlyConfig = {MathJaxConfig: 'local'};\n",
       "        if (window.MathJax && window.MathJax.Hub && window.MathJax.Hub.Config) {window.MathJax.Hub.Config({SVG: {font: \"STIX-Web\"}});}\n",
       "        if (typeof require !== 'undefined') {\n",
       "        require.undef(\"plotly\");\n",
       "        requirejs.config({\n",
       "            paths: {\n",
       "                'plotly': ['https://cdn.plot.ly/plotly-2.12.1.min']\n",
       "            }\n",
       "        });\n",
       "        require(['plotly'], function(Plotly) {\n",
       "            window._Plotly = Plotly;\n",
       "        });\n",
       "        }\n",
       "        </script>\n",
       "        "
      ]
     },
     "metadata": {},
     "output_type": "display_data"
    }
   ],
   "source": [
    "import numpy as np\n",
    "import pandas as pd\n",
    "import matplotlib.pyplot as plt\n",
    "import seaborn as sns\n",
    "import plotly.graph_objs as go\n",
    "from plotly.offline import init_notebook_mode\n",
    "init_notebook_mode(connected=True)\n",
    "from itertools import product\n",
    "import datetime as dt\n",
    "from sklearn.cluster import KMeans, DBSCAN\n",
    "from sklearn.metrics import silhouette_score\n",
    "import warnings\n",
    "from pickle import dump\n",
    "%matplotlib inline\n",
    "warnings.filterwarnings('ignore')\n",
    "sns.set_style('darkgrid')"
   ]
  },
  {
   "cell_type": "code",
   "execution_count": 2,
   "metadata": {},
   "outputs": [
    {
     "data": {
      "text/html": [
       "<div>\n",
       "<style scoped>\n",
       "    .dataframe tbody tr th:only-of-type {\n",
       "        vertical-align: middle;\n",
       "    }\n",
       "\n",
       "    .dataframe tbody tr th {\n",
       "        vertical-align: top;\n",
       "    }\n",
       "\n",
       "    .dataframe thead th {\n",
       "        text-align: right;\n",
       "    }\n",
       "</style>\n",
       "<table border=\"1\" class=\"dataframe\">\n",
       "  <thead>\n",
       "    <tr style=\"text-align: right;\">\n",
       "      <th></th>\n",
       "      <th>Invoice</th>\n",
       "      <th>StockCode</th>\n",
       "      <th>Description</th>\n",
       "      <th>Quantity</th>\n",
       "      <th>InvoiceDate</th>\n",
       "      <th>Price</th>\n",
       "      <th>Customer ID</th>\n",
       "      <th>Country</th>\n",
       "    </tr>\n",
       "  </thead>\n",
       "  <tbody>\n",
       "    <tr>\n",
       "      <th>0</th>\n",
       "      <td>489434</td>\n",
       "      <td>85048</td>\n",
       "      <td>15CM CHRISTMAS GLASS BALL 20 LIGHTS</td>\n",
       "      <td>12</td>\n",
       "      <td>2009-12-01 07:45:00</td>\n",
       "      <td>6.95</td>\n",
       "      <td>13085.0</td>\n",
       "      <td>United Kingdom</td>\n",
       "    </tr>\n",
       "    <tr>\n",
       "      <th>1</th>\n",
       "      <td>489434</td>\n",
       "      <td>79323P</td>\n",
       "      <td>PINK CHERRY LIGHTS</td>\n",
       "      <td>12</td>\n",
       "      <td>2009-12-01 07:45:00</td>\n",
       "      <td>6.75</td>\n",
       "      <td>13085.0</td>\n",
       "      <td>United Kingdom</td>\n",
       "    </tr>\n",
       "    <tr>\n",
       "      <th>2</th>\n",
       "      <td>489434</td>\n",
       "      <td>79323W</td>\n",
       "      <td>WHITE CHERRY LIGHTS</td>\n",
       "      <td>12</td>\n",
       "      <td>2009-12-01 07:45:00</td>\n",
       "      <td>6.75</td>\n",
       "      <td>13085.0</td>\n",
       "      <td>United Kingdom</td>\n",
       "    </tr>\n",
       "    <tr>\n",
       "      <th>3</th>\n",
       "      <td>489434</td>\n",
       "      <td>22041</td>\n",
       "      <td>RECORD FRAME 7\" SINGLE SIZE</td>\n",
       "      <td>48</td>\n",
       "      <td>2009-12-01 07:45:00</td>\n",
       "      <td>2.10</td>\n",
       "      <td>13085.0</td>\n",
       "      <td>United Kingdom</td>\n",
       "    </tr>\n",
       "    <tr>\n",
       "      <th>4</th>\n",
       "      <td>489434</td>\n",
       "      <td>21232</td>\n",
       "      <td>STRAWBERRY CERAMIC TRINKET BOX</td>\n",
       "      <td>24</td>\n",
       "      <td>2009-12-01 07:45:00</td>\n",
       "      <td>1.25</td>\n",
       "      <td>13085.0</td>\n",
       "      <td>United Kingdom</td>\n",
       "    </tr>\n",
       "  </tbody>\n",
       "</table>\n",
       "</div>"
      ],
      "text/plain": [
       "  Invoice StockCode                          Description  Quantity  \\\n",
       "0  489434     85048  15CM CHRISTMAS GLASS BALL 20 LIGHTS        12   \n",
       "1  489434    79323P                   PINK CHERRY LIGHTS        12   \n",
       "2  489434    79323W                  WHITE CHERRY LIGHTS        12   \n",
       "3  489434     22041         RECORD FRAME 7\" SINGLE SIZE         48   \n",
       "4  489434     21232       STRAWBERRY CERAMIC TRINKET BOX        24   \n",
       "\n",
       "          InvoiceDate  Price  Customer ID         Country  \n",
       "0 2009-12-01 07:45:00   6.95      13085.0  United Kingdom  \n",
       "1 2009-12-01 07:45:00   6.75      13085.0  United Kingdom  \n",
       "2 2009-12-01 07:45:00   6.75      13085.0  United Kingdom  \n",
       "3 2009-12-01 07:45:00   2.10      13085.0  United Kingdom  \n",
       "4 2009-12-01 07:45:00   1.25      13085.0  United Kingdom  "
      ]
     },
     "execution_count": 2,
     "metadata": {},
     "output_type": "execute_result"
    }
   ],
   "source": [
    "retail=pd.read_excel(\"D:\\code\\Học máy 1\\do_an\\online_retail_II.xlsx\")\n",
    "retail.head()"
   ]
  },
  {
   "cell_type": "code",
   "execution_count": 3,
   "metadata": {},
   "outputs": [
    {
     "data": {
      "text/html": [
       "<div>\n",
       "<style scoped>\n",
       "    .dataframe tbody tr th:only-of-type {\n",
       "        vertical-align: middle;\n",
       "    }\n",
       "\n",
       "    .dataframe tbody tr th {\n",
       "        vertical-align: top;\n",
       "    }\n",
       "\n",
       "    .dataframe thead th {\n",
       "        text-align: right;\n",
       "    }\n",
       "</style>\n",
       "<table border=\"1\" class=\"dataframe\">\n",
       "  <thead>\n",
       "    <tr style=\"text-align: right;\">\n",
       "      <th></th>\n",
       "      <th>Invoice</th>\n",
       "      <th>StockCode</th>\n",
       "      <th>Description</th>\n",
       "      <th>Quantity</th>\n",
       "      <th>InvoiceDate</th>\n",
       "      <th>Price</th>\n",
       "      <th>Customer ID</th>\n",
       "      <th>Country</th>\n",
       "      <th>InvoiceYear</th>\n",
       "      <th>InvoiceMonth</th>\n",
       "    </tr>\n",
       "  </thead>\n",
       "  <tbody>\n",
       "    <tr>\n",
       "      <th>0</th>\n",
       "      <td>489434</td>\n",
       "      <td>85048</td>\n",
       "      <td>15CM CHRISTMAS GLASS BALL 20 LIGHTS</td>\n",
       "      <td>12</td>\n",
       "      <td>2009-12-01 07:45:00</td>\n",
       "      <td>6.95</td>\n",
       "      <td>13085.0</td>\n",
       "      <td>United Kingdom</td>\n",
       "      <td>2009</td>\n",
       "      <td>12</td>\n",
       "    </tr>\n",
       "    <tr>\n",
       "      <th>1</th>\n",
       "      <td>489434</td>\n",
       "      <td>79323P</td>\n",
       "      <td>PINK CHERRY LIGHTS</td>\n",
       "      <td>12</td>\n",
       "      <td>2009-12-01 07:45:00</td>\n",
       "      <td>6.75</td>\n",
       "      <td>13085.0</td>\n",
       "      <td>United Kingdom</td>\n",
       "      <td>2009</td>\n",
       "      <td>12</td>\n",
       "    </tr>\n",
       "    <tr>\n",
       "      <th>2</th>\n",
       "      <td>489434</td>\n",
       "      <td>79323W</td>\n",
       "      <td>WHITE CHERRY LIGHTS</td>\n",
       "      <td>12</td>\n",
       "      <td>2009-12-01 07:45:00</td>\n",
       "      <td>6.75</td>\n",
       "      <td>13085.0</td>\n",
       "      <td>United Kingdom</td>\n",
       "      <td>2009</td>\n",
       "      <td>12</td>\n",
       "    </tr>\n",
       "    <tr>\n",
       "      <th>3</th>\n",
       "      <td>489434</td>\n",
       "      <td>22041</td>\n",
       "      <td>RECORD FRAME 7\" SINGLE SIZE</td>\n",
       "      <td>48</td>\n",
       "      <td>2009-12-01 07:45:00</td>\n",
       "      <td>2.10</td>\n",
       "      <td>13085.0</td>\n",
       "      <td>United Kingdom</td>\n",
       "      <td>2009</td>\n",
       "      <td>12</td>\n",
       "    </tr>\n",
       "    <tr>\n",
       "      <th>4</th>\n",
       "      <td>489434</td>\n",
       "      <td>21232</td>\n",
       "      <td>STRAWBERRY CERAMIC TRINKET BOX</td>\n",
       "      <td>24</td>\n",
       "      <td>2009-12-01 07:45:00</td>\n",
       "      <td>1.25</td>\n",
       "      <td>13085.0</td>\n",
       "      <td>United Kingdom</td>\n",
       "      <td>2009</td>\n",
       "      <td>12</td>\n",
       "    </tr>\n",
       "    <tr>\n",
       "      <th>...</th>\n",
       "      <td>...</td>\n",
       "      <td>...</td>\n",
       "      <td>...</td>\n",
       "      <td>...</td>\n",
       "      <td>...</td>\n",
       "      <td>...</td>\n",
       "      <td>...</td>\n",
       "      <td>...</td>\n",
       "      <td>...</td>\n",
       "      <td>...</td>\n",
       "    </tr>\n",
       "    <tr>\n",
       "      <th>74933</th>\n",
       "      <td>C496242</td>\n",
       "      <td>85118</td>\n",
       "      <td>HEART T-LIGHT HOLDER</td>\n",
       "      <td>-26</td>\n",
       "      <td>2010-01-29 14:51:00</td>\n",
       "      <td>0.38</td>\n",
       "      <td>13557.0</td>\n",
       "      <td>United Kingdom</td>\n",
       "      <td>2010</td>\n",
       "      <td>1</td>\n",
       "    </tr>\n",
       "    <tr>\n",
       "      <th>74934</th>\n",
       "      <td>C496243</td>\n",
       "      <td>85123A</td>\n",
       "      <td>WHITE HANGING HEART T-LIGHT HOLDER</td>\n",
       "      <td>-2</td>\n",
       "      <td>2010-01-29 14:53:00</td>\n",
       "      <td>2.55</td>\n",
       "      <td>18065.0</td>\n",
       "      <td>United Kingdom</td>\n",
       "      <td>2010</td>\n",
       "      <td>1</td>\n",
       "    </tr>\n",
       "    <tr>\n",
       "      <th>74935</th>\n",
       "      <td>C496244</td>\n",
       "      <td>90010B</td>\n",
       "      <td>BLACK/WHITE GLASS/SILVER BRACELET</td>\n",
       "      <td>-1</td>\n",
       "      <td>2010-01-29 14:54:00</td>\n",
       "      <td>8.95</td>\n",
       "      <td>14949.0</td>\n",
       "      <td>United Kingdom</td>\n",
       "      <td>2010</td>\n",
       "      <td>1</td>\n",
       "    </tr>\n",
       "    <tr>\n",
       "      <th>74936</th>\n",
       "      <td>C496244</td>\n",
       "      <td>21232</td>\n",
       "      <td>STRAWBERRY CERAMIC TRINKET BOX</td>\n",
       "      <td>-3</td>\n",
       "      <td>2010-01-29 14:54:00</td>\n",
       "      <td>1.25</td>\n",
       "      <td>14949.0</td>\n",
       "      <td>United Kingdom</td>\n",
       "      <td>2010</td>\n",
       "      <td>1</td>\n",
       "    </tr>\n",
       "    <tr>\n",
       "      <th>74937</th>\n",
       "      <td>496245</td>\n",
       "      <td>21911</td>\n",
       "      <td>GARDEN METAL SIGN</td>\n",
       "      <td>12</td>\n",
       "      <td>2010-01-29 15:25:00</td>\n",
       "      <td>1.65</td>\n",
       "      <td>16390.0</td>\n",
       "      <td>United Kingdom</td>\n",
       "      <td>2010</td>\n",
       "      <td>1</td>\n",
       "    </tr>\n",
       "  </tbody>\n",
       "</table>\n",
       "<p>74938 rows × 10 columns</p>\n",
       "</div>"
      ],
      "text/plain": [
       "       Invoice StockCode                          Description  Quantity  \\\n",
       "0       489434     85048  15CM CHRISTMAS GLASS BALL 20 LIGHTS        12   \n",
       "1       489434    79323P                   PINK CHERRY LIGHTS        12   \n",
       "2       489434    79323W                  WHITE CHERRY LIGHTS        12   \n",
       "3       489434     22041         RECORD FRAME 7\" SINGLE SIZE         48   \n",
       "4       489434     21232       STRAWBERRY CERAMIC TRINKET BOX        24   \n",
       "...        ...       ...                                  ...       ...   \n",
       "74933  C496242     85118                 HEART T-LIGHT HOLDER       -26   \n",
       "74934  C496243    85123A   WHITE HANGING HEART T-LIGHT HOLDER        -2   \n",
       "74935  C496244    90010B    BLACK/WHITE GLASS/SILVER BRACELET        -1   \n",
       "74936  C496244     21232       STRAWBERRY CERAMIC TRINKET BOX        -3   \n",
       "74937   496245     21911                   GARDEN METAL SIGN         12   \n",
       "\n",
       "              InvoiceDate  Price  Customer ID         Country  InvoiceYear  \\\n",
       "0     2009-12-01 07:45:00   6.95      13085.0  United Kingdom         2009   \n",
       "1     2009-12-01 07:45:00   6.75      13085.0  United Kingdom         2009   \n",
       "2     2009-12-01 07:45:00   6.75      13085.0  United Kingdom         2009   \n",
       "3     2009-12-01 07:45:00   2.10      13085.0  United Kingdom         2009   \n",
       "4     2009-12-01 07:45:00   1.25      13085.0  United Kingdom         2009   \n",
       "...                   ...    ...          ...             ...          ...   \n",
       "74933 2010-01-29 14:51:00   0.38      13557.0  United Kingdom         2010   \n",
       "74934 2010-01-29 14:53:00   2.55      18065.0  United Kingdom         2010   \n",
       "74935 2010-01-29 14:54:00   8.95      14949.0  United Kingdom         2010   \n",
       "74936 2010-01-29 14:54:00   1.25      14949.0  United Kingdom         2010   \n",
       "74937 2010-01-29 15:25:00   1.65      16390.0  United Kingdom         2010   \n",
       "\n",
       "       InvoiceMonth  \n",
       "0                12  \n",
       "1                12  \n",
       "2                12  \n",
       "3                12  \n",
       "4                12  \n",
       "...             ...  \n",
       "74933             1  \n",
       "74934             1  \n",
       "74935             1  \n",
       "74936             1  \n",
       "74937             1  \n",
       "\n",
       "[74938 rows x 10 columns]"
      ]
     },
     "execution_count": 3,
     "metadata": {},
     "output_type": "execute_result"
    }
   ],
   "source": [
    "# Tách cột 'InvoiceDate' thành năm chỉ là 'InvoiceYear' và chỉ các tháng là 'InvoiceMonth'\n",
    "retail['InvoiceYear'] = retail['InvoiceDate'].dt.year\n",
    "retail['InvoiceMonth'] = retail['InvoiceDate'].dt.month\n",
    "retail"
   ]
  },
  {
   "cell_type": "code",
   "execution_count": 4,
   "metadata": {},
   "outputs": [
    {
     "data": {
      "text/html": [
       "<div>\n",
       "<style scoped>\n",
       "    .dataframe tbody tr th:only-of-type {\n",
       "        vertical-align: middle;\n",
       "    }\n",
       "\n",
       "    .dataframe tbody tr th {\n",
       "        vertical-align: top;\n",
       "    }\n",
       "\n",
       "    .dataframe thead th {\n",
       "        text-align: right;\n",
       "    }\n",
       "</style>\n",
       "<table border=\"1\" class=\"dataframe\">\n",
       "  <thead>\n",
       "    <tr style=\"text-align: right;\">\n",
       "      <th></th>\n",
       "      <th>Invoice</th>\n",
       "      <th>StockCode</th>\n",
       "      <th>Description</th>\n",
       "      <th>Quantity</th>\n",
       "      <th>InvoiceDate</th>\n",
       "      <th>Price</th>\n",
       "      <th>Customer ID</th>\n",
       "      <th>Country</th>\n",
       "      <th>InvoiceYear</th>\n",
       "      <th>InvoiceMonth</th>\n",
       "      <th>Revenue</th>\n",
       "    </tr>\n",
       "  </thead>\n",
       "  <tbody>\n",
       "    <tr>\n",
       "      <th>0</th>\n",
       "      <td>489434</td>\n",
       "      <td>85048</td>\n",
       "      <td>15CM CHRISTMAS GLASS BALL 20 LIGHTS</td>\n",
       "      <td>12</td>\n",
       "      <td>2009-12-01 07:45:00</td>\n",
       "      <td>6.95</td>\n",
       "      <td>13085.0</td>\n",
       "      <td>United Kingdom</td>\n",
       "      <td>2009</td>\n",
       "      <td>12</td>\n",
       "      <td>83.40</td>\n",
       "    </tr>\n",
       "    <tr>\n",
       "      <th>1</th>\n",
       "      <td>489434</td>\n",
       "      <td>79323P</td>\n",
       "      <td>PINK CHERRY LIGHTS</td>\n",
       "      <td>12</td>\n",
       "      <td>2009-12-01 07:45:00</td>\n",
       "      <td>6.75</td>\n",
       "      <td>13085.0</td>\n",
       "      <td>United Kingdom</td>\n",
       "      <td>2009</td>\n",
       "      <td>12</td>\n",
       "      <td>81.00</td>\n",
       "    </tr>\n",
       "    <tr>\n",
       "      <th>2</th>\n",
       "      <td>489434</td>\n",
       "      <td>79323W</td>\n",
       "      <td>WHITE CHERRY LIGHTS</td>\n",
       "      <td>12</td>\n",
       "      <td>2009-12-01 07:45:00</td>\n",
       "      <td>6.75</td>\n",
       "      <td>13085.0</td>\n",
       "      <td>United Kingdom</td>\n",
       "      <td>2009</td>\n",
       "      <td>12</td>\n",
       "      <td>81.00</td>\n",
       "    </tr>\n",
       "    <tr>\n",
       "      <th>3</th>\n",
       "      <td>489434</td>\n",
       "      <td>22041</td>\n",
       "      <td>RECORD FRAME 7\" SINGLE SIZE</td>\n",
       "      <td>48</td>\n",
       "      <td>2009-12-01 07:45:00</td>\n",
       "      <td>2.10</td>\n",
       "      <td>13085.0</td>\n",
       "      <td>United Kingdom</td>\n",
       "      <td>2009</td>\n",
       "      <td>12</td>\n",
       "      <td>100.80</td>\n",
       "    </tr>\n",
       "    <tr>\n",
       "      <th>4</th>\n",
       "      <td>489434</td>\n",
       "      <td>21232</td>\n",
       "      <td>STRAWBERRY CERAMIC TRINKET BOX</td>\n",
       "      <td>24</td>\n",
       "      <td>2009-12-01 07:45:00</td>\n",
       "      <td>1.25</td>\n",
       "      <td>13085.0</td>\n",
       "      <td>United Kingdom</td>\n",
       "      <td>2009</td>\n",
       "      <td>12</td>\n",
       "      <td>30.00</td>\n",
       "    </tr>\n",
       "    <tr>\n",
       "      <th>...</th>\n",
       "      <td>...</td>\n",
       "      <td>...</td>\n",
       "      <td>...</td>\n",
       "      <td>...</td>\n",
       "      <td>...</td>\n",
       "      <td>...</td>\n",
       "      <td>...</td>\n",
       "      <td>...</td>\n",
       "      <td>...</td>\n",
       "      <td>...</td>\n",
       "      <td>...</td>\n",
       "    </tr>\n",
       "    <tr>\n",
       "      <th>74933</th>\n",
       "      <td>C496242</td>\n",
       "      <td>85118</td>\n",
       "      <td>HEART T-LIGHT HOLDER</td>\n",
       "      <td>-26</td>\n",
       "      <td>2010-01-29 14:51:00</td>\n",
       "      <td>0.38</td>\n",
       "      <td>13557.0</td>\n",
       "      <td>United Kingdom</td>\n",
       "      <td>2010</td>\n",
       "      <td>1</td>\n",
       "      <td>-9.88</td>\n",
       "    </tr>\n",
       "    <tr>\n",
       "      <th>74934</th>\n",
       "      <td>C496243</td>\n",
       "      <td>85123A</td>\n",
       "      <td>WHITE HANGING HEART T-LIGHT HOLDER</td>\n",
       "      <td>-2</td>\n",
       "      <td>2010-01-29 14:53:00</td>\n",
       "      <td>2.55</td>\n",
       "      <td>18065.0</td>\n",
       "      <td>United Kingdom</td>\n",
       "      <td>2010</td>\n",
       "      <td>1</td>\n",
       "      <td>-5.10</td>\n",
       "    </tr>\n",
       "    <tr>\n",
       "      <th>74935</th>\n",
       "      <td>C496244</td>\n",
       "      <td>90010B</td>\n",
       "      <td>BLACK/WHITE GLASS/SILVER BRACELET</td>\n",
       "      <td>-1</td>\n",
       "      <td>2010-01-29 14:54:00</td>\n",
       "      <td>8.95</td>\n",
       "      <td>14949.0</td>\n",
       "      <td>United Kingdom</td>\n",
       "      <td>2010</td>\n",
       "      <td>1</td>\n",
       "      <td>-8.95</td>\n",
       "    </tr>\n",
       "    <tr>\n",
       "      <th>74936</th>\n",
       "      <td>C496244</td>\n",
       "      <td>21232</td>\n",
       "      <td>STRAWBERRY CERAMIC TRINKET BOX</td>\n",
       "      <td>-3</td>\n",
       "      <td>2010-01-29 14:54:00</td>\n",
       "      <td>1.25</td>\n",
       "      <td>14949.0</td>\n",
       "      <td>United Kingdom</td>\n",
       "      <td>2010</td>\n",
       "      <td>1</td>\n",
       "      <td>-3.75</td>\n",
       "    </tr>\n",
       "    <tr>\n",
       "      <th>74937</th>\n",
       "      <td>496245</td>\n",
       "      <td>21911</td>\n",
       "      <td>GARDEN METAL SIGN</td>\n",
       "      <td>12</td>\n",
       "      <td>2010-01-29 15:25:00</td>\n",
       "      <td>1.65</td>\n",
       "      <td>16390.0</td>\n",
       "      <td>United Kingdom</td>\n",
       "      <td>2010</td>\n",
       "      <td>1</td>\n",
       "      <td>19.80</td>\n",
       "    </tr>\n",
       "  </tbody>\n",
       "</table>\n",
       "<p>74938 rows × 11 columns</p>\n",
       "</div>"
      ],
      "text/plain": [
       "       Invoice StockCode                          Description  Quantity  \\\n",
       "0       489434     85048  15CM CHRISTMAS GLASS BALL 20 LIGHTS        12   \n",
       "1       489434    79323P                   PINK CHERRY LIGHTS        12   \n",
       "2       489434    79323W                  WHITE CHERRY LIGHTS        12   \n",
       "3       489434     22041         RECORD FRAME 7\" SINGLE SIZE         48   \n",
       "4       489434     21232       STRAWBERRY CERAMIC TRINKET BOX        24   \n",
       "...        ...       ...                                  ...       ...   \n",
       "74933  C496242     85118                 HEART T-LIGHT HOLDER       -26   \n",
       "74934  C496243    85123A   WHITE HANGING HEART T-LIGHT HOLDER        -2   \n",
       "74935  C496244    90010B    BLACK/WHITE GLASS/SILVER BRACELET        -1   \n",
       "74936  C496244     21232       STRAWBERRY CERAMIC TRINKET BOX        -3   \n",
       "74937   496245     21911                   GARDEN METAL SIGN         12   \n",
       "\n",
       "              InvoiceDate  Price  Customer ID         Country  InvoiceYear  \\\n",
       "0     2009-12-01 07:45:00   6.95      13085.0  United Kingdom         2009   \n",
       "1     2009-12-01 07:45:00   6.75      13085.0  United Kingdom         2009   \n",
       "2     2009-12-01 07:45:00   6.75      13085.0  United Kingdom         2009   \n",
       "3     2009-12-01 07:45:00   2.10      13085.0  United Kingdom         2009   \n",
       "4     2009-12-01 07:45:00   1.25      13085.0  United Kingdom         2009   \n",
       "...                   ...    ...          ...             ...          ...   \n",
       "74933 2010-01-29 14:51:00   0.38      13557.0  United Kingdom         2010   \n",
       "74934 2010-01-29 14:53:00   2.55      18065.0  United Kingdom         2010   \n",
       "74935 2010-01-29 14:54:00   8.95      14949.0  United Kingdom         2010   \n",
       "74936 2010-01-29 14:54:00   1.25      14949.0  United Kingdom         2010   \n",
       "74937 2010-01-29 15:25:00   1.65      16390.0  United Kingdom         2010   \n",
       "\n",
       "       InvoiceMonth  Revenue  \n",
       "0                12    83.40  \n",
       "1                12    81.00  \n",
       "2                12    81.00  \n",
       "3                12   100.80  \n",
       "4                12    30.00  \n",
       "...             ...      ...  \n",
       "74933             1    -9.88  \n",
       "74934             1    -5.10  \n",
       "74935             1    -8.95  \n",
       "74936             1    -3.75  \n",
       "74937             1    19.80  \n",
       "\n",
       "[74938 rows x 11 columns]"
      ]
     },
     "execution_count": 4,
     "metadata": {},
     "output_type": "execute_result"
    }
   ],
   "source": [
    "# Tính doanh thu\n",
    "retail['Revenue'] = retail['Quantity'] * retail['Price']\n",
    "retail"
   ]
  },
  {
   "cell_type": "code",
   "execution_count": 5,
   "metadata": {},
   "outputs": [
    {
     "data": {
      "text/html": [
       "<div>\n",
       "<style scoped>\n",
       "    .dataframe tbody tr th:only-of-type {\n",
       "        vertical-align: middle;\n",
       "    }\n",
       "\n",
       "    .dataframe tbody tr th {\n",
       "        vertical-align: top;\n",
       "    }\n",
       "\n",
       "    .dataframe thead th {\n",
       "        text-align: right;\n",
       "    }\n",
       "</style>\n",
       "<table border=\"1\" class=\"dataframe\">\n",
       "  <thead>\n",
       "    <tr style=\"text-align: right;\">\n",
       "      <th></th>\n",
       "      <th>Country</th>\n",
       "      <th>InvoiceYear</th>\n",
       "      <th>Customer ID</th>\n",
       "    </tr>\n",
       "  </thead>\n",
       "  <tbody>\n",
       "    <tr>\n",
       "      <th>0</th>\n",
       "      <td>United Kingdom</td>\n",
       "      <td>2009</td>\n",
       "      <td>29468</td>\n",
       "    </tr>\n",
       "    <tr>\n",
       "      <th>1</th>\n",
       "      <td>United Kingdom</td>\n",
       "      <td>2010</td>\n",
       "      <td>18839</td>\n",
       "    </tr>\n",
       "    <tr>\n",
       "      <th>2</th>\n",
       "      <td>EIRE</td>\n",
       "      <td>2010</td>\n",
       "      <td>553</td>\n",
       "    </tr>\n",
       "    <tr>\n",
       "      <th>3</th>\n",
       "      <td>EIRE</td>\n",
       "      <td>2009</td>\n",
       "      <td>519</td>\n",
       "    </tr>\n",
       "    <tr>\n",
       "      <th>4</th>\n",
       "      <td>Germany</td>\n",
       "      <td>2010</td>\n",
       "      <td>516</td>\n",
       "    </tr>\n",
       "    <tr>\n",
       "      <th>5</th>\n",
       "      <td>Germany</td>\n",
       "      <td>2009</td>\n",
       "      <td>420</td>\n",
       "    </tr>\n",
       "    <tr>\n",
       "      <th>6</th>\n",
       "      <td>France</td>\n",
       "      <td>2009</td>\n",
       "      <td>337</td>\n",
       "    </tr>\n",
       "    <tr>\n",
       "      <th>7</th>\n",
       "      <td>France</td>\n",
       "      <td>2010</td>\n",
       "      <td>311</td>\n",
       "    </tr>\n",
       "    <tr>\n",
       "      <th>8</th>\n",
       "      <td>Spain</td>\n",
       "      <td>2009</td>\n",
       "      <td>237</td>\n",
       "    </tr>\n",
       "    <tr>\n",
       "      <th>9</th>\n",
       "      <td>Cyprus</td>\n",
       "      <td>2009</td>\n",
       "      <td>196</td>\n",
       "    </tr>\n",
       "    <tr>\n",
       "      <th>10</th>\n",
       "      <td>Netherlands</td>\n",
       "      <td>2009</td>\n",
       "      <td>155</td>\n",
       "    </tr>\n",
       "    <tr>\n",
       "      <th>11</th>\n",
       "      <td>Netherlands</td>\n",
       "      <td>2010</td>\n",
       "      <td>151</td>\n",
       "    </tr>\n",
       "    <tr>\n",
       "      <th>12</th>\n",
       "      <td>Spain</td>\n",
       "      <td>2010</td>\n",
       "      <td>132</td>\n",
       "    </tr>\n",
       "    <tr>\n",
       "      <th>13</th>\n",
       "      <td>USA</td>\n",
       "      <td>2010</td>\n",
       "      <td>105</td>\n",
       "    </tr>\n",
       "    <tr>\n",
       "      <th>14</th>\n",
       "      <td>Greece</td>\n",
       "      <td>2010</td>\n",
       "      <td>101</td>\n",
       "    </tr>\n",
       "    <tr>\n",
       "      <th>15</th>\n",
       "      <td>Portugal</td>\n",
       "      <td>2009</td>\n",
       "      <td>98</td>\n",
       "    </tr>\n",
       "    <tr>\n",
       "      <th>16</th>\n",
       "      <td>Belgium</td>\n",
       "      <td>2010</td>\n",
       "      <td>94</td>\n",
       "    </tr>\n",
       "    <tr>\n",
       "      <th>17</th>\n",
       "      <td>Unspecified</td>\n",
       "      <td>2010</td>\n",
       "      <td>65</td>\n",
       "    </tr>\n",
       "    <tr>\n",
       "      <th>18</th>\n",
       "      <td>United Arab Emirates</td>\n",
       "      <td>2009</td>\n",
       "      <td>57</td>\n",
       "    </tr>\n",
       "    <tr>\n",
       "      <th>19</th>\n",
       "      <td>Channel Islands</td>\n",
       "      <td>2009</td>\n",
       "      <td>43</td>\n",
       "    </tr>\n",
       "    <tr>\n",
       "      <th>20</th>\n",
       "      <td>Greece</td>\n",
       "      <td>2009</td>\n",
       "      <td>41</td>\n",
       "    </tr>\n",
       "    <tr>\n",
       "      <th>21</th>\n",
       "      <td>Denmark</td>\n",
       "      <td>2010</td>\n",
       "      <td>40</td>\n",
       "    </tr>\n",
       "    <tr>\n",
       "      <th>22</th>\n",
       "      <td>Austria</td>\n",
       "      <td>2009</td>\n",
       "      <td>38</td>\n",
       "    </tr>\n",
       "    <tr>\n",
       "      <th>23</th>\n",
       "      <td>Finland</td>\n",
       "      <td>2010</td>\n",
       "      <td>35</td>\n",
       "    </tr>\n",
       "    <tr>\n",
       "      <th>24</th>\n",
       "      <td>Channel Islands</td>\n",
       "      <td>2010</td>\n",
       "      <td>28</td>\n",
       "    </tr>\n",
       "    <tr>\n",
       "      <th>25</th>\n",
       "      <td>Australia</td>\n",
       "      <td>2009</td>\n",
       "      <td>27</td>\n",
       "    </tr>\n",
       "    <tr>\n",
       "      <th>26</th>\n",
       "      <td>Italy</td>\n",
       "      <td>2009</td>\n",
       "      <td>24</td>\n",
       "    </tr>\n",
       "    <tr>\n",
       "      <th>27</th>\n",
       "      <td>Poland</td>\n",
       "      <td>2009</td>\n",
       "      <td>22</td>\n",
       "    </tr>\n",
       "    <tr>\n",
       "      <th>28</th>\n",
       "      <td>Norway</td>\n",
       "      <td>2009</td>\n",
       "      <td>21</td>\n",
       "    </tr>\n",
       "    <tr>\n",
       "      <th>29</th>\n",
       "      <td>Belgium</td>\n",
       "      <td>2009</td>\n",
       "      <td>20</td>\n",
       "    </tr>\n",
       "    <tr>\n",
       "      <th>30</th>\n",
       "      <td>Switzerland</td>\n",
       "      <td>2009</td>\n",
       "      <td>15</td>\n",
       "    </tr>\n",
       "    <tr>\n",
       "      <th>31</th>\n",
       "      <td>Sweden</td>\n",
       "      <td>2010</td>\n",
       "      <td>13</td>\n",
       "    </tr>\n",
       "    <tr>\n",
       "      <th>32</th>\n",
       "      <td>Denmark</td>\n",
       "      <td>2009</td>\n",
       "      <td>11</td>\n",
       "    </tr>\n",
       "    <tr>\n",
       "      <th>33</th>\n",
       "      <td>Finland</td>\n",
       "      <td>2009</td>\n",
       "      <td>4</td>\n",
       "    </tr>\n",
       "    <tr>\n",
       "      <th>34</th>\n",
       "      <td>Cyprus</td>\n",
       "      <td>2010</td>\n",
       "      <td>4</td>\n",
       "    </tr>\n",
       "    <tr>\n",
       "      <th>35</th>\n",
       "      <td>Sweden</td>\n",
       "      <td>2009</td>\n",
       "      <td>3</td>\n",
       "    </tr>\n",
       "    <tr>\n",
       "      <th>36</th>\n",
       "      <td>Japan</td>\n",
       "      <td>2009</td>\n",
       "      <td>3</td>\n",
       "    </tr>\n",
       "    <tr>\n",
       "      <th>37</th>\n",
       "      <td>Portugal</td>\n",
       "      <td>2010</td>\n",
       "      <td>2</td>\n",
       "    </tr>\n",
       "    <tr>\n",
       "      <th>38</th>\n",
       "      <td>Italy</td>\n",
       "      <td>2010</td>\n",
       "      <td>1</td>\n",
       "    </tr>\n",
       "    <tr>\n",
       "      <th>39</th>\n",
       "      <td>USA</td>\n",
       "      <td>2009</td>\n",
       "      <td>1</td>\n",
       "    </tr>\n",
       "    <tr>\n",
       "      <th>40</th>\n",
       "      <td>Nigeria</td>\n",
       "      <td>2010</td>\n",
       "      <td>1</td>\n",
       "    </tr>\n",
       "    <tr>\n",
       "      <th>41</th>\n",
       "      <td>Japan</td>\n",
       "      <td>2010</td>\n",
       "      <td>1</td>\n",
       "    </tr>\n",
       "    <tr>\n",
       "      <th>42</th>\n",
       "      <td>Nigeria</td>\n",
       "      <td>2009</td>\n",
       "      <td>0</td>\n",
       "    </tr>\n",
       "  </tbody>\n",
       "</table>\n",
       "</div>"
      ],
      "text/plain": [
       "                 Country  InvoiceYear  Customer ID\n",
       "0         United Kingdom         2009        29468\n",
       "1         United Kingdom         2010        18839\n",
       "2                   EIRE         2010          553\n",
       "3                   EIRE         2009          519\n",
       "4                Germany         2010          516\n",
       "5                Germany         2009          420\n",
       "6                 France         2009          337\n",
       "7                 France         2010          311\n",
       "8                  Spain         2009          237\n",
       "9                 Cyprus         2009          196\n",
       "10           Netherlands         2009          155\n",
       "11           Netherlands         2010          151\n",
       "12                 Spain         2010          132\n",
       "13                   USA         2010          105\n",
       "14                Greece         2010          101\n",
       "15              Portugal         2009           98\n",
       "16               Belgium         2010           94\n",
       "17           Unspecified         2010           65\n",
       "18  United Arab Emirates         2009           57\n",
       "19       Channel Islands         2009           43\n",
       "20                Greece         2009           41\n",
       "21               Denmark         2010           40\n",
       "22               Austria         2009           38\n",
       "23               Finland         2010           35\n",
       "24       Channel Islands         2010           28\n",
       "25             Australia         2009           27\n",
       "26                 Italy         2009           24\n",
       "27                Poland         2009           22\n",
       "28                Norway         2009           21\n",
       "29               Belgium         2009           20\n",
       "30           Switzerland         2009           15\n",
       "31                Sweden         2010           13\n",
       "32               Denmark         2009           11\n",
       "33               Finland         2009            4\n",
       "34                Cyprus         2010            4\n",
       "35                Sweden         2009            3\n",
       "36                 Japan         2009            3\n",
       "37              Portugal         2010            2\n",
       "38                 Italy         2010            1\n",
       "39                   USA         2009            1\n",
       "40               Nigeria         2010            1\n",
       "41                 Japan         2010            1\n",
       "42               Nigeria         2009            0"
      ]
     },
     "execution_count": 5,
     "metadata": {},
     "output_type": "execute_result"
    }
   ],
   "source": [
    "# Đếm ID khách hàng và nhóm theo Quốc gia và Năm hóa đơn\n",
    "customerid_country = retail.groupby(['Country', 'InvoiceYear'])['Customer ID'].count().sort_values(ascending=False).reset_index()\n",
    "customerid_country"
   ]
  },
  {
   "cell_type": "code",
   "execution_count": 6,
   "metadata": {},
   "outputs": [
    {
     "data": {
      "text/plain": [
       "[]"
      ]
     },
     "execution_count": 6,
     "metadata": {},
     "output_type": "execute_result"
    },
    {
     "data": {
      "image/png": "[encoded data removed]",
      "text/plain": [
       "<Figure size 640x480 with 1 Axes>"
      ]
     },
     "metadata": {},
     "output_type": "display_data"
    }
   ],
   "source": [
    "# Distribution of customers by country\n",
    "customerid_vs_country = sns.scatterplot(x = 'Country', y = 'Customer ID', hue = 'InvoiceYear', data = customerid_country)\n",
    "customerid_vs_country.set_xlabel('Country')\n",
    "customerid_vs_country.set_ylabel('Unique Customer Count')\n",
    "customerid_vs_country.set_title('Customer Count vs Country')\n",
    "plt.xticks(rotation=90)\n",
    "plt.plot()"
   ]
  },
  {
   "cell_type": "code",
   "execution_count": 7,
   "metadata": {},
   "outputs": [
    {
     "data": {
      "text/html": [
       "<div>\n",
       "<style scoped>\n",
       "    .dataframe tbody tr th:only-of-type {\n",
       "        vertical-align: middle;\n",
       "    }\n",
       "\n",
       "    .dataframe tbody tr th {\n",
       "        vertical-align: top;\n",
       "    }\n",
       "\n",
       "    .dataframe thead th {\n",
       "        text-align: right;\n",
       "    }\n",
       "</style>\n",
       "<table border=\"1\" class=\"dataframe\">\n",
       "  <thead>\n",
       "    <tr style=\"text-align: right;\">\n",
       "      <th></th>\n",
       "      <th>Country</th>\n",
       "      <th>Revenue</th>\n",
       "    </tr>\n",
       "  </thead>\n",
       "  <tbody>\n",
       "    <tr>\n",
       "      <th>0</th>\n",
       "      <td>United Kingdom</td>\n",
       "      <td>1200223.392</td>\n",
       "    </tr>\n",
       "    <tr>\n",
       "      <th>1</th>\n",
       "      <td>EIRE</td>\n",
       "      <td>77864.860</td>\n",
       "    </tr>\n",
       "    <tr>\n",
       "      <th>2</th>\n",
       "      <td>Netherlands</td>\n",
       "      <td>44417.120</td>\n",
       "    </tr>\n",
       "    <tr>\n",
       "      <th>3</th>\n",
       "      <td>Germany</td>\n",
       "      <td>19928.090</td>\n",
       "    </tr>\n",
       "    <tr>\n",
       "      <th>4</th>\n",
       "      <td>France</td>\n",
       "      <td>13583.790</td>\n",
       "    </tr>\n",
       "  </tbody>\n",
       "</table>\n",
       "</div>"
      ],
      "text/plain": [
       "          Country      Revenue\n",
       "0  United Kingdom  1200223.392\n",
       "1            EIRE    77864.860\n",
       "2     Netherlands    44417.120\n",
       "3         Germany    19928.090\n",
       "4          France    13583.790"
      ]
     },
     "execution_count": 7,
     "metadata": {},
     "output_type": "execute_result"
    }
   ],
   "source": [
    "\n",
    "# Tính tổng Doanh thu của từng quốc gia và sắp xếp các quốc gia có Doanh thu cao nhất\n",
    "country_revenue = retail.groupby('Country')['Revenue'].sum().sort_values(ascending=False).head().reset_index()\n",
    "country_revenue"
   ]
  },
  {
   "cell_type": "code",
   "execution_count": 8,
   "metadata": {},
   "outputs": [
    {
     "data": {
      "image/png": "[encoded data removed]",
      "text/plain": [
       "<Figure size 640x480 with 1 Axes>"
      ]
     },
     "metadata": {},
     "output_type": "display_data"
    }
   ],
   "source": [
    "from matplotlib.ticker import FuncFormatter\n",
    "# Hàm định dạng giá trị trục y\n",
    "def format_thousands(x, pos):\n",
    "    return f'{x/1000:.0f}K'\n",
    "# Vẽ biểu đồ thanh\n",
    "colors = ['Green', 'Blue', 'Purple', 'Yellow', 'Red']\n",
    "plt.bar(country_revenue['Country'], country_revenue['Revenue'], color=colors)\n",
    "\n",
    "# Định dạng trục y theo đơn vị hàng nghìn\n",
    "plt.gca().yaxis.set_major_formatter(FuncFormatter(format_thousands))\n",
    "\n",
    "plt.xlabel('Country')\n",
    "plt.ylabel('Revenue')\n",
    "plt.title('Revenue based on Country')\n",
    "plt.show()"
   ]
  },
  {
   "cell_type": "code",
   "execution_count": 9,
   "metadata": {},
   "outputs": [
    {
     "data": {
      "text/html": [
       "<div>\n",
       "<style scoped>\n",
       "    .dataframe tbody tr th:only-of-type {\n",
       "        vertical-align: middle;\n",
       "    }\n",
       "\n",
       "    .dataframe tbody tr th {\n",
       "        vertical-align: top;\n",
       "    }\n",
       "\n",
       "    .dataframe thead th {\n",
       "        text-align: right;\n",
       "    }\n",
       "</style>\n",
       "<table border=\"1\" class=\"dataframe\">\n",
       "  <thead>\n",
       "    <tr style=\"text-align: right;\">\n",
       "      <th></th>\n",
       "      <th>Customer ID</th>\n",
       "      <th>Country</th>\n",
       "      <th>Quantity</th>\n",
       "    </tr>\n",
       "  </thead>\n",
       "  <tbody>\n",
       "    <tr>\n",
       "      <th>0</th>\n",
       "      <td>13902.0</td>\n",
       "      <td>Denmark</td>\n",
       "      <td>63390</td>\n",
       "    </tr>\n",
       "    <tr>\n",
       "      <th>1</th>\n",
       "      <td>13694.0</td>\n",
       "      <td>United Kingdom</td>\n",
       "      <td>47742</td>\n",
       "    </tr>\n",
       "    <tr>\n",
       "      <th>2</th>\n",
       "      <td>14156.0</td>\n",
       "      <td>EIRE</td>\n",
       "      <td>32504</td>\n",
       "    </tr>\n",
       "    <tr>\n",
       "      <th>3</th>\n",
       "      <td>18102.0</td>\n",
       "      <td>United Kingdom</td>\n",
       "      <td>31020</td>\n",
       "    </tr>\n",
       "    <tr>\n",
       "      <th>4</th>\n",
       "      <td>14646.0</td>\n",
       "      <td>Netherlands</td>\n",
       "      <td>30875</td>\n",
       "    </tr>\n",
       "    <tr>\n",
       "      <th>...</th>\n",
       "      <td>...</td>\n",
       "      <td>...</td>\n",
       "      <td>...</td>\n",
       "    </tr>\n",
       "    <tr>\n",
       "      <th>95</th>\n",
       "      <td>16749.0</td>\n",
       "      <td>United Kingdom</td>\n",
       "      <td>1086</td>\n",
       "    </tr>\n",
       "    <tr>\n",
       "      <th>96</th>\n",
       "      <td>14439.0</td>\n",
       "      <td>Greece</td>\n",
       "      <td>1086</td>\n",
       "    </tr>\n",
       "    <tr>\n",
       "      <th>97</th>\n",
       "      <td>15738.0</td>\n",
       "      <td>United Kingdom</td>\n",
       "      <td>1067</td>\n",
       "    </tr>\n",
       "    <tr>\n",
       "      <th>98</th>\n",
       "      <td>12531.0</td>\n",
       "      <td>Germany</td>\n",
       "      <td>1059</td>\n",
       "    </tr>\n",
       "    <tr>\n",
       "      <th>99</th>\n",
       "      <td>17593.0</td>\n",
       "      <td>United Kingdom</td>\n",
       "      <td>1044</td>\n",
       "    </tr>\n",
       "  </tbody>\n",
       "</table>\n",
       "<p>100 rows × 3 columns</p>\n",
       "</div>"
      ],
      "text/plain": [
       "    Customer ID         Country  Quantity\n",
       "0       13902.0         Denmark     63390\n",
       "1       13694.0  United Kingdom     47742\n",
       "2       14156.0            EIRE     32504\n",
       "3       18102.0  United Kingdom     31020\n",
       "4       14646.0     Netherlands     30875\n",
       "..          ...             ...       ...\n",
       "95      16749.0  United Kingdom      1086\n",
       "96      14439.0          Greece      1086\n",
       "97      15738.0  United Kingdom      1067\n",
       "98      12531.0         Germany      1059\n",
       "99      17593.0  United Kingdom      1044\n",
       "\n",
       "[100 rows x 3 columns]"
      ]
     },
     "execution_count": 9,
     "metadata": {},
     "output_type": "execute_result"
    }
   ],
   "source": [
    "# Đếm số lượng và nhóm theo mã khách hàng và quốc gia\n",
    "customerid_quantity = retail.groupby(['Customer ID', 'Country'])['Quantity'].sum().sort_values(ascending=False).reset_index().head(100)\n",
    "customerid_quantity"
   ]
  },
  {
   "cell_type": "code",
   "execution_count": 10,
   "metadata": {},
   "outputs": [
    {
     "data": {
      "text/plain": [
       "[]"
      ]
     },
     "execution_count": 10,
     "metadata": {},
     "output_type": "execute_result"
    },
    {
     "data": {
      "image/png": "[encoded data removed]",
      "text/plain": [
       "<Figure size 640x480 with 1 Axes>"
      ]
     },
     "metadata": {},
     "output_type": "display_data"
    }
   ],
   "source": [
    "# Tạo biểu đồ phân tán\n",
    "customerid_vs_quantity = sns.scatterplot(x = 'Customer ID', y = 'Quantity', hue = 'Country', data = customerid_quantity)\n",
    "customerid_vs_quantity.set_xlabel('Customer ID')\n",
    "customerid_vs_quantity.set_ylabel('Quantity')\n",
    "customerid_vs_quantity.set_title('Quantity vs Customer ID according to the Country')\n",
    "plt.plot()"
   ]
  },
  {
   "cell_type": "code",
   "execution_count": 11,
   "metadata": {},
   "outputs": [
    {
     "data": {
      "text/plain": [
       "Customer ID\n",
       "18102.0    79561.04\n",
       "14156.0    59798.51\n",
       "14646.0    43593.79\n",
       "13694.0    40029.29\n",
       "17850.0    15480.18\n",
       "15061.0    14756.02\n",
       "15311.0    14571.89\n",
       "14911.0    14469.99\n",
       "16029.0    13544.52\n",
       "17511.0    12815.90\n",
       "Name: Revenue, dtype: float64"
      ]
     },
     "execution_count": 11,
     "metadata": {},
     "output_type": "execute_result"
    }
   ],
   "source": [
    "# Tổng doanh thu của từng ID khách hàng\n",
    "customerid_revenue = retail.groupby('Customer ID')['Revenue'].sum().sort_values(ascending=False).head(10)\n",
    "customerid_revenue"
   ]
  },
  {
   "cell_type": "code",
   "execution_count": 12,
   "metadata": {},
   "outputs": [
    {
     "data": {
      "image/png": "[encoded data removed]",
      "text/plain": [
       "<Figure size 640x480 with 1 Axes>"
      ]
     },
     "metadata": {},
     "output_type": "display_data"
    }
   ],
   "source": [
    "customerid_revenue.plot(kind = 'pie', autopct='%1.1f%%')\n",
    "plt.title('Percentage Revenue based on Top 10 Customers')\n",
    "plt.show()"
   ]
  },
  {
   "cell_type": "code",
   "execution_count": 13,
   "metadata": {},
   "outputs": [
    {
     "name": "stdout",
     "output_type": "stream",
     "text": [
      "<class 'pandas.core.frame.DataFrame'>\n",
      "RangeIndex: 74938 entries, 0 to 74937\n",
      "Data columns (total 11 columns):\n",
      " #   Column        Non-Null Count  Dtype         \n",
      "---  ------        --------------  -----         \n",
      " 0   Invoice       74938 non-null  object        \n",
      " 1   StockCode     74938 non-null  object        \n",
      " 2   Description   74495 non-null  object        \n",
      " 3   Quantity      74938 non-null  int64         \n",
      " 4   InvoiceDate   74938 non-null  datetime64[ns]\n",
      " 5   Price         74938 non-null  float64       \n",
      " 6   Customer ID   52752 non-null  float64       \n",
      " 7   Country       74938 non-null  object        \n",
      " 8   InvoiceYear   74938 non-null  int64         \n",
      " 9   InvoiceMonth  74938 non-null  int64         \n",
      " 10  Revenue       74938 non-null  float64       \n",
      "dtypes: datetime64[ns](1), float64(3), int64(3), object(4)\n",
      "memory usage: 6.3+ MB\n"
     ]
    }
   ],
   "source": [
    "retail.info()"
   ]
  },
  {
   "cell_type": "code",
   "execution_count": 14,
   "metadata": {},
   "outputs": [
    {
     "data": {
      "text/plain": [
       "Invoice             0\n",
       "StockCode           0\n",
       "Description       443\n",
       "Quantity            0\n",
       "InvoiceDate         0\n",
       "Price               0\n",
       "Customer ID     22186\n",
       "Country             0\n",
       "InvoiceYear         0\n",
       "InvoiceMonth        0\n",
       "Revenue             0\n",
       "dtype: int64"
      ]
     },
     "execution_count": 14,
     "metadata": {},
     "output_type": "execute_result"
    }
   ],
   "source": [
    "retail.isnull().sum()"
   ]
  },
  {
   "cell_type": "code",
   "execution_count": 15,
   "metadata": {},
   "outputs": [],
   "source": [
    "retail = retail[retail['Customer ID'].notnull()]"
   ]
  },
  {
   "cell_type": "code",
   "execution_count": 16,
   "metadata": {},
   "outputs": [
    {
     "data": {
      "text/plain": [
       "Invoice         0\n",
       "StockCode       0\n",
       "Description     0\n",
       "Quantity        0\n",
       "InvoiceDate     0\n",
       "Price           0\n",
       "Customer ID     0\n",
       "Country         0\n",
       "InvoiceYear     0\n",
       "InvoiceMonth    0\n",
       "Revenue         0\n",
       "dtype: int64"
      ]
     },
     "execution_count": 16,
     "metadata": {},
     "output_type": "execute_result"
    }
   ],
   "source": [
    "retail.isnull().sum()"
   ]
  },
  {
   "cell_type": "code",
   "execution_count": 17,
   "metadata": {},
   "outputs": [],
   "source": [
    "retail.loc[:, 'Date'] = retail.apply(lambda x: dt.datetime(x.InvoiceDate.year,\n",
    "                                                           x.InvoiceDate.month,\n",
    "                                                           x.InvoiceDate.day), axis=1)"
   ]
  },
  {
   "cell_type": "code",
   "execution_count": 18,
   "metadata": {},
   "outputs": [
    {
     "data": {
      "text/plain": [
       "datetime.datetime(2024, 1, 8, 17, 48, 43, 78496)"
      ]
     },
     "execution_count": 18,
     "metadata": {},
     "output_type": "execute_result"
    }
   ],
   "source": [
    "dt.datetime.now()"
   ]
  },
  {
   "cell_type": "code",
   "execution_count": 19,
   "metadata": {},
   "outputs": [
    {
     "data": {
      "text/plain": [
       "Timestamp('2010-01-29 00:00:00')"
      ]
     },
     "execution_count": 19,
     "metadata": {},
     "output_type": "execute_result"
    }
   ],
   "source": [
    "retail.Date.max()"
   ]
  },
  {
   "cell_type": "code",
   "execution_count": 20,
   "metadata": {},
   "outputs": [],
   "source": [
    "current_date = retail.Date.max() + dt.timedelta(1)\n",
    "retail['Total Price'] = retail.apply(lambda x: x['Quantity'] * x['Price'], axis=1)"
   ]
  },
  {
   "cell_type": "code",
   "execution_count": 21,
   "metadata": {},
   "outputs": [],
   "source": [
    "rfm_df = retail.groupby('Customer ID').agg({\n",
    "    'Date' : (lambda x: (current_date - x.max()).days), # R\n",
    "    'Invoice' : 'count', # F\n",
    "    'Total Price' : 'sum' # M\n",
    "})"
   ]
  },
  {
   "cell_type": "code",
   "execution_count": 22,
   "metadata": {},
   "outputs": [
    {
     "data": {
      "text/html": [
       "<div>\n",
       "<style scoped>\n",
       "    .dataframe tbody tr th:only-of-type {\n",
       "        vertical-align: middle;\n",
       "    }\n",
       "\n",
       "    .dataframe tbody tr th {\n",
       "        vertical-align: top;\n",
       "    }\n",
       "\n",
       "    .dataframe thead th {\n",
       "        text-align: right;\n",
       "    }\n",
       "</style>\n",
       "<table border=\"1\" class=\"dataframe\">\n",
       "  <thead>\n",
       "    <tr style=\"text-align: right;\">\n",
       "      <th></th>\n",
       "      <th>Date</th>\n",
       "      <th>Invoice</th>\n",
       "      <th>Total Price</th>\n",
       "    </tr>\n",
       "    <tr>\n",
       "      <th>Customer ID</th>\n",
       "      <th></th>\n",
       "      <th></th>\n",
       "      <th></th>\n",
       "    </tr>\n",
       "  </thead>\n",
       "  <tbody>\n",
       "    <tr>\n",
       "      <th>12346.0</th>\n",
       "      <td>4</td>\n",
       "      <td>10</td>\n",
       "      <td>100.00</td>\n",
       "    </tr>\n",
       "    <tr>\n",
       "      <th>12349.0</th>\n",
       "      <td>57</td>\n",
       "      <td>5</td>\n",
       "      <td>-24.15</td>\n",
       "    </tr>\n",
       "    <tr>\n",
       "      <th>12358.0</th>\n",
       "      <td>53</td>\n",
       "      <td>17</td>\n",
       "      <td>1429.83</td>\n",
       "    </tr>\n",
       "    <tr>\n",
       "      <th>12359.0</th>\n",
       "      <td>45</td>\n",
       "      <td>36</td>\n",
       "      <td>760.69</td>\n",
       "    </tr>\n",
       "    <tr>\n",
       "      <th>12361.0</th>\n",
       "      <td>4</td>\n",
       "      <td>7</td>\n",
       "      <td>109.20</td>\n",
       "    </tr>\n",
       "  </tbody>\n",
       "</table>\n",
       "</div>"
      ],
      "text/plain": [
       "             Date  Invoice  Total Price\n",
       "Customer ID                            \n",
       "12346.0         4       10       100.00\n",
       "12349.0        57        5       -24.15\n",
       "12358.0        53       17      1429.83\n",
       "12359.0        45       36       760.69\n",
       "12361.0         4        7       109.20"
      ]
     },
     "execution_count": 22,
     "metadata": {},
     "output_type": "execute_result"
    }
   ],
   "source": [
    "rfm_df.head()"
   ]
  },
  {
   "cell_type": "code",
   "execution_count": 23,
   "metadata": {},
   "outputs": [
    {
     "data": {
      "text/plain": [
       "100.0"
      ]
     },
     "execution_count": 23,
     "metadata": {},
     "output_type": "execute_result"
    }
   ],
   "source": [
    "np.sum(retail[retail['Customer ID'] == 12346.0]['Quantity'] * retail[retail['Customer ID'] == 12346.0]['Price'])"
   ]
  },
  {
   "cell_type": "code",
   "execution_count": 24,
   "metadata": {},
   "outputs": [
    {
     "data": {
      "text/plain": [
       "Timedelta('4 days 00:00:00')"
      ]
     },
     "execution_count": 24,
     "metadata": {},
     "output_type": "execute_result"
    }
   ],
   "source": [
    "current_date - retail[retail['Customer ID'] == 12346.0]['Date'].max()"
   ]
  },
  {
   "cell_type": "code",
   "execution_count": 25,
   "metadata": {},
   "outputs": [],
   "source": [
    "rfm_df.rename({\n",
    "    'Date' : 'Recency',\n",
    "    'Invoice' : 'Frequency',\n",
    "    'Total Price' : 'Monetary'\n",
    "}, axis=1, inplace=True)"
   ]
  },
  {
   "cell_type": "code",
   "execution_count": 26,
   "metadata": {},
   "outputs": [
    {
     "data": {
      "text/plain": [
       "['R']"
      ]
     },
     "execution_count": 26,
     "metadata": {},
     "output_type": "execute_result"
    }
   ],
   "source": [
    "rfm_list = ['R', 'F', 'M']\n",
    "[rfm_list[i] for i in range(len(rfm_list)) if 'Recency'.find(rfm_list[i]) != -1]"
   ]
  },
  {
   "cell_type": "code",
   "execution_count": 27,
   "metadata": {},
   "outputs": [],
   "source": [
    "def bucketing_normalization(df:pd.DataFrame, feature:str, n_buckets:4, bucket_labels:range):\n",
    "    rfm_list = ['R', 'F', 'M']\n",
    "    colum_name = [rfm_list[i] for i in range(len(rfm_list)) if feature.find(rfm_list[i]) != -1][0]\n",
    "    df[colum_name] = pd.qcut(x=df[feature], q=n_buckets, labels=bucket_labels)\n",
    "    return df"
   ]
  },
  {
   "cell_type": "code",
   "execution_count": 28,
   "metadata": {},
   "outputs": [],
   "source": [
    "rfm_df = bucketing_normalization(rfm_df, 'Recency', 4, range(4, 0, -1))\n",
    "rfm_df = bucketing_normalization(rfm_df, 'Frequency', 4, range(1, 5))\n",
    "rfm_df = bucketing_normalization(rfm_df, 'Monetary', 4, range(1, 5))"
   ]
  },
  {
   "cell_type": "code",
   "execution_count": 29,
   "metadata": {},
   "outputs": [
    {
     "data": {
      "text/html": [
       "<div>\n",
       "<style scoped>\n",
       "    .dataframe tbody tr th:only-of-type {\n",
       "        vertical-align: middle;\n",
       "    }\n",
       "\n",
       "    .dataframe tbody tr th {\n",
       "        vertical-align: top;\n",
       "    }\n",
       "\n",
       "    .dataframe thead th {\n",
       "        text-align: right;\n",
       "    }\n",
       "</style>\n",
       "<table border=\"1\" class=\"dataframe\">\n",
       "  <thead>\n",
       "    <tr style=\"text-align: right;\">\n",
       "      <th></th>\n",
       "      <th>Recency</th>\n",
       "      <th>Frequency</th>\n",
       "      <th>Monetary</th>\n",
       "      <th>R</th>\n",
       "      <th>F</th>\n",
       "      <th>M</th>\n",
       "    </tr>\n",
       "    <tr>\n",
       "      <th>Customer ID</th>\n",
       "      <th></th>\n",
       "      <th></th>\n",
       "      <th></th>\n",
       "      <th></th>\n",
       "      <th></th>\n",
       "      <th></th>\n",
       "    </tr>\n",
       "  </thead>\n",
       "  <tbody>\n",
       "    <tr>\n",
       "      <th>12346.0</th>\n",
       "      <td>4</td>\n",
       "      <td>10</td>\n",
       "      <td>100.00</td>\n",
       "      <td>4</td>\n",
       "      <td>2</td>\n",
       "      <td>1</td>\n",
       "    </tr>\n",
       "    <tr>\n",
       "      <th>12349.0</th>\n",
       "      <td>57</td>\n",
       "      <td>5</td>\n",
       "      <td>-24.15</td>\n",
       "      <td>1</td>\n",
       "      <td>1</td>\n",
       "      <td>1</td>\n",
       "    </tr>\n",
       "    <tr>\n",
       "      <th>12358.0</th>\n",
       "      <td>53</td>\n",
       "      <td>17</td>\n",
       "      <td>1429.83</td>\n",
       "      <td>1</td>\n",
       "      <td>2</td>\n",
       "      <td>4</td>\n",
       "    </tr>\n",
       "    <tr>\n",
       "      <th>12359.0</th>\n",
       "      <td>45</td>\n",
       "      <td>36</td>\n",
       "      <td>760.69</td>\n",
       "      <td>2</td>\n",
       "      <td>3</td>\n",
       "      <td>4</td>\n",
       "    </tr>\n",
       "    <tr>\n",
       "      <th>12361.0</th>\n",
       "      <td>4</td>\n",
       "      <td>7</td>\n",
       "      <td>109.20</td>\n",
       "      <td>4</td>\n",
       "      <td>1</td>\n",
       "      <td>1</td>\n",
       "    </tr>\n",
       "  </tbody>\n",
       "</table>\n",
       "</div>"
      ],
      "text/plain": [
       "             Recency  Frequency  Monetary  R  F  M\n",
       "Customer ID                                       \n",
       "12346.0            4         10    100.00  4  2  1\n",
       "12349.0           57          5    -24.15  1  1  1\n",
       "12358.0           53         17   1429.83  1  2  4\n",
       "12359.0           45         36    760.69  2  3  4\n",
       "12361.0            4          7    109.20  4  1  1"
      ]
     },
     "execution_count": 29,
     "metadata": {},
     "output_type": "execute_result"
    }
   ],
   "source": [
    "rfm_df.head()"
   ]
  },
  {
   "cell_type": "markdown",
   "metadata": {},
   "source": [
    "K-means"
   ]
  },
  {
   "cell_type": "code",
   "execution_count": 30,
   "metadata": {},
   "outputs": [],
   "source": [
    "X = rfm_df[['R', 'F', 'M']]\n"
   ]
  },
  {
   "cell_type": "code",
   "execution_count": 31,
   "metadata": {},
   "outputs": [
    {
     "data": {
      "text/plain": [
       "KMeans(n_clusters=5)"
      ]
     },
     "execution_count": 31,
     "metadata": {},
     "output_type": "execute_result"
    }
   ],
   "source": [
    "kmeans = KMeans(n_clusters=5, init='k-means++', max_iter=300)\n",
    "kmeans.fit(X)"
   ]
  },
  {
   "cell_type": "code",
   "execution_count": 32,
   "metadata": {},
   "outputs": [],
   "source": [
    "rfm_df['KMeans y_pred'] = kmeans.labels_"
   ]
  },
  {
   "cell_type": "code",
   "execution_count": 33,
   "metadata": {},
   "outputs": [
    {
     "data": {
      "text/plain": [
       "(array([0, 1, 2, 3, 4]), array([123, 260, 375, 368, 289], dtype=int64))"
      ]
     },
     "execution_count": 33,
     "metadata": {},
     "output_type": "execute_result"
    }
   ],
   "source": [
    "np.unique(rfm_df['KMeans y_pred'], return_counts=True)"
   ]
  },
  {
   "cell_type": "code",
   "execution_count": 34,
   "metadata": {},
   "outputs": [
    {
     "data": {
      "text/html": [
       "<div>\n",
       "<style scoped>\n",
       "    .dataframe tbody tr th:only-of-type {\n",
       "        vertical-align: middle;\n",
       "    }\n",
       "\n",
       "    .dataframe tbody tr th {\n",
       "        vertical-align: top;\n",
       "    }\n",
       "\n",
       "    .dataframe thead th {\n",
       "        text-align: right;\n",
       "    }\n",
       "</style>\n",
       "<table border=\"1\" class=\"dataframe\">\n",
       "  <thead>\n",
       "    <tr style=\"text-align: right;\">\n",
       "      <th></th>\n",
       "      <th>Recency</th>\n",
       "      <th>Frequency</th>\n",
       "      <th>Monetary</th>\n",
       "      <th>R</th>\n",
       "      <th>F</th>\n",
       "      <th>M</th>\n",
       "      <th>KMeans y_pred</th>\n",
       "    </tr>\n",
       "    <tr>\n",
       "      <th>Customer ID</th>\n",
       "      <th></th>\n",
       "      <th></th>\n",
       "      <th></th>\n",
       "      <th></th>\n",
       "      <th></th>\n",
       "      <th></th>\n",
       "      <th></th>\n",
       "    </tr>\n",
       "  </thead>\n",
       "  <tbody>\n",
       "    <tr>\n",
       "      <th>12346.0</th>\n",
       "      <td>4</td>\n",
       "      <td>10</td>\n",
       "      <td>100.00</td>\n",
       "      <td>4</td>\n",
       "      <td>2</td>\n",
       "      <td>1</td>\n",
       "      <td>4</td>\n",
       "    </tr>\n",
       "    <tr>\n",
       "      <th>12349.0</th>\n",
       "      <td>57</td>\n",
       "      <td>5</td>\n",
       "      <td>-24.15</td>\n",
       "      <td>1</td>\n",
       "      <td>1</td>\n",
       "      <td>1</td>\n",
       "      <td>3</td>\n",
       "    </tr>\n",
       "    <tr>\n",
       "      <th>12358.0</th>\n",
       "      <td>53</td>\n",
       "      <td>17</td>\n",
       "      <td>1429.83</td>\n",
       "      <td>1</td>\n",
       "      <td>2</td>\n",
       "      <td>4</td>\n",
       "      <td>0</td>\n",
       "    </tr>\n",
       "    <tr>\n",
       "      <th>12359.0</th>\n",
       "      <td>45</td>\n",
       "      <td>36</td>\n",
       "      <td>760.69</td>\n",
       "      <td>2</td>\n",
       "      <td>3</td>\n",
       "      <td>4</td>\n",
       "      <td>1</td>\n",
       "    </tr>\n",
       "    <tr>\n",
       "      <th>12361.0</th>\n",
       "      <td>4</td>\n",
       "      <td>7</td>\n",
       "      <td>109.20</td>\n",
       "      <td>4</td>\n",
       "      <td>1</td>\n",
       "      <td>1</td>\n",
       "      <td>4</td>\n",
       "    </tr>\n",
       "  </tbody>\n",
       "</table>\n",
       "</div>"
      ],
      "text/plain": [
       "             Recency  Frequency  Monetary  R  F  M  KMeans y_pred\n",
       "Customer ID                                                      \n",
       "12346.0            4         10    100.00  4  2  1              4\n",
       "12349.0           57          5    -24.15  1  1  1              3\n",
       "12358.0           53         17   1429.83  1  2  4              0\n",
       "12359.0           45         36    760.69  2  3  4              1\n",
       "12361.0            4          7    109.20  4  1  1              4"
      ]
     },
     "execution_count": 34,
     "metadata": {},
     "output_type": "execute_result"
    }
   ],
   "source": [
    "rfm_df.head()"
   ]
  },
  {
   "cell_type": "code",
   "execution_count": 35,
   "metadata": {},
   "outputs": [],
   "source": [
    "def rfm_rel_labels(model_y_pred:str):\n",
    "    rfm_list = ['Recency', 'Frequency', 'Monetary']\n",
    "    fig, axs = plt.subplots(3, 1, figsize=(12, 12))\n",
    "    items = product(rfm_list, axs)\n",
    "    for i, item in enumerate(items):\n",
    "        # (i == 0) --> state 1: Recency and axis 0\n",
    "        # (i == 4) --> state 5: Frequency and axis 1\n",
    "        # (i == 8) --> state 9: Monetary and axis 2\n",
    "        if (i == 0) or (i == 4) or (i == 8):\n",
    "            item[1].scatter(x=[f'Cluster {clusterNum + 1}' if clusterNum != -1 else 'Outlier Cluster' for clusterNum in\n",
    "                              rfm_df.sort_values([model_y_pred])[model_y_pred].astype('int')],\n",
    "                       y=rfm_df.sort_values([model_y_pred])[item[0]], c=rfm_df.sort_values([model_y_pred])[model_y_pred])\n",
    "            item[1].set_title(model_y_pred, size=14)\n",
    "            item[1].set_xlabel('The Cluster Number')\n",
    "            item[1].set_ylabel(item[0])\n",
    "            plt.tight_layout()\n",
    "            if model_y_pred == 'DBSCAN y_pred':\n",
    "                item[1].tick_params(axis='x', labelrotation=90)"
   ]
  },
  {
   "cell_type": "code",
   "execution_count": 36,
   "metadata": {},
   "outputs": [],
   "source": [
    "class RFMDetails():\n",
    "  \n",
    "    def __init__(self, model_y_pred:str, with_average:bool=True, start:int=0):\n",
    "        self.model_y_pred = model_y_pred\n",
    "        self.with_average = with_average\n",
    "        self.start = start\n",
    "        self.rfm_mean = list()\n",
    "        self.get_mean_of_rfm()\n",
    "        self.rfm_mean_df = self.get_rfm_mean_df()\n",
    "\n",
    "\n",
    "    def get_mean_of_rfm(self):\n",
    "        if (self.start == 0) or (self.start == -1):\n",
    "            for i in range(self.start, len(rfm_df[self.model_y_pred].unique()) + self.start):\n",
    "                if self.with_average == True:\n",
    "                    print('The RFM dataframe Info:')\n",
    "                    print(rfm_df[['Recency', 'Frequency', 'Monetary']].describe().T[['count', 'mean', 'std', 'min', 'max']].T,\n",
    "                                                                                                                           '\\n')\n",
    "                    print(f'The Cluster {i + 1} Info:')\n",
    "                    print(rfm_df[rfm_df[self.model_y_pred] == i][['Recency', 'Frequency', 'Monetary']].describe().T[['count',\n",
    "                                                                                                                  'mean',\n",
    "                                                                                                                  'std',\n",
    "                                                                                                                  'min',\n",
    "                                                                                                                  'max']].T,\n",
    "                                                                                          '\\n')\n",
    "                    access = 1\n",
    "                    if access == 1:\n",
    "                        self.rfm_mean.append(rfm_df[rfm_df[self.model_y_pred] == i][['Recency', 'Frequency', 'Monetary']].mean().values)\n",
    "                        access = 0\n",
    "                else:\n",
    "                    access = 1\n",
    "                    if access == 1:\n",
    "                        self.rfm_mean.append(rfm_df[rfm_df[self.model_y_pred] == i][['Recency', 'Frequency', 'Monetary']].mean().values)\n",
    "                        access = 0\n",
    "        else:\n",
    "            print('You must set the start parameter with 0 or -1. for more information, please read docstring :)')\n",
    "\n",
    "\n",
    "    def get_rfm_mean_df(self):\n",
    "        s1 = [f\"Cluster {num + 1}\" if num != -1 else 'Outlier Cluster' for num in sorted(rfm_df[self.model_y_pred].unique())]\n",
    "        s2 = ['mean']\n",
    "        multi_index = pd.MultiIndex.from_product([s1, s2])\n",
    "        rfm_mean_df = pd.DataFrame(data=self.rfm_mean, columns=['Recency', 'Frequency', 'Monetary'], index=multi_index)\n",
    "        return rfm_mean_df"
   ]
  },
  {
   "cell_type": "code",
   "execution_count": 37,
   "metadata": {},
   "outputs": [
    {
     "name": "stdout",
     "output_type": "stream",
     "text": [
      "The RFM dataframe Info:\n",
      "           Recency    Frequency      Monetary\n",
      "count  1415.000000  1415.000000   1415.000000\n",
      "mean     29.333569    37.280565    831.452560\n",
      "std      21.464067    59.298442   3307.001464\n",
      "min       1.000000     1.000000  -1673.410000\n",
      "max      60.000000   844.000000  79561.040000 \n",
      "\n",
      "The Cluster 1 Info:\n",
      "          Recency   Frequency     Monetary\n",
      "count  123.000000  123.000000   123.000000\n",
      "mean    30.715447   12.219512   880.237724\n",
      "std     18.019807    6.801081   851.316327\n",
      "min      1.000000    1.000000   339.900000\n",
      "max     59.000000   22.000000  6037.320000 \n",
      "\n",
      "The RFM dataframe Info:\n",
      "           Recency    Frequency      Monetary\n",
      "count  1415.000000  1415.000000   1415.000000\n",
      "mean     29.333569    37.280565    831.452560\n",
      "std      21.464067    59.298442   3307.001464\n",
      "min       1.000000     1.000000  -1673.410000\n",
      "max      60.000000   844.000000  79561.040000 \n",
      "\n",
      "The Cluster 2 Info:\n",
      "          Recency   Frequency     Monetary\n",
      "count  260.000000  260.000000   260.000000\n",
      "mean    49.092308   47.988462   654.810462\n",
      "std      8.004773   29.757771   610.718820\n",
      "min     24.000000   10.000000  -450.040000\n",
      "max     60.000000  207.000000  5149.060000 \n",
      "\n",
      "The RFM dataframe Info:\n",
      "           Recency    Frequency      Monetary\n",
      "count  1415.000000  1415.000000   1415.000000\n",
      "mean     29.333569    37.280565    831.452560\n",
      "std      21.464067    59.298442   3307.001464\n",
      "min       1.000000     1.000000  -1673.410000\n",
      "max      60.000000   844.000000  79561.040000 \n",
      "\n",
      "The Cluster 3 Info:\n",
      "          Recency   Frequency      Monetary\n",
      "count  375.000000  375.000000    375.000000\n",
      "mean     9.114667   82.922667   2119.070859\n",
      "std      6.448908   94.682989   6190.945693\n",
      "min      1.000000   23.000000    175.260000\n",
      "max     23.000000  844.000000  79561.040000 \n",
      "\n",
      "The RFM dataframe Info:\n",
      "           Recency    Frequency      Monetary\n",
      "count  1415.000000  1415.000000   1415.000000\n",
      "mean     29.333569    37.280565    831.452560\n",
      "std      21.464067    59.298442   3307.001464\n",
      "min       1.000000     1.000000  -1673.410000\n",
      "max      60.000000   844.000000  79561.040000 \n",
      "\n",
      "The Cluster 4 Info:\n",
      "          Recency   Frequency     Monetary\n",
      "count  368.000000  368.000000   368.000000\n",
      "mean    51.304348   10.119565   130.350054\n",
      "std      6.868542    8.647303   159.397862\n",
      "min     24.000000    1.000000 -1673.410000\n",
      "max     60.000000   44.000000   337.100000 \n",
      "\n",
      "The RFM dataframe Info:\n",
      "           Recency    Frequency      Monetary\n",
      "count  1415.000000  1415.000000   1415.000000\n",
      "mean     29.333569    37.280565    831.452560\n",
      "std      21.464067    59.298442   3307.001464\n",
      "min       1.000000     1.000000  -1673.410000\n",
      "max      60.000000   844.000000  79561.040000 \n",
      "\n",
      "The Cluster 5 Info:\n",
      "          Recency   Frequency    Monetary\n",
      "count  289.000000  289.000000  289.000000\n",
      "mean     9.228374   13.674740  191.574464\n",
      "std      6.681995   11.176213  139.030628\n",
      "min      1.000000    1.000000 -205.800000\n",
      "max     23.000000   58.000000  662.700000 \n",
      "\n"
     ]
    },
    {
     "data": {
      "text/plain": [
       "<__main__.RFMDetails at 0x17cb517a7c0>"
      ]
     },
     "execution_count": 37,
     "metadata": {},
     "output_type": "execute_result"
    }
   ],
   "source": [
    "rfm_details = RFMDetails('KMeans y_pred', with_average=True, start=0)\n",
    "rfm_details"
   ]
  },
  {
   "cell_type": "code",
   "execution_count": 38,
   "metadata": {},
   "outputs": [
    {
     "data": {
      "text/plain": [
       "[array([ 30.71544715,  12.2195122 , 880.23772358]),\n",
       " array([ 49.09230769,  47.98846154, 654.81046154]),\n",
       " array([   9.11466667,   82.92266667, 2119.07085867]),\n",
       " array([ 51.30434783,  10.11956522, 130.35005435]),\n",
       " array([  9.2283737 ,  13.67474048, 191.57446367])]"
      ]
     },
     "execution_count": 38,
     "metadata": {},
     "output_type": "execute_result"
    }
   ],
   "source": [
    "rfm_details.rfm_mean"
   ]
  },
  {
   "cell_type": "code",
   "execution_count": 39,
   "metadata": {},
   "outputs": [
    {
     "data": {
      "text/html": [
       "<div>\n",
       "<style scoped>\n",
       "    .dataframe tbody tr th:only-of-type {\n",
       "        vertical-align: middle;\n",
       "    }\n",
       "\n",
       "    .dataframe tbody tr th {\n",
       "        vertical-align: top;\n",
       "    }\n",
       "\n",
       "    .dataframe thead th {\n",
       "        text-align: right;\n",
       "    }\n",
       "</style>\n",
       "<table border=\"1\" class=\"dataframe\">\n",
       "  <thead>\n",
       "    <tr style=\"text-align: right;\">\n",
       "      <th></th>\n",
       "      <th></th>\n",
       "      <th>Recency</th>\n",
       "      <th>Frequency</th>\n",
       "      <th>Monetary</th>\n",
       "    </tr>\n",
       "  </thead>\n",
       "  <tbody>\n",
       "    <tr>\n",
       "      <th>Cluster 1</th>\n",
       "      <th>mean</th>\n",
       "      <td>30.715447</td>\n",
       "      <td>12.219512</td>\n",
       "      <td>880.237724</td>\n",
       "    </tr>\n",
       "    <tr>\n",
       "      <th>Cluster 2</th>\n",
       "      <th>mean</th>\n",
       "      <td>49.092308</td>\n",
       "      <td>47.988462</td>\n",
       "      <td>654.810462</td>\n",
       "    </tr>\n",
       "    <tr>\n",
       "      <th>Cluster 3</th>\n",
       "      <th>mean</th>\n",
       "      <td>9.114667</td>\n",
       "      <td>82.922667</td>\n",
       "      <td>2119.070859</td>\n",
       "    </tr>\n",
       "    <tr>\n",
       "      <th>Cluster 4</th>\n",
       "      <th>mean</th>\n",
       "      <td>51.304348</td>\n",
       "      <td>10.119565</td>\n",
       "      <td>130.350054</td>\n",
       "    </tr>\n",
       "    <tr>\n",
       "      <th>Cluster 5</th>\n",
       "      <th>mean</th>\n",
       "      <td>9.228374</td>\n",
       "      <td>13.674740</td>\n",
       "      <td>191.574464</td>\n",
       "    </tr>\n",
       "  </tbody>\n",
       "</table>\n",
       "</div>"
      ],
      "text/plain": [
       "                  Recency  Frequency     Monetary\n",
       "Cluster 1 mean  30.715447  12.219512   880.237724\n",
       "Cluster 2 mean  49.092308  47.988462   654.810462\n",
       "Cluster 3 mean   9.114667  82.922667  2119.070859\n",
       "Cluster 4 mean  51.304348  10.119565   130.350054\n",
       "Cluster 5 mean   9.228374  13.674740   191.574464"
      ]
     },
     "execution_count": 39,
     "metadata": {},
     "output_type": "execute_result"
    }
   ],
   "source": [
    "rfm_mean_df = rfm_details.rfm_mean_df\n",
    "rfm_mean_df"
   ]
  },
  {
   "cell_type": "code",
   "execution_count": 40,
   "metadata": {},
   "outputs": [],
   "source": [
    "def stacked_bar_mean(model_y_pred):\n",
    "    cluster_names = [item[0] for item in rfm_mean_df.index.tolist()]\n",
    "    r_trace = go.Bar(\n",
    "        x = cluster_names,\n",
    "        y = rfm_mean_df['Recency'],\n",
    "        name = 'Recency'\n",
    "        )\n",
    "\n",
    "    f_trace = go.Bar(\n",
    "        x = cluster_names,\n",
    "        y = rfm_mean_df['Frequency'],\n",
    "        name = 'Frequency'\n",
    "        )\n",
    "\n",
    "    m_trace = go.Bar(\n",
    "        x = cluster_names,\n",
    "        y = rfm_mean_df['Monetary'],\n",
    "        name = 'Monetary'\n",
    "        )\n",
    "\n",
    "    layout = go.Layout(title='The RFM Mean for each Cluster',\n",
    "                       barmode='stack')\n",
    "\n",
    "    fig = go.Figure(data=[r_trace, f_trace, m_trace], layout=layout)\n",
    "    if model_y_pred == 'DBSCAN y_pred':\n",
    "        fig.update_layout(yaxis_visible=False, xaxis_tickangle=-90)\n",
    "        fig.show()\n",
    "    else:\n",
    "        fig.update_layout(yaxis_visible=False)\n",
    "        fig.show()"
   ]
  },
  {
   "cell_type": "code",
   "execution_count": 41,
   "metadata": {},
   "outputs": [
    {
     "data": {
      "application/vnd.plotly.v1+json": {
       "config": {
        "plotlyServerURL": "https://plot.ly"
       },
       "data": [
        {
         "name": "Recency",
         "type": "bar",
         "x": [
          "Cluster 1",
          "Cluster 2",
          "Cluster 3",
          "Cluster 4",
          "Cluster 5"
         ],
         "y": [
          30.715447154471544,
          49.09230769230769,
          9.114666666666666,
          51.30434782608695,
          9.228373702422145
         ]
        },
        {
         "name": "Frequency",
         "type": "bar",
         "x": [
          "Cluster 1",
          "Cluster 2",
          "Cluster 3",
          "Cluster 4",
          "Cluster 5"
         ],
         "y": [
          12.21951219512195,
          47.988461538461536,
          82.92266666666667,
          10.119565217391305,
          13.674740484429066
         ]
        },
        {
         "name": "Monetary",
         "type": "bar",
         "x": [
          "Cluster 1",
          "Cluster 2",
          "Cluster 3",
          "Cluster 4",
          "Cluster 5"
         ],
         "y": [
          880.2377235772351,
          654.8104615384614,
          2119.0708586666656,
          130.3500543478262,
          191.57446366782005
         ]
        }
       ],
       "layout": {
        "barmode": "stack",
        "template": {
         "data": {
          "bar": [
           {
            "error_x": {
             "color": "#2a3f5f"
            },
            "error_y": {
             "color": "#2a3f5f"
            },
            "marker": {
             "line": {
              "color": "#E5ECF6",
              "width": 0.5
             },
             "pattern": {
              "fillmode": "overlay",
              "size": 10,
              "solidity": 0.2
             }
            },
            "type": "bar"
           }
          ],
          "barpolar": [
           {
            "marker": {
             "line": {
              "color": "#E5ECF6",
              "width": 0.5
             },
             "pattern": {
              "fillmode": "overlay",
              "size": 10,
              "solidity": 0.2
             }
            },
            "type": "barpolar"
           }
          ],
          "carpet": [
           {
            "aaxis": {
             "endlinecolor": "#2a3f5f",
             "gridcolor": "white",
             "linecolor": "white",
             "minorgridcolor": "white",
             "startlinecolor": "#2a3f5f"
            },
            "baxis": {
             "endlinecolor": "#2a3f5f",
             "gridcolor": "white",
             "linecolor": "white",
             "minorgridcolor": "white",
             "startlinecolor": "#2a3f5f"
            },
            "type": "carpet"
           }
          ],
          "choropleth": [
           {
            "colorbar": {
             "outlinewidth": 0,
             "ticks": ""
            },
            "type": "choropleth"
           }
          ],
          "contour": [
           {
            "colorbar": {
             "outlinewidth": 0,
             "ticks": ""
            },
            "colorscale": [
             [
              0,
              "#0d0887"
             ],
             [
              0.1111111111111111,
              "#46039f"
             ],
             [
              0.2222222222222222,
              "#7201a8"
             ],
             [
              0.3333333333333333,
              "#9c179e"
             ],
             [
              0.4444444444444444,
              "#bd3786"
             ],
             [
              0.5555555555555556,
              "#d8576b"
             ],
             [
              0.6666666666666666,
              "#ed7953"
             ],
             [
              0.7777777777777778,
              "#fb9f3a"
             ],
             [
              0.8888888888888888,
              "#fdca26"
             ],
             [
              1,
              "#f0f921"
             ]
            ],
            "type": "contour"
           }
          ],
          "contourcarpet": [
           {
            "colorbar": {
             "outlinewidth": 0,
             "ticks": ""
            },
            "type": "contourcarpet"
           }
          ],
          "heatmap": [
           {
            "colorbar": {
             "outlinewidth": 0,
             "ticks": ""
            },
            "colorscale": [
             [
              0,
              "#0d0887"
             ],
             [
              0.1111111111111111,
              "#46039f"
             ],
             [
              0.2222222222222222,
              "#7201a8"
             ],
             [
              0.3333333333333333,
              "#9c179e"
             ],
             [
              0.4444444444444444,
              "#bd3786"
             ],
             [
              0.5555555555555556,
              "#d8576b"
             ],
             [
              0.6666666666666666,
              "#ed7953"
             ],
             [
              0.7777777777777778,
              "#fb9f3a"
             ],
             [
              0.8888888888888888,
              "#fdca26"
             ],
             [
              1,
              "#f0f921"
             ]
            ],
            "type": "heatmap"
           }
          ],
          "heatmapgl": [
           {
            "colorbar": {
             "outlinewidth": 0,
             "ticks": ""
            },
            "colorscale": [
             [
              0,
              "#0d0887"
             ],
             [
              0.1111111111111111,
              "#46039f"
             ],
             [
              0.2222222222222222,
              "#7201a8"
             ],
             [
              0.3333333333333333,
              "#9c179e"
             ],
             [
              0.4444444444444444,
              "#bd3786"
             ],
             [
              0.5555555555555556,
              "#d8576b"
             ],
             [
              0.6666666666666666,
              "#ed7953"
             ],
             [
              0.7777777777777778,
              "#fb9f3a"
             ],
             [
              0.8888888888888888,
              "#fdca26"
             ],
             [
              1,
              "#f0f921"
             ]
            ],
            "type": "heatmapgl"
           }
          ],
          "histogram": [
           {
            "marker": {
             "pattern": {
              "fillmode": "overlay",
              "size": 10,
              "solidity": 0.2
             }
            },
            "type": "histogram"
           }
          ],
          "histogram2d": [
           {
            "colorbar": {
             "outlinewidth": 0,
             "ticks": ""
            },
            "colorscale": [
             [
              0,
              "#0d0887"
             ],
             [
              0.1111111111111111,
              "#46039f"
             ],
             [
              0.2222222222222222,
              "#7201a8"
             ],
             [
              0.3333333333333333,
              "#9c179e"
             ],
             [
              0.4444444444444444,
              "#bd3786"
             ],
             [
              0.5555555555555556,
              "#d8576b"
             ],
             [
              0.6666666666666666,
              "#ed7953"
             ],
             [
              0.7777777777777778,
              "#fb9f3a"
             ],
             [
              0.8888888888888888,
              "#fdca26"
             ],
             [
              1,
              "#f0f921"
             ]
            ],
            "type": "histogram2d"
           }
          ],
          "histogram2dcontour": [
           {
            "colorbar": {
             "outlinewidth": 0,
             "ticks": ""
            },
            "colorscale": [
             [
              0,
              "#0d0887"
             ],
             [
              0.1111111111111111,
              "#46039f"
             ],
             [
              0.2222222222222222,
              "#7201a8"
             ],
             [
              0.3333333333333333,
              "#9c179e"
             ],
             [
              0.4444444444444444,
              "#bd3786"
             ],
             [
              0.5555555555555556,
              "#d8576b"
             ],
             [
              0.6666666666666666,
              "#ed7953"
             ],
             [
              0.7777777777777778,
              "#fb9f3a"
             ],
             [
              0.8888888888888888,
              "#fdca26"
             ],
             [
              1,
              "#f0f921"
             ]
            ],
            "type": "histogram2dcontour"
           }
          ],
          "mesh3d": [
           {
            "colorbar": {
             "outlinewidth": 0,
             "ticks": ""
            },
            "type": "mesh3d"
           }
          ],
          "parcoords": [
           {
            "line": {
             "colorbar": {
              "outlinewidth": 0,
              "ticks": ""
             }
            },
            "type": "parcoords"
           }
          ],
          "pie": [
           {
            "automargin": true,
            "type": "pie"
           }
          ],
          "scatter": [
           {
            "fillpattern": {
             "fillmode": "overlay",
             "size": 10,
             "solidity": 0.2
            },
            "type": "scatter"
           }
          ],
          "scatter3d": [
           {
            "line": {
             "colorbar": {
              "outlinewidth": 0,
              "ticks": ""
             }
            },
            "marker": {
             "colorbar": {
              "outlinewidth": 0,
              "ticks": ""
             }
            },
            "type": "scatter3d"
           }
          ],
          "scattercarpet": [
           {
            "marker": {
             "colorbar": {
              "outlinewidth": 0,
              "ticks": ""
             }
            },
            "type": "scattercarpet"
           }
          ],
          "scattergeo": [
           {
            "marker": {
             "colorbar": {
              "outlinewidth": 0,
              "ticks": ""
             }
            },
            "type": "scattergeo"
           }
          ],
          "scattergl": [
           {
            "marker": {
             "colorbar": {
              "outlinewidth": 0,
              "ticks": ""
             }
            },
            "type": "scattergl"
           }
          ],
          "scattermapbox": [
           {
            "marker": {
             "colorbar": {
              "outlinewidth": 0,
              "ticks": ""
             }
            },
            "type": "scattermapbox"
           }
          ],
          "scatterpolar": [
           {
            "marker": {
             "colorbar": {
              "outlinewidth": 0,
              "ticks": ""
             }
            },
            "type": "scatterpolar"
           }
          ],
          "scatterpolargl": [
           {
            "marker": {
             "colorbar": {
              "outlinewidth": 0,
              "ticks": ""
             }
            },
            "type": "scatterpolargl"
           }
          ],
          "scatterternary": [
           {
            "marker": {
             "colorbar": {
              "outlinewidth": 0,
              "ticks": ""
             }
            },
            "type": "scatterternary"
           }
          ],
          "surface": [
           {
            "colorbar": {
             "outlinewidth": 0,
             "ticks": ""
            },
            "colorscale": [
             [
              0,
              "#0d0887"
             ],
             [
              0.1111111111111111,
              "#46039f"
             ],
             [
              0.2222222222222222,
              "#7201a8"
             ],
             [
              0.3333333333333333,
              "#9c179e"
             ],
             [
              0.4444444444444444,
              "#bd3786"
             ],
             [
              0.5555555555555556,
              "#d8576b"
             ],
             [
              0.6666666666666666,
              "#ed7953"
             ],
             [
              0.7777777777777778,
              "#fb9f3a"
             ],
             [
              0.8888888888888888,
              "#fdca26"
             ],
             [
              1,
              "#f0f921"
             ]
            ],
            "type": "surface"
           }
          ],
          "table": [
           {
            "cells": {
             "fill": {
              "color": "#EBF0F8"
             },
             "line": {
              "color": "white"
             }
            },
            "header": {
             "fill": {
              "color": "#C8D4E3"
             },
             "line": {
              "color": "white"
             }
            },
            "type": "table"
           }
          ]
         },
         "layout": {
          "annotationdefaults": {
           "arrowcolor": "#2a3f5f",
           "arrowhead": 0,
           "arrowwidth": 1
          },
          "autotypenumbers": "strict",
          "coloraxis": {
           "colorbar": {
            "outlinewidth": 0,
            "ticks": ""
           }
          },
          "colorscale": {
           "diverging": [
            [
             0,
             "#8e0152"
            ],
            [
             0.1,
             "#c51b7d"
            ],
            [
             0.2,
             "#de77ae"
            ],
            [
             0.3,
             "#f1b6da"
            ],
            [
             0.4,
             "#fde0ef"
            ],
            [
             0.5,
             "#f7f7f7"
            ],
            [
             0.6,
             "#e6f5d0"
            ],
            [
             0.7,
             "#b8e186"
            ],
            [
             0.8,
             "#7fbc41"
            ],
            [
             0.9,
             "#4d9221"
            ],
            [
             1,
             "#276419"
            ]
           ],
           "sequential": [
            [
             0,
             "#0d0887"
            ],
            [
             0.1111111111111111,
             "#46039f"
            ],
            [
             0.2222222222222222,
             "#7201a8"
            ],
            [
             0.3333333333333333,
             "#9c179e"
            ],
            [
             0.4444444444444444,
             "#bd3786"
            ],
            [
             0.5555555555555556,
             "#d8576b"
            ],
            [
             0.6666666666666666,
             "#ed7953"
            ],
            [
             0.7777777777777778,
             "#fb9f3a"
            ],
            [
             0.8888888888888888,
             "#fdca26"
            ],
            [
             1,
             "#f0f921"
            ]
           ],
           "sequentialminus": [
            [
             0,
             "#0d0887"
            ],
            [
             0.1111111111111111,
             "#46039f"
            ],
            [
             0.2222222222222222,
             "#7201a8"
            ],
            [
             0.3333333333333333,
             "#9c179e"
            ],
            [
             0.4444444444444444,
             "#bd3786"
            ],
            [
             0.5555555555555556,
             "#d8576b"
            ],
            [
             0.6666666666666666,
             "#ed7953"
            ],
            [
             0.7777777777777778,
             "#fb9f3a"
            ],
            [
             0.8888888888888888,
             "#fdca26"
            ],
            [
             1,
             "#f0f921"
            ]
           ]
          },
          "colorway": [
           "#636efa",
           "#EF553B",
           "#00cc96",
           "#ab63fa",
           "#FFA15A",
           "#19d3f3",
           "#FF6692",
           "#B6E880",
           "#FF97FF",
           "#FECB52"
          ],
          "font": {
           "color": "#2a3f5f"
          },
          "geo": {
           "bgcolor": "white",
           "lakecolor": "white",
           "landcolor": "#E5ECF6",
           "showlakes": true,
           "showland": true,
           "subunitcolor": "white"
          },
          "hoverlabel": {
           "align": "left"
          },
          "hovermode": "closest",
          "mapbox": {
           "style": "light"
          },
          "paper_bgcolor": "white",
          "plot_bgcolor": "#E5ECF6",
          "polar": {
           "angularaxis": {
            "gridcolor": "white",
            "linecolor": "white",
            "ticks": ""
           },
           "bgcolor": "#E5ECF6",
           "radialaxis": {
            "gridcolor": "white",
            "linecolor": "white",
            "ticks": ""
           }
          },
          "scene": {
           "xaxis": {
            "backgroundcolor": "#E5ECF6",
            "gridcolor": "white",
            "gridwidth": 2,
            "linecolor": "white",
            "showbackground": true,
            "ticks": "",
            "zerolinecolor": "white"
           },
           "yaxis": {
            "backgroundcolor": "#E5ECF6",
            "gridcolor": "white",
            "gridwidth": 2,
            "linecolor": "white",
            "showbackground": true,
            "ticks": "",
            "zerolinecolor": "white"
           },
           "zaxis": {
            "backgroundcolor": "#E5ECF6",
            "gridcolor": "white",
            "gridwidth": 2,
            "linecolor": "white",
            "showbackground": true,
            "ticks": "",
            "zerolinecolor": "white"
           }
          },
          "shapedefaults": {
           "line": {
            "color": "#2a3f5f"
           }
          },
          "ternary": {
           "aaxis": {
            "gridcolor": "white",
            "linecolor": "white",
            "ticks": ""
           },
           "baxis": {
            "gridcolor": "white",
            "linecolor": "white",
            "ticks": ""
           },
           "bgcolor": "#E5ECF6",
           "caxis": {
            "gridcolor": "white",
            "linecolor": "white",
            "ticks": ""
           }
          },
          "title": {
           "x": 0.05
          },
          "xaxis": {
           "automargin": true,
           "gridcolor": "white",
           "linecolor": "white",
           "ticks": "",
           "title": {
            "standoff": 15
           },
           "zerolinecolor": "white",
           "zerolinewidth": 2
          },
          "yaxis": {
           "automargin": true,
           "gridcolor": "white",
           "linecolor": "white",
           "ticks": "",
           "title": {
            "standoff": 15
           },
           "zerolinecolor": "white",
           "zerolinewidth": 2
          }
         }
        },
        "title": {
         "text": "The RFM Mean for each Cluster"
        },
        "yaxis": {
         "visible": false
        }
       }
      },
      "text/html": [
       "<div>                            <div id=\"2e617a88-c958-498e-a66e-223405adb0b5\" class=\"plotly-graph-div\" style=\"height:525px; width:100%;\"></div>            <script type=\"text/javascript\">                require([\"plotly\"], function(Plotly) {                    window.PLOTLYENV=window.PLOTLYENV || {};                                    if (document.getElementById(\"2e617a88-c958-498e-a66e-223405adb0b5\")) {                    Plotly.newPlot(                        \"2e617a88-c958-498e-a66e-223405adb0b5\",                        [{\"name\":\"Recency\",\"x\":[\"Cluster 1\",\"Cluster 2\",\"Cluster 3\",\"Cluster 4\",\"Cluster 5\"],\"y\":[30.715447154471544,49.09230769230769,9.114666666666666,51.30434782608695,9.228373702422145],\"type\":\"bar\"},{\"name\":\"Frequency\",\"x\":[\"Cluster 1\",\"Cluster 2\",\"Cluster 3\",\"Cluster 4\",\"Cluster 5\"],\"y\":[12.21951219512195,47.988461538461536,82.92266666666667,10.119565217391305,13.674740484429066],\"type\":\"bar\"},{\"name\":\"Monetary\",\"x\":[\"Cluster 1\",\"Cluster 2\",\"Cluster 3\",\"Cluster 4\",\"Cluster 5\"],\"y\":[880.2377235772351,654.8104615384614,2119.0708586666656,130.3500543478262,191.57446366782005],\"type\":\"bar\"}],                        {\"barmode\":\"stack\",\"title\":{\"text\":\"The RFM Mean for each Cluster\"},\"template\":{\"data\":{\"histogram2dcontour\":[{\"type\":\"histogram2dcontour\",\"colorbar\":{\"outlinewidth\":0,\"ticks\":\"\"},\"colorscale\":[[0.0,\"#0d0887\"],[0.1111111111111111,\"#46039f\"],[0.2222222222222222,\"#7201a8\"],[0.3333333333333333,\"#9c179e\"],[0.4444444444444444,\"#bd3786\"],[0.5555555555555556,\"#d8576b\"],[0.6666666666666666,\"#ed7953\"],[0.7777777777777778,\"#fb9f3a\"],[0.8888888888888888,\"#fdca26\"],[1.0,\"#f0f921\"]]}],\"choropleth\":[{\"type\":\"choropleth\",\"colorbar\":{\"outlinewidth\":0,\"ticks\":\"\"}}],\"histogram2d\":[{\"type\":\"histogram2d\",\"colorbar\":{\"outlinewidth\":0,\"ticks\":\"\"},\"colorscale\":[[0.0,\"#0d0887\"],[0.1111111111111111,\"#46039f\"],[0.2222222222222222,\"#7201a8\"],[0.3333333333333333,\"#9c179e\"],[0.4444444444444444,\"#bd3786\"],[0.5555555555555556,\"#d8576b\"],[0.6666666666666666,\"#ed7953\"],[0.7777777777777778,\"#fb9f3a\"],[0.8888888888888888,\"#fdca26\"],[1.0,\"#f0f921\"]]}],\"heatmap\":[{\"type\":\"heatmap\",\"colorbar\":{\"outlinewidth\":0,\"ticks\":\"\"},\"colorscale\":[[0.0,\"#0d0887\"],[0.1111111111111111,\"#46039f\"],[0.2222222222222222,\"#7201a8\"],[0.3333333333333333,\"#9c179e\"],[0.4444444444444444,\"#bd3786\"],[0.5555555555555556,\"#d8576b\"],[0.6666666666666666,\"#ed7953\"],[0.7777777777777778,\"#fb9f3a\"],[0.8888888888888888,\"#fdca26\"],[1.0,\"#f0f921\"]]}],\"heatmapgl\":[{\"type\":\"heatmapgl\",\"colorbar\":{\"outlinewidth\":0,\"ticks\":\"\"},\"colorscale\":[[0.0,\"#0d0887\"],[0.1111111111111111,\"#46039f\"],[0.2222222222222222,\"#7201a8\"],[0.3333333333333333,\"#9c179e\"],[0.4444444444444444,\"#bd3786\"],[0.5555555555555556,\"#d8576b\"],[0.6666666666666666,\"#ed7953\"],[0.7777777777777778,\"#fb9f3a\"],[0.8888888888888888,\"#fdca26\"],[1.0,\"#f0f921\"]]}],\"contourcarpet\":[{\"type\":\"contourcarpet\",\"colorbar\":{\"outlinewidth\":0,\"ticks\":\"\"}}],\"contour\":[{\"type\":\"contour\",\"colorbar\":{\"outlinewidth\":0,\"ticks\":\"\"},\"colorscale\":[[0.0,\"#0d0887\"],[0.1111111111111111,\"#46039f\"],[0.2222222222222222,\"#7201a8\"],[0.3333333333333333,\"#9c179e\"],[0.4444444444444444,\"#bd3786\"],[0.5555555555555556,\"#d8576b\"],[0.6666666666666666,\"#ed7953\"],[0.7777777777777778,\"#fb9f3a\"],[0.8888888888888888,\"#fdca26\"],[1.0,\"#f0f921\"]]}],\"surface\":[{\"type\":\"surface\",\"colorbar\":{\"outlinewidth\":0,\"ticks\":\"\"},\"colorscale\":[[0.0,\"#0d0887\"],[0.1111111111111111,\"#46039f\"],[0.2222222222222222,\"#7201a8\"],[0.3333333333333333,\"#9c179e\"],[0.4444444444444444,\"#bd3786\"],[0.5555555555555556,\"#d8576b\"],[0.6666666666666666,\"#ed7953\"],[0.7777777777777778,\"#fb9f3a\"],[0.8888888888888888,\"#fdca26\"],[1.0,\"#f0f921\"]]}],\"mesh3d\":[{\"type\":\"mesh3d\",\"colorbar\":{\"outlinewidth\":0,\"ticks\":\"\"}}],\"scatter\":[{\"fillpattern\":{\"fillmode\":\"overlay\",\"size\":10,\"solidity\":0.2},\"type\":\"scatter\"}],\"parcoords\":[{\"type\":\"parcoords\",\"line\":{\"colorbar\":{\"outlinewidth\":0,\"ticks\":\"\"}}}],\"scatterpolargl\":[{\"type\":\"scatterpolargl\",\"marker\":{\"colorbar\":{\"outlinewidth\":0,\"ticks\":\"\"}}}],\"bar\":[{\"error_x\":{\"color\":\"#2a3f5f\"},\"error_y\":{\"color\":\"#2a3f5f\"},\"marker\":{\"line\":{\"color\":\"#E5ECF6\",\"width\":0.5},\"pattern\":{\"fillmode\":\"overlay\",\"size\":10,\"solidity\":0.2}},\"type\":\"bar\"}],\"scattergeo\":[{\"type\":\"scattergeo\",\"marker\":{\"colorbar\":{\"outlinewidth\":0,\"ticks\":\"\"}}}],\"scatterpolar\":[{\"type\":\"scatterpolar\",\"marker\":{\"colorbar\":{\"outlinewidth\":0,\"ticks\":\"\"}}}],\"histogram\":[{\"marker\":{\"pattern\":{\"fillmode\":\"overlay\",\"size\":10,\"solidity\":0.2}},\"type\":\"histogram\"}],\"scattergl\":[{\"type\":\"scattergl\",\"marker\":{\"colorbar\":{\"outlinewidth\":0,\"ticks\":\"\"}}}],\"scatter3d\":[{\"type\":\"scatter3d\",\"line\":{\"colorbar\":{\"outlinewidth\":0,\"ticks\":\"\"}},\"marker\":{\"colorbar\":{\"outlinewidth\":0,\"ticks\":\"\"}}}],\"scattermapbox\":[{\"type\":\"scattermapbox\",\"marker\":{\"colorbar\":{\"outlinewidth\":0,\"ticks\":\"\"}}}],\"scatterternary\":[{\"type\":\"scatterternary\",\"marker\":{\"colorbar\":{\"outlinewidth\":0,\"ticks\":\"\"}}}],\"scattercarpet\":[{\"type\":\"scattercarpet\",\"marker\":{\"colorbar\":{\"outlinewidth\":0,\"ticks\":\"\"}}}],\"carpet\":[{\"aaxis\":{\"endlinecolor\":\"#2a3f5f\",\"gridcolor\":\"white\",\"linecolor\":\"white\",\"minorgridcolor\":\"white\",\"startlinecolor\":\"#2a3f5f\"},\"baxis\":{\"endlinecolor\":\"#2a3f5f\",\"gridcolor\":\"white\",\"linecolor\":\"white\",\"minorgridcolor\":\"white\",\"startlinecolor\":\"#2a3f5f\"},\"type\":\"carpet\"}],\"table\":[{\"cells\":{\"fill\":{\"color\":\"#EBF0F8\"},\"line\":{\"color\":\"white\"}},\"header\":{\"fill\":{\"color\":\"#C8D4E3\"},\"line\":{\"color\":\"white\"}},\"type\":\"table\"}],\"barpolar\":[{\"marker\":{\"line\":{\"color\":\"#E5ECF6\",\"width\":0.5},\"pattern\":{\"fillmode\":\"overlay\",\"size\":10,\"solidity\":0.2}},\"type\":\"barpolar\"}],\"pie\":[{\"automargin\":true,\"type\":\"pie\"}]},\"layout\":{\"autotypenumbers\":\"strict\",\"colorway\":[\"#636efa\",\"#EF553B\",\"#00cc96\",\"#ab63fa\",\"#FFA15A\",\"#19d3f3\",\"#FF6692\",\"#B6E880\",\"#FF97FF\",\"#FECB52\"],\"font\":{\"color\":\"#2a3f5f\"},\"hovermode\":\"closest\",\"hoverlabel\":{\"align\":\"left\"},\"paper_bgcolor\":\"white\",\"plot_bgcolor\":\"#E5ECF6\",\"polar\":{\"bgcolor\":\"#E5ECF6\",\"angularaxis\":{\"gridcolor\":\"white\",\"linecolor\":\"white\",\"ticks\":\"\"},\"radialaxis\":{\"gridcolor\":\"white\",\"linecolor\":\"white\",\"ticks\":\"\"}},\"ternary\":{\"bgcolor\":\"#E5ECF6\",\"aaxis\":{\"gridcolor\":\"white\",\"linecolor\":\"white\",\"ticks\":\"\"},\"baxis\":{\"gridcolor\":\"white\",\"linecolor\":\"white\",\"ticks\":\"\"},\"caxis\":{\"gridcolor\":\"white\",\"linecolor\":\"white\",\"ticks\":\"\"}},\"coloraxis\":{\"colorbar\":{\"outlinewidth\":0,\"ticks\":\"\"}},\"colorscale\":{\"sequential\":[[0.0,\"#0d0887\"],[0.1111111111111111,\"#46039f\"],[0.2222222222222222,\"#7201a8\"],[0.3333333333333333,\"#9c179e\"],[0.4444444444444444,\"#bd3786\"],[0.5555555555555556,\"#d8576b\"],[0.6666666666666666,\"#ed7953\"],[0.7777777777777778,\"#fb9f3a\"],[0.8888888888888888,\"#fdca26\"],[1.0,\"#f0f921\"]],\"sequentialminus\":[[0.0,\"#0d0887\"],[0.1111111111111111,\"#46039f\"],[0.2222222222222222,\"#7201a8\"],[0.3333333333333333,\"#9c179e\"],[0.4444444444444444,\"#bd3786\"],[0.5555555555555556,\"#d8576b\"],[0.6666666666666666,\"#ed7953\"],[0.7777777777777778,\"#fb9f3a\"],[0.8888888888888888,\"#fdca26\"],[1.0,\"#f0f921\"]],\"diverging\":[[0,\"#8e0152\"],[0.1,\"#c51b7d\"],[0.2,\"#de77ae\"],[0.3,\"#f1b6da\"],[0.4,\"#fde0ef\"],[0.5,\"#f7f7f7\"],[0.6,\"#e6f5d0\"],[0.7,\"#b8e186\"],[0.8,\"#7fbc41\"],[0.9,\"#4d9221\"],[1,\"#276419\"]]},\"xaxis\":{\"gridcolor\":\"white\",\"linecolor\":\"white\",\"ticks\":\"\",\"title\":{\"standoff\":15},\"zerolinecolor\":\"white\",\"automargin\":true,\"zerolinewidth\":2},\"yaxis\":{\"gridcolor\":\"white\",\"linecolor\":\"white\",\"ticks\":\"\",\"title\":{\"standoff\":15},\"zerolinecolor\":\"white\",\"automargin\":true,\"zerolinewidth\":2},\"scene\":{\"xaxis\":{\"backgroundcolor\":\"#E5ECF6\",\"gridcolor\":\"white\",\"linecolor\":\"white\",\"showbackground\":true,\"ticks\":\"\",\"zerolinecolor\":\"white\",\"gridwidth\":2},\"yaxis\":{\"backgroundcolor\":\"#E5ECF6\",\"gridcolor\":\"white\",\"linecolor\":\"white\",\"showbackground\":true,\"ticks\":\"\",\"zerolinecolor\":\"white\",\"gridwidth\":2},\"zaxis\":{\"backgroundcolor\":\"#E5ECF6\",\"gridcolor\":\"white\",\"linecolor\":\"white\",\"showbackground\":true,\"ticks\":\"\",\"zerolinecolor\":\"white\",\"gridwidth\":2}},\"shapedefaults\":{\"line\":{\"color\":\"#2a3f5f\"}},\"annotationdefaults\":{\"arrowcolor\":\"#2a3f5f\",\"arrowhead\":0,\"arrowwidth\":1},\"geo\":{\"bgcolor\":\"white\",\"landcolor\":\"#E5ECF6\",\"subunitcolor\":\"white\",\"showland\":true,\"showlakes\":true,\"lakecolor\":\"white\"},\"title\":{\"x\":0.05},\"mapbox\":{\"style\":\"light\"}}},\"yaxis\":{\"visible\":false}},                        {\"responsive\": true}                    ).then(function(){\n",
       "                            \n",
       "var gd = document.getElementById('2e617a88-c958-498e-a66e-223405adb0b5');\n",
       "var x = new MutationObserver(function (mutations, observer) {{\n",
       "        var display = window.getComputedStyle(gd).display;\n",
       "        if (!display || display === 'none') {{\n",
       "            console.log([gd, 'removed!']);\n",
       "            Plotly.purge(gd);\n",
       "            observer.disconnect();\n",
       "        }}\n",
       "}});\n",
       "\n",
       "// Listen for the removal of the full notebook cells\n",
       "var notebookContainer = gd.closest('#notebook-container');\n",
       "if (notebookContainer) {{\n",
       "    x.observe(notebookContainer, {childList: true});\n",
       "}}\n",
       "\n",
       "// Listen for the clearing of the current output cell\n",
       "var outputEl = gd.closest('.output');\n",
       "if (outputEl) {{\n",
       "    x.observe(outputEl, {childList: true});\n",
       "}}\n",
       "\n",
       "                        })                };                });            </script>        </div>"
      ]
     },
     "metadata": {},
     "output_type": "display_data"
    }
   ],
   "source": [
    "stacked_bar_mean('KMeans y_pred')"
   ]
  },
  {
   "cell_type": "markdown",
   "metadata": {},
   "source": [
    "phương pháp khuỷu tay"
   ]
  },
  {
   "cell_type": "code",
   "execution_count": 42,
   "metadata": {},
   "outputs": [],
   "source": [
    "elbow = {}\n",
    "for k in range(1, 9):\n",
    "    kmeans = KMeans(n_clusters=k, random_state=0)\n",
    "    kmeans.fit(X)\n",
    "    elbow[k] = kmeans.inertia_"
   ]
  },
  {
   "cell_type": "code",
   "execution_count": 43,
   "metadata": {},
   "outputs": [
    {
     "data": {
      "application/vnd.plotly.v1+json": {
       "config": {
        "plotlyServerURL": "https://plot.ly"
       },
       "data": [
        {
         "mode": "lines",
         "name": "WCSS Value",
         "type": "scatter",
         "x": [
          "k= 1",
          "k= 2",
          "k= 3",
          "k= 4",
          "k= 5",
          "k= 6",
          "k= 7",
          "k= 8"
         ],
         "y": [
          5308.539929328621,
          2905.3329554361208,
          2133.124951049509,
          1644.6052077944903,
          1418.5654238717264,
          1244.205713457557,
          1077.8259509700197,
          990.249512912829
         ]
        },
        {
         "mode": "markers",
         "name": "Coordinate",
         "type": "scatter",
         "x": [
          "k= 1",
          "k= 2",
          "k= 3",
          "k= 4",
          "k= 5",
          "k= 6",
          "k= 7",
          "k= 8"
         ],
         "y": [
          5308.539929328621,
          2905.3329554361208,
          2133.124951049509,
          1644.6052077944903,
          1418.5654238717264,
          1244.205713457557,
          1077.8259509700197,
          990.249512912829
         ]
        }
       ],
       "layout": {
        "template": {
         "data": {
          "bar": [
           {
            "error_x": {
             "color": "#2a3f5f"
            },
            "error_y": {
             "color": "#2a3f5f"
            },
            "marker": {
             "line": {
              "color": "#E5ECF6",
              "width": 0.5
             },
             "pattern": {
              "fillmode": "overlay",
              "size": 10,
              "solidity": 0.2
             }
            },
            "type": "bar"
           }
          ],
          "barpolar": [
           {
            "marker": {
             "line": {
              "color": "#E5ECF6",
              "width": 0.5
             },
             "pattern": {
              "fillmode": "overlay",
              "size": 10,
              "solidity": 0.2
             }
            },
            "type": "barpolar"
           }
          ],
          "carpet": [
           {
            "aaxis": {
             "endlinecolor": "#2a3f5f",
             "gridcolor": "white",
             "linecolor": "white",
             "minorgridcolor": "white",
             "startlinecolor": "#2a3f5f"
            },
            "baxis": {
             "endlinecolor": "#2a3f5f",
             "gridcolor": "white",
             "linecolor": "white",
             "minorgridcolor": "white",
             "startlinecolor": "#2a3f5f"
            },
            "type": "carpet"
           }
          ],
          "choropleth": [
           {
            "colorbar": {
             "outlinewidth": 0,
             "ticks": ""
            },
            "type": "choropleth"
           }
          ],
          "contour": [
           {
            "colorbar": {
             "outlinewidth": 0,
             "ticks": ""
            },
            "colorscale": [
             [
              0,
              "#0d0887"
             ],
             [
              0.1111111111111111,
              "#46039f"
             ],
             [
              0.2222222222222222,
              "#7201a8"
             ],
             [
              0.3333333333333333,
              "#9c179e"
             ],
             [
              0.4444444444444444,
              "#bd3786"
             ],
             [
              0.5555555555555556,
              "#d8576b"
             ],
             [
              0.6666666666666666,
              "#ed7953"
             ],
             [
              0.7777777777777778,
              "#fb9f3a"
             ],
             [
              0.8888888888888888,
              "#fdca26"
             ],
             [
              1,
              "#f0f921"
             ]
            ],
            "type": "contour"
           }
          ],
          "contourcarpet": [
           {
            "colorbar": {
             "outlinewidth": 0,
             "ticks": ""
            },
            "type": "contourcarpet"
           }
          ],
          "heatmap": [
           {
            "colorbar": {
             "outlinewidth": 0,
             "ticks": ""
            },
            "colorscale": [
             [
              0,
              "#0d0887"
             ],
             [
              0.1111111111111111,
              "#46039f"
             ],
             [
              0.2222222222222222,
              "#7201a8"
             ],
             [
              0.3333333333333333,
              "#9c179e"
             ],
             [
              0.4444444444444444,
              "#bd3786"
             ],
             [
              0.5555555555555556,
              "#d8576b"
             ],
             [
              0.6666666666666666,
              "#ed7953"
             ],
             [
              0.7777777777777778,
              "#fb9f3a"
             ],
             [
              0.8888888888888888,
              "#fdca26"
             ],
             [
              1,
              "#f0f921"
             ]
            ],
            "type": "heatmap"
           }
          ],
          "heatmapgl": [
           {
            "colorbar": {
             "outlinewidth": 0,
             "ticks": ""
            },
            "colorscale": [
             [
              0,
              "#0d0887"
             ],
             [
              0.1111111111111111,
              "#46039f"
             ],
             [
              0.2222222222222222,
              "#7201a8"
             ],
             [
              0.3333333333333333,
              "#9c179e"
             ],
             [
              0.4444444444444444,
              "#bd3786"
             ],
             [
              0.5555555555555556,
              "#d8576b"
             ],
             [
              0.6666666666666666,
              "#ed7953"
             ],
             [
              0.7777777777777778,
              "#fb9f3a"
             ],
             [
              0.8888888888888888,
              "#fdca26"
             ],
             [
              1,
              "#f0f921"
             ]
            ],
            "type": "heatmapgl"
           }
          ],
          "histogram": [
           {
            "marker": {
             "pattern": {
              "fillmode": "overlay",
              "size": 10,
              "solidity": 0.2
             }
            },
            "type": "histogram"
           }
          ],
          "histogram2d": [
           {
            "colorbar": {
             "outlinewidth": 0,
             "ticks": ""
            },
            "colorscale": [
             [
              0,
              "#0d0887"
             ],
             [
              0.1111111111111111,
              "#46039f"
             ],
             [
              0.2222222222222222,
              "#7201a8"
             ],
             [
              0.3333333333333333,
              "#9c179e"
             ],
             [
              0.4444444444444444,
              "#bd3786"
             ],
             [
              0.5555555555555556,
              "#d8576b"
             ],
             [
              0.6666666666666666,
              "#ed7953"
             ],
             [
              0.7777777777777778,
              "#fb9f3a"
             ],
             [
              0.8888888888888888,
              "#fdca26"
             ],
             [
              1,
              "#f0f921"
             ]
            ],
            "type": "histogram2d"
           }
          ],
          "histogram2dcontour": [
           {
            "colorbar": {
             "outlinewidth": 0,
             "ticks": ""
            },
            "colorscale": [
             [
              0,
              "#0d0887"
             ],
             [
              0.1111111111111111,
              "#46039f"
             ],
             [
              0.2222222222222222,
              "#7201a8"
             ],
             [
              0.3333333333333333,
              "#9c179e"
             ],
             [
              0.4444444444444444,
              "#bd3786"
             ],
             [
              0.5555555555555556,
              "#d8576b"
             ],
             [
              0.6666666666666666,
              "#ed7953"
             ],
             [
              0.7777777777777778,
              "#fb9f3a"
             ],
             [
              0.8888888888888888,
              "#fdca26"
             ],
             [
              1,
              "#f0f921"
             ]
            ],
            "type": "histogram2dcontour"
           }
          ],
          "mesh3d": [
           {
            "colorbar": {
             "outlinewidth": 0,
             "ticks": ""
            },
            "type": "mesh3d"
           }
          ],
          "parcoords": [
           {
            "line": {
             "colorbar": {
              "outlinewidth": 0,
              "ticks": ""
             }
            },
            "type": "parcoords"
           }
          ],
          "pie": [
           {
            "automargin": true,
            "type": "pie"
           }
          ],
          "scatter": [
           {
            "fillpattern": {
             "fillmode": "overlay",
             "size": 10,
             "solidity": 0.2
            },
            "type": "scatter"
           }
          ],
          "scatter3d": [
           {
            "line": {
             "colorbar": {
              "outlinewidth": 0,
              "ticks": ""
             }
            },
            "marker": {
             "colorbar": {
              "outlinewidth": 0,
              "ticks": ""
             }
            },
            "type": "scatter3d"
           }
          ],
          "scattercarpet": [
           {
            "marker": {
             "colorbar": {
              "outlinewidth": 0,
              "ticks": ""
             }
            },
            "type": "scattercarpet"
           }
          ],
          "scattergeo": [
           {
            "marker": {
             "colorbar": {
              "outlinewidth": 0,
              "ticks": ""
             }
            },
            "type": "scattergeo"
           }
          ],
          "scattergl": [
           {
            "marker": {
             "colorbar": {
              "outlinewidth": 0,
              "ticks": ""
             }
            },
            "type": "scattergl"
           }
          ],
          "scattermapbox": [
           {
            "marker": {
             "colorbar": {
              "outlinewidth": 0,
              "ticks": ""
             }
            },
            "type": "scattermapbox"
           }
          ],
          "scatterpolar": [
           {
            "marker": {
             "colorbar": {
              "outlinewidth": 0,
              "ticks": ""
             }
            },
            "type": "scatterpolar"
           }
          ],
          "scatterpolargl": [
           {
            "marker": {
             "colorbar": {
              "outlinewidth": 0,
              "ticks": ""
             }
            },
            "type": "scatterpolargl"
           }
          ],
          "scatterternary": [
           {
            "marker": {
             "colorbar": {
              "outlinewidth": 0,
              "ticks": ""
             }
            },
            "type": "scatterternary"
           }
          ],
          "surface": [
           {
            "colorbar": {
             "outlinewidth": 0,
             "ticks": ""
            },
            "colorscale": [
             [
              0,
              "#0d0887"
             ],
             [
              0.1111111111111111,
              "#46039f"
             ],
             [
              0.2222222222222222,
              "#7201a8"
             ],
             [
              0.3333333333333333,
              "#9c179e"
             ],
             [
              0.4444444444444444,
              "#bd3786"
             ],
             [
              0.5555555555555556,
              "#d8576b"
             ],
             [
              0.6666666666666666,
              "#ed7953"
             ],
             [
              0.7777777777777778,
              "#fb9f3a"
             ],
             [
              0.8888888888888888,
              "#fdca26"
             ],
             [
              1,
              "#f0f921"
             ]
            ],
            "type": "surface"
           }
          ],
          "table": [
           {
            "cells": {
             "fill": {
              "color": "#EBF0F8"
             },
             "line": {
              "color": "white"
             }
            },
            "header": {
             "fill": {
              "color": "#C8D4E3"
             },
             "line": {
              "color": "white"
             }
            },
            "type": "table"
           }
          ]
         },
         "layout": {
          "annotationdefaults": {
           "arrowcolor": "#2a3f5f",
           "arrowhead": 0,
           "arrowwidth": 1
          },
          "autotypenumbers": "strict",
          "coloraxis": {
           "colorbar": {
            "outlinewidth": 0,
            "ticks": ""
           }
          },
          "colorscale": {
           "diverging": [
            [
             0,
             "#8e0152"
            ],
            [
             0.1,
             "#c51b7d"
            ],
            [
             0.2,
             "#de77ae"
            ],
            [
             0.3,
             "#f1b6da"
            ],
            [
             0.4,
             "#fde0ef"
            ],
            [
             0.5,
             "#f7f7f7"
            ],
            [
             0.6,
             "#e6f5d0"
            ],
            [
             0.7,
             "#b8e186"
            ],
            [
             0.8,
             "#7fbc41"
            ],
            [
             0.9,
             "#4d9221"
            ],
            [
             1,
             "#276419"
            ]
           ],
           "sequential": [
            [
             0,
             "#0d0887"
            ],
            [
             0.1111111111111111,
             "#46039f"
            ],
            [
             0.2222222222222222,
             "#7201a8"
            ],
            [
             0.3333333333333333,
             "#9c179e"
            ],
            [
             0.4444444444444444,
             "#bd3786"
            ],
            [
             0.5555555555555556,
             "#d8576b"
            ],
            [
             0.6666666666666666,
             "#ed7953"
            ],
            [
             0.7777777777777778,
             "#fb9f3a"
            ],
            [
             0.8888888888888888,
             "#fdca26"
            ],
            [
             1,
             "#f0f921"
            ]
           ],
           "sequentialminus": [
            [
             0,
             "#0d0887"
            ],
            [
             0.1111111111111111,
             "#46039f"
            ],
            [
             0.2222222222222222,
             "#7201a8"
            ],
            [
             0.3333333333333333,
             "#9c179e"
            ],
            [
             0.4444444444444444,
             "#bd3786"
            ],
            [
             0.5555555555555556,
             "#d8576b"
            ],
            [
             0.6666666666666666,
             "#ed7953"
            ],
            [
             0.7777777777777778,
             "#fb9f3a"
            ],
            [
             0.8888888888888888,
             "#fdca26"
            ],
            [
             1,
             "#f0f921"
            ]
           ]
          },
          "colorway": [
           "#636efa",
           "#EF553B",
           "#00cc96",
           "#ab63fa",
           "#FFA15A",
           "#19d3f3",
           "#FF6692",
           "#B6E880",
           "#FF97FF",
           "#FECB52"
          ],
          "font": {
           "color": "#2a3f5f"
          },
          "geo": {
           "bgcolor": "white",
           "lakecolor": "white",
           "landcolor": "#E5ECF6",
           "showlakes": true,
           "showland": true,
           "subunitcolor": "white"
          },
          "hoverlabel": {
           "align": "left"
          },
          "hovermode": "closest",
          "mapbox": {
           "style": "light"
          },
          "paper_bgcolor": "white",
          "plot_bgcolor": "#E5ECF6",
          "polar": {
           "angularaxis": {
            "gridcolor": "white",
            "linecolor": "white",
            "ticks": ""
           },
           "bgcolor": "#E5ECF6",
           "radialaxis": {
            "gridcolor": "white",
            "linecolor": "white",
            "ticks": ""
           }
          },
          "scene": {
           "xaxis": {
            "backgroundcolor": "#E5ECF6",
            "gridcolor": "white",
            "gridwidth": 2,
            "linecolor": "white",
            "showbackground": true,
            "ticks": "",
            "zerolinecolor": "white"
           },
           "yaxis": {
            "backgroundcolor": "#E5ECF6",
            "gridcolor": "white",
            "gridwidth": 2,
            "linecolor": "white",
            "showbackground": true,
            "ticks": "",
            "zerolinecolor": "white"
           },
           "zaxis": {
            "backgroundcolor": "#E5ECF6",
            "gridcolor": "white",
            "gridwidth": 2,
            "linecolor": "white",
            "showbackground": true,
            "ticks": "",
            "zerolinecolor": "white"
           }
          },
          "shapedefaults": {
           "line": {
            "color": "#2a3f5f"
           }
          },
          "ternary": {
           "aaxis": {
            "gridcolor": "white",
            "linecolor": "white",
            "ticks": ""
           },
           "baxis": {
            "gridcolor": "white",
            "linecolor": "white",
            "ticks": ""
           },
           "bgcolor": "#E5ECF6",
           "caxis": {
            "gridcolor": "white",
            "linecolor": "white",
            "ticks": ""
           }
          },
          "title": {
           "x": 0.05
          },
          "xaxis": {
           "automargin": true,
           "gridcolor": "white",
           "linecolor": "white",
           "ticks": "",
           "title": {
            "standoff": 15
           },
           "zerolinecolor": "white",
           "zerolinewidth": 2
          },
          "yaxis": {
           "automargin": true,
           "gridcolor": "white",
           "linecolor": "white",
           "ticks": "",
           "title": {
            "standoff": 15
           },
           "zerolinecolor": "white",
           "zerolinewidth": 2
          }
         }
        },
        "title": {
         "text": "The Elbow Technique Visualization"
        },
        "xaxis": {
         "tickangle": -90,
         "title": {
          "text": "The number of Clusters"
         }
        },
        "yaxis": {
         "title": {
          "text": "The WCSS Value"
         }
        }
       }
      },
      "text/html": [
       "<div>                            <div id=\"9b309f50-9b6a-4013-9298-e134886f6287\" class=\"plotly-graph-div\" style=\"height:525px; width:100%;\"></div>            <script type=\"text/javascript\">                require([\"plotly\"], function(Plotly) {                    window.PLOTLYENV=window.PLOTLYENV || {};                                    if (document.getElementById(\"9b309f50-9b6a-4013-9298-e134886f6287\")) {                    Plotly.newPlot(                        \"9b309f50-9b6a-4013-9298-e134886f6287\",                        [{\"mode\":\"lines\",\"name\":\"WCSS Value\",\"x\":[\"k= 1\",\"k= 2\",\"k= 3\",\"k= 4\",\"k= 5\",\"k= 6\",\"k= 7\",\"k= 8\"],\"y\":[5308.539929328621,2905.3329554361208,2133.124951049509,1644.6052077944903,1418.5654238717264,1244.205713457557,1077.8259509700197,990.249512912829],\"type\":\"scatter\"},{\"mode\":\"markers\",\"name\":\"Coordinate\",\"x\":[\"k= 1\",\"k= 2\",\"k= 3\",\"k= 4\",\"k= 5\",\"k= 6\",\"k= 7\",\"k= 8\"],\"y\":[5308.539929328621,2905.3329554361208,2133.124951049509,1644.6052077944903,1418.5654238717264,1244.205713457557,1077.8259509700197,990.249512912829],\"type\":\"scatter\"}],                        {\"title\":{\"text\":\"The Elbow Technique Visualization\"},\"xaxis\":{\"title\":{\"text\":\"The number of Clusters\"},\"tickangle\":-90},\"yaxis\":{\"title\":{\"text\":\"The WCSS Value\"}},\"template\":{\"data\":{\"histogram2dcontour\":[{\"type\":\"histogram2dcontour\",\"colorbar\":{\"outlinewidth\":0,\"ticks\":\"\"},\"colorscale\":[[0.0,\"#0d0887\"],[0.1111111111111111,\"#46039f\"],[0.2222222222222222,\"#7201a8\"],[0.3333333333333333,\"#9c179e\"],[0.4444444444444444,\"#bd3786\"],[0.5555555555555556,\"#d8576b\"],[0.6666666666666666,\"#ed7953\"],[0.7777777777777778,\"#fb9f3a\"],[0.8888888888888888,\"#fdca26\"],[1.0,\"#f0f921\"]]}],\"choropleth\":[{\"type\":\"choropleth\",\"colorbar\":{\"outlinewidth\":0,\"ticks\":\"\"}}],\"histogram2d\":[{\"type\":\"histogram2d\",\"colorbar\":{\"outlinewidth\":0,\"ticks\":\"\"},\"colorscale\":[[0.0,\"#0d0887\"],[0.1111111111111111,\"#46039f\"],[0.2222222222222222,\"#7201a8\"],[0.3333333333333333,\"#9c179e\"],[0.4444444444444444,\"#bd3786\"],[0.5555555555555556,\"#d8576b\"],[0.6666666666666666,\"#ed7953\"],[0.7777777777777778,\"#fb9f3a\"],[0.8888888888888888,\"#fdca26\"],[1.0,\"#f0f921\"]]}],\"heatmap\":[{\"type\":\"heatmap\",\"colorbar\":{\"outlinewidth\":0,\"ticks\":\"\"},\"colorscale\":[[0.0,\"#0d0887\"],[0.1111111111111111,\"#46039f\"],[0.2222222222222222,\"#7201a8\"],[0.3333333333333333,\"#9c179e\"],[0.4444444444444444,\"#bd3786\"],[0.5555555555555556,\"#d8576b\"],[0.6666666666666666,\"#ed7953\"],[0.7777777777777778,\"#fb9f3a\"],[0.8888888888888888,\"#fdca26\"],[1.0,\"#f0f921\"]]}],\"heatmapgl\":[{\"type\":\"heatmapgl\",\"colorbar\":{\"outlinewidth\":0,\"ticks\":\"\"},\"colorscale\":[[0.0,\"#0d0887\"],[0.1111111111111111,\"#46039f\"],[0.2222222222222222,\"#7201a8\"],[0.3333333333333333,\"#9c179e\"],[0.4444444444444444,\"#bd3786\"],[0.5555555555555556,\"#d8576b\"],[0.6666666666666666,\"#ed7953\"],[0.7777777777777778,\"#fb9f3a\"],[0.8888888888888888,\"#fdca26\"],[1.0,\"#f0f921\"]]}],\"contourcarpet\":[{\"type\":\"contourcarpet\",\"colorbar\":{\"outlinewidth\":0,\"ticks\":\"\"}}],\"contour\":[{\"type\":\"contour\",\"colorbar\":{\"outlinewidth\":0,\"ticks\":\"\"},\"colorscale\":[[0.0,\"#0d0887\"],[0.1111111111111111,\"#46039f\"],[0.2222222222222222,\"#7201a8\"],[0.3333333333333333,\"#9c179e\"],[0.4444444444444444,\"#bd3786\"],[0.5555555555555556,\"#d8576b\"],[0.6666666666666666,\"#ed7953\"],[0.7777777777777778,\"#fb9f3a\"],[0.8888888888888888,\"#fdca26\"],[1.0,\"#f0f921\"]]}],\"surface\":[{\"type\":\"surface\",\"colorbar\":{\"outlinewidth\":0,\"ticks\":\"\"},\"colorscale\":[[0.0,\"#0d0887\"],[0.1111111111111111,\"#46039f\"],[0.2222222222222222,\"#7201a8\"],[0.3333333333333333,\"#9c179e\"],[0.4444444444444444,\"#bd3786\"],[0.5555555555555556,\"#d8576b\"],[0.6666666666666666,\"#ed7953\"],[0.7777777777777778,\"#fb9f3a\"],[0.8888888888888888,\"#fdca26\"],[1.0,\"#f0f921\"]]}],\"mesh3d\":[{\"type\":\"mesh3d\",\"colorbar\":{\"outlinewidth\":0,\"ticks\":\"\"}}],\"scatter\":[{\"fillpattern\":{\"fillmode\":\"overlay\",\"size\":10,\"solidity\":0.2},\"type\":\"scatter\"}],\"parcoords\":[{\"type\":\"parcoords\",\"line\":{\"colorbar\":{\"outlinewidth\":0,\"ticks\":\"\"}}}],\"scatterpolargl\":[{\"type\":\"scatterpolargl\",\"marker\":{\"colorbar\":{\"outlinewidth\":0,\"ticks\":\"\"}}}],\"bar\":[{\"error_x\":{\"color\":\"#2a3f5f\"},\"error_y\":{\"color\":\"#2a3f5f\"},\"marker\":{\"line\":{\"color\":\"#E5ECF6\",\"width\":0.5},\"pattern\":{\"fillmode\":\"overlay\",\"size\":10,\"solidity\":0.2}},\"type\":\"bar\"}],\"scattergeo\":[{\"type\":\"scattergeo\",\"marker\":{\"colorbar\":{\"outlinewidth\":0,\"ticks\":\"\"}}}],\"scatterpolar\":[{\"type\":\"scatterpolar\",\"marker\":{\"colorbar\":{\"outlinewidth\":0,\"ticks\":\"\"}}}],\"histogram\":[{\"marker\":{\"pattern\":{\"fillmode\":\"overlay\",\"size\":10,\"solidity\":0.2}},\"type\":\"histogram\"}],\"scattergl\":[{\"type\":\"scattergl\",\"marker\":{\"colorbar\":{\"outlinewidth\":0,\"ticks\":\"\"}}}],\"scatter3d\":[{\"type\":\"scatter3d\",\"line\":{\"colorbar\":{\"outlinewidth\":0,\"ticks\":\"\"}},\"marker\":{\"colorbar\":{\"outlinewidth\":0,\"ticks\":\"\"}}}],\"scattermapbox\":[{\"type\":\"scattermapbox\",\"marker\":{\"colorbar\":{\"outlinewidth\":0,\"ticks\":\"\"}}}],\"scatterternary\":[{\"type\":\"scatterternary\",\"marker\":{\"colorbar\":{\"outlinewidth\":0,\"ticks\":\"\"}}}],\"scattercarpet\":[{\"type\":\"scattercarpet\",\"marker\":{\"colorbar\":{\"outlinewidth\":0,\"ticks\":\"\"}}}],\"carpet\":[{\"aaxis\":{\"endlinecolor\":\"#2a3f5f\",\"gridcolor\":\"white\",\"linecolor\":\"white\",\"minorgridcolor\":\"white\",\"startlinecolor\":\"#2a3f5f\"},\"baxis\":{\"endlinecolor\":\"#2a3f5f\",\"gridcolor\":\"white\",\"linecolor\":\"white\",\"minorgridcolor\":\"white\",\"startlinecolor\":\"#2a3f5f\"},\"type\":\"carpet\"}],\"table\":[{\"cells\":{\"fill\":{\"color\":\"#EBF0F8\"},\"line\":{\"color\":\"white\"}},\"header\":{\"fill\":{\"color\":\"#C8D4E3\"},\"line\":{\"color\":\"white\"}},\"type\":\"table\"}],\"barpolar\":[{\"marker\":{\"line\":{\"color\":\"#E5ECF6\",\"width\":0.5},\"pattern\":{\"fillmode\":\"overlay\",\"size\":10,\"solidity\":0.2}},\"type\":\"barpolar\"}],\"pie\":[{\"automargin\":true,\"type\":\"pie\"}]},\"layout\":{\"autotypenumbers\":\"strict\",\"colorway\":[\"#636efa\",\"#EF553B\",\"#00cc96\",\"#ab63fa\",\"#FFA15A\",\"#19d3f3\",\"#FF6692\",\"#B6E880\",\"#FF97FF\",\"#FECB52\"],\"font\":{\"color\":\"#2a3f5f\"},\"hovermode\":\"closest\",\"hoverlabel\":{\"align\":\"left\"},\"paper_bgcolor\":\"white\",\"plot_bgcolor\":\"#E5ECF6\",\"polar\":{\"bgcolor\":\"#E5ECF6\",\"angularaxis\":{\"gridcolor\":\"white\",\"linecolor\":\"white\",\"ticks\":\"\"},\"radialaxis\":{\"gridcolor\":\"white\",\"linecolor\":\"white\",\"ticks\":\"\"}},\"ternary\":{\"bgcolor\":\"#E5ECF6\",\"aaxis\":{\"gridcolor\":\"white\",\"linecolor\":\"white\",\"ticks\":\"\"},\"baxis\":{\"gridcolor\":\"white\",\"linecolor\":\"white\",\"ticks\":\"\"},\"caxis\":{\"gridcolor\":\"white\",\"linecolor\":\"white\",\"ticks\":\"\"}},\"coloraxis\":{\"colorbar\":{\"outlinewidth\":0,\"ticks\":\"\"}},\"colorscale\":{\"sequential\":[[0.0,\"#0d0887\"],[0.1111111111111111,\"#46039f\"],[0.2222222222222222,\"#7201a8\"],[0.3333333333333333,\"#9c179e\"],[0.4444444444444444,\"#bd3786\"],[0.5555555555555556,\"#d8576b\"],[0.6666666666666666,\"#ed7953\"],[0.7777777777777778,\"#fb9f3a\"],[0.8888888888888888,\"#fdca26\"],[1.0,\"#f0f921\"]],\"sequentialminus\":[[0.0,\"#0d0887\"],[0.1111111111111111,\"#46039f\"],[0.2222222222222222,\"#7201a8\"],[0.3333333333333333,\"#9c179e\"],[0.4444444444444444,\"#bd3786\"],[0.5555555555555556,\"#d8576b\"],[0.6666666666666666,\"#ed7953\"],[0.7777777777777778,\"#fb9f3a\"],[0.8888888888888888,\"#fdca26\"],[1.0,\"#f0f921\"]],\"diverging\":[[0,\"#8e0152\"],[0.1,\"#c51b7d\"],[0.2,\"#de77ae\"],[0.3,\"#f1b6da\"],[0.4,\"#fde0ef\"],[0.5,\"#f7f7f7\"],[0.6,\"#e6f5d0\"],[0.7,\"#b8e186\"],[0.8,\"#7fbc41\"],[0.9,\"#4d9221\"],[1,\"#276419\"]]},\"xaxis\":{\"gridcolor\":\"white\",\"linecolor\":\"white\",\"ticks\":\"\",\"title\":{\"standoff\":15},\"zerolinecolor\":\"white\",\"automargin\":true,\"zerolinewidth\":2},\"yaxis\":{\"gridcolor\":\"white\",\"linecolor\":\"white\",\"ticks\":\"\",\"title\":{\"standoff\":15},\"zerolinecolor\":\"white\",\"automargin\":true,\"zerolinewidth\":2},\"scene\":{\"xaxis\":{\"backgroundcolor\":\"#E5ECF6\",\"gridcolor\":\"white\",\"linecolor\":\"white\",\"showbackground\":true,\"ticks\":\"\",\"zerolinecolor\":\"white\",\"gridwidth\":2},\"yaxis\":{\"backgroundcolor\":\"#E5ECF6\",\"gridcolor\":\"white\",\"linecolor\":\"white\",\"showbackground\":true,\"ticks\":\"\",\"zerolinecolor\":\"white\",\"gridwidth\":2},\"zaxis\":{\"backgroundcolor\":\"#E5ECF6\",\"gridcolor\":\"white\",\"linecolor\":\"white\",\"showbackground\":true,\"ticks\":\"\",\"zerolinecolor\":\"white\",\"gridwidth\":2}},\"shapedefaults\":{\"line\":{\"color\":\"#2a3f5f\"}},\"annotationdefaults\":{\"arrowcolor\":\"#2a3f5f\",\"arrowhead\":0,\"arrowwidth\":1},\"geo\":{\"bgcolor\":\"white\",\"landcolor\":\"#E5ECF6\",\"subunitcolor\":\"white\",\"showland\":true,\"showlakes\":true,\"lakecolor\":\"white\"},\"title\":{\"x\":0.05},\"mapbox\":{\"style\":\"light\"}}}},                        {\"responsive\": true}                    ).then(function(){\n",
       "                            \n",
       "var gd = document.getElementById('9b309f50-9b6a-4013-9298-e134886f6287');\n",
       "var x = new MutationObserver(function (mutations, observer) {{\n",
       "        var display = window.getComputedStyle(gd).display;\n",
       "        if (!display || display === 'none') {{\n",
       "            console.log([gd, 'removed!']);\n",
       "            Plotly.purge(gd);\n",
       "            observer.disconnect();\n",
       "        }}\n",
       "}});\n",
       "\n",
       "// Listen for the removal of the full notebook cells\n",
       "var notebookContainer = gd.closest('#notebook-container');\n",
       "if (notebookContainer) {{\n",
       "    x.observe(notebookContainer, {childList: true});\n",
       "}}\n",
       "\n",
       "// Listen for the clearing of the current output cell\n",
       "var outputEl = gd.closest('.output');\n",
       "if (outputEl) {{\n",
       "    x.observe(outputEl, {childList: true});\n",
       "}}\n",
       "\n",
       "                        })                };                });            </script>        </div>"
      ]
     },
     "metadata": {},
     "output_type": "display_data"
    }
   ],
   "source": [
    "\n",
    "point_plot_trace = go.Scatter(\n",
    "    x = [f'k= {num}' for num in sorted(list(elbow.keys()))],\n",
    "    y = list(elbow.values()),\n",
    "    mode = 'markers',\n",
    "    name = 'Coordinate'\n",
    ")\n",
    "\n",
    "line_trace = go.Scatter(\n",
    "    x = [f'k= {num}' for num in sorted(list(elbow.keys()))],\n",
    "    y = list(elbow.values()),\n",
    "    mode = 'lines',\n",
    "    name = 'WCSS Value'\n",
    ")\n",
    "\n",
    "layout = go.Layout(\n",
    "    title = 'The Elbow Technique Visualization',\n",
    "    xaxis = dict(title='The number of Clusters'),\n",
    "    yaxis = dict(title='The WCSS Value')\n",
    ")\n",
    "\n",
    "point_plot = go.Figure(data=[line_trace, point_plot_trace], layout=layout)\n",
    "point_plot.update_layout(xaxis_tickangle=-90)\n",
    "point_plot.show()"
   ]
  },
  {
   "cell_type": "code",
   "execution_count": 44,
   "metadata": {},
   "outputs": [
    {
     "data": {
      "text/plain": [
       "KMeans(n_clusters=50, random_state=0)"
      ]
     },
     "execution_count": 44,
     "metadata": {},
     "output_type": "execute_result"
    }
   ],
   "source": [
    "kmeans = KMeans(n_clusters=50, random_state=0)\n",
    "kmeans.fit(X)"
   ]
  },
  {
   "cell_type": "code",
   "execution_count": 45,
   "metadata": {},
   "outputs": [
    {
     "data": {
      "text/plain": [
       "(array([ 0,  1,  2,  3,  4,  5,  6,  7,  8,  9, 10, 11, 12, 13, 14, 15, 16,\n",
       "        17, 18, 19, 20, 21, 22, 23, 24, 25, 26, 27, 28, 29, 30, 31, 32, 33,\n",
       "        34, 35, 36, 37, 38, 39, 40, 41, 42, 43, 44, 45, 46, 47, 48, 49]),\n",
       " array([ 28,  96,  28,  36,  22,  25,  22,  12,  74,  17,  48,  25,  27,\n",
       "         67,  45, 104,  47,  52,  33,  27,  54,  38,  30,  14,  34,  25,\n",
       "         12,  35,  30,  23,  17,  23,  20,  18,  13,  19,  15,  12,  15,\n",
       "         14,  13,  12,  12,  14,  17,  10,  10,  12,  11,   8], dtype=int64))"
      ]
     },
     "execution_count": 45,
     "metadata": {},
     "output_type": "execute_result"
    }
   ],
   "source": [
    "np.unique(kmeans.labels_, return_counts=True)"
   ]
  },
  {
   "cell_type": "code",
   "execution_count": 46,
   "metadata": {},
   "outputs": [],
   "source": [
    "rfm_df['KMeans y_pred'] = kmeans.labels_"
   ]
  },
  {
   "cell_type": "code",
   "execution_count": 47,
   "metadata": {},
   "outputs": [
    {
     "name": "stdout",
     "output_type": "stream",
     "text": [
      "0.9390292583386687\n"
     ]
    }
   ],
   "source": [
    "\n",
    "print(silhouette_score(X=X, labels=rfm_df['KMeans y_pred']))"
   ]
  },
  {
   "cell_type": "markdown",
   "metadata": {},
   "source": [
    "DBScan"
   ]
  },
  {
   "cell_type": "code",
   "execution_count": 48,
   "metadata": {},
   "outputs": [
    {
     "data": {
      "text/plain": [
       "DBSCAN()"
      ]
     },
     "execution_count": 48,
     "metadata": {},
     "output_type": "execute_result"
    }
   ],
   "source": [
    "dbscan = DBSCAN(eps=.5, min_samples=5)\n",
    "dbscan.fit(X)"
   ]
  },
  {
   "cell_type": "code",
   "execution_count": 49,
   "metadata": {},
   "outputs": [],
   "source": [
    "rfm_df['DBSCAN y_pred'] =dbscan.labels_"
   ]
  },
  {
   "cell_type": "code",
   "execution_count": 50,
   "metadata": {},
   "outputs": [
    {
     "data": {
      "text/plain": [
       "(array([-1,  0,  1,  2,  3,  4,  5,  6,  7,  8,  9, 10, 11, 12, 13, 14, 15,\n",
       "        16, 17, 18, 19, 20, 21, 22, 23, 24, 25, 26, 27, 28, 29, 30, 31, 32,\n",
       "        33, 34, 35, 36, 37, 38, 39, 40, 41, 42, 43, 44, 45, 46, 47, 48, 49,\n",
       "        50, 51, 52, 53, 54, 55], dtype=int64),\n",
       " array([ 24,   6,  96,   5,  25,  54,  34,  74,  67, 104,  22,  23,  30,\n",
       "         38,  20,  21,  25,  22,  47,   5,  52,  48,  17,  15,  11,  36,\n",
       "         10,  12,  45,   6,   7,   7,  28,  33,  12,  17,  23,  14,   6,\n",
       "         10,  12,  35,  12,  20,  14,  27,  19,   5,  27,   8,  12,  12,\n",
       "         22,  13,   6,  14,   6], dtype=int64))"
      ]
     },
     "execution_count": 50,
     "metadata": {},
     "output_type": "execute_result"
    }
   ],
   "source": [
    "np.unique(rfm_df['DBSCAN y_pred'], return_counts=True)"
   ]
  },
  {
   "cell_type": "code",
   "execution_count": 51,
   "metadata": {},
   "outputs": [
    {
     "data": {
      "text/plain": [
       "<__main__.RFMDetails at 0x17cb4ec7130>"
      ]
     },
     "execution_count": 51,
     "metadata": {},
     "output_type": "execute_result"
    }
   ],
   "source": [
    "rfm_details = RFMDetails('DBSCAN y_pred', with_average=False, start=-1)\n",
    "rfm_details"
   ]
  },
  {
   "cell_type": "code",
   "execution_count": 52,
   "metadata": {},
   "outputs": [
    {
     "data": {
      "text/html": [
       "<div>\n",
       "<style scoped>\n",
       "    .dataframe tbody tr th:only-of-type {\n",
       "        vertical-align: middle;\n",
       "    }\n",
       "\n",
       "    .dataframe tbody tr th {\n",
       "        vertical-align: top;\n",
       "    }\n",
       "\n",
       "    .dataframe thead th {\n",
       "        text-align: right;\n",
       "    }\n",
       "</style>\n",
       "<table border=\"1\" class=\"dataframe\">\n",
       "  <thead>\n",
       "    <tr style=\"text-align: right;\">\n",
       "      <th></th>\n",
       "      <th></th>\n",
       "      <th>Recency</th>\n",
       "      <th>Frequency</th>\n",
       "      <th>Monetary</th>\n",
       "    </tr>\n",
       "  </thead>\n",
       "  <tbody>\n",
       "    <tr>\n",
       "      <th>Outlier Cluster</th>\n",
       "      <th>mean</th>\n",
       "      <td>32.041667</td>\n",
       "      <td>33.166667</td>\n",
       "      <td>799.417500</td>\n",
       "    </tr>\n",
       "    <tr>\n",
       "      <th>Cluster 1</th>\n",
       "      <th>mean</th>\n",
       "      <td>2.833333</td>\n",
       "      <td>13.000000</td>\n",
       "      <td>112.156667</td>\n",
       "    </tr>\n",
       "    <tr>\n",
       "      <th>Cluster 2</th>\n",
       "      <th>mean</th>\n",
       "      <td>56.468750</td>\n",
       "      <td>3.312500</td>\n",
       "      <td>17.094792</td>\n",
       "    </tr>\n",
       "    <tr>\n",
       "      <th>Cluster 3</th>\n",
       "      <th>mean</th>\n",
       "      <td>55.000000</td>\n",
       "      <td>16.400000</td>\n",
       "      <td>958.776000</td>\n",
       "    </tr>\n",
       "    <tr>\n",
       "      <th>Cluster 4</th>\n",
       "      <th>mean</th>\n",
       "      <td>44.080000</td>\n",
       "      <td>30.440000</td>\n",
       "      <td>1192.892000</td>\n",
       "    </tr>\n",
       "    <tr>\n",
       "      <th>Cluster 5</th>\n",
       "      <th>mean</th>\n",
       "      <td>3.814815</td>\n",
       "      <td>2.388889</td>\n",
       "      <td>33.444444</td>\n",
       "    </tr>\n",
       "    <tr>\n",
       "      <th>Cluster 6</th>\n",
       "      <th>mean</th>\n",
       "      <td>16.352941</td>\n",
       "      <td>34.470588</td>\n",
       "      <td>1709.327647</td>\n",
       "    </tr>\n",
       "    <tr>\n",
       "      <th>Cluster 7</th>\n",
       "      <th>mean</th>\n",
       "      <td>14.418919</td>\n",
       "      <td>106.472973</td>\n",
       "      <td>3125.932027</td>\n",
       "    </tr>\n",
       "    <tr>\n",
       "      <th>Cluster 8</th>\n",
       "      <th>mean</th>\n",
       "      <td>45.597015</td>\n",
       "      <td>3.731343</td>\n",
       "      <td>45.846119</td>\n",
       "    </tr>\n",
       "    <tr>\n",
       "      <th>Cluster 9</th>\n",
       "      <th>mean</th>\n",
       "      <td>3.682692</td>\n",
       "      <td>142.846154</td>\n",
       "      <td>3700.706548</td>\n",
       "    </tr>\n",
       "    <tr>\n",
       "      <th>Cluster 10</th>\n",
       "      <th>mean</th>\n",
       "      <td>44.409091</td>\n",
       "      <td>17.409091</td>\n",
       "      <td>490.862273</td>\n",
       "    </tr>\n",
       "    <tr>\n",
       "      <th>Cluster 11</th>\n",
       "      <th>mean</th>\n",
       "      <td>56.086957</td>\n",
       "      <td>18.130435</td>\n",
       "      <td>447.711304</td>\n",
       "    </tr>\n",
       "    <tr>\n",
       "      <th>Cluster 12</th>\n",
       "      <th>mean</th>\n",
       "      <td>42.866667</td>\n",
       "      <td>87.833333</td>\n",
       "      <td>1643.062000</td>\n",
       "    </tr>\n",
       "    <tr>\n",
       "      <th>Cluster 13</th>\n",
       "      <th>mean</th>\n",
       "      <td>3.394737</td>\n",
       "      <td>31.421053</td>\n",
       "      <td>481.489500</td>\n",
       "    </tr>\n",
       "    <tr>\n",
       "      <th>Cluster 14</th>\n",
       "      <th>mean</th>\n",
       "      <td>14.600000</td>\n",
       "      <td>30.200000</td>\n",
       "      <td>249.416500</td>\n",
       "    </tr>\n",
       "    <tr>\n",
       "      <th>Cluster 15</th>\n",
       "      <th>mean</th>\n",
       "      <td>3.619048</td>\n",
       "      <td>70.428571</td>\n",
       "      <td>548.499524</td>\n",
       "    </tr>\n",
       "    <tr>\n",
       "      <th>Cluster 16</th>\n",
       "      <th>mean</th>\n",
       "      <td>55.880000</td>\n",
       "      <td>5.960000</td>\n",
       "      <td>236.254800</td>\n",
       "    </tr>\n",
       "    <tr>\n",
       "      <th>Cluster 17</th>\n",
       "      <th>mean</th>\n",
       "      <td>3.863636</td>\n",
       "      <td>32.636364</td>\n",
       "      <td>2282.522727</td>\n",
       "    </tr>\n",
       "    <tr>\n",
       "      <th>Cluster 18</th>\n",
       "      <th>mean</th>\n",
       "      <td>55.808511</td>\n",
       "      <td>15.191489</td>\n",
       "      <td>255.965319</td>\n",
       "    </tr>\n",
       "    <tr>\n",
       "      <th>Cluster 19</th>\n",
       "      <th>mean</th>\n",
       "      <td>55.400000</td>\n",
       "      <td>36.000000</td>\n",
       "      <td>1038.712000</td>\n",
       "    </tr>\n",
       "    <tr>\n",
       "      <th>Cluster 20</th>\n",
       "      <th>mean</th>\n",
       "      <td>45.057692</td>\n",
       "      <td>15.653846</td>\n",
       "      <td>269.002500</td>\n",
       "    </tr>\n",
       "    <tr>\n",
       "      <th>Cluster 21</th>\n",
       "      <th>mean</th>\n",
       "      <td>14.791667</td>\n",
       "      <td>16.208333</td>\n",
       "      <td>262.458125</td>\n",
       "    </tr>\n",
       "    <tr>\n",
       "      <th>Cluster 22</th>\n",
       "      <th>mean</th>\n",
       "      <td>14.588235</td>\n",
       "      <td>17.764706</td>\n",
       "      <td>490.678235</td>\n",
       "    </tr>\n",
       "    <tr>\n",
       "      <th>Cluster 23</th>\n",
       "      <th>mean</th>\n",
       "      <td>45.466667</td>\n",
       "      <td>5.400000</td>\n",
       "      <td>487.159333</td>\n",
       "    </tr>\n",
       "    <tr>\n",
       "      <th>Cluster 24</th>\n",
       "      <th>mean</th>\n",
       "      <td>4.181818</td>\n",
       "      <td>4.818182</td>\n",
       "      <td>237.537273</td>\n",
       "    </tr>\n",
       "    <tr>\n",
       "      <th>Cluster 25</th>\n",
       "      <th>mean</th>\n",
       "      <td>16.000000</td>\n",
       "      <td>4.333333</td>\n",
       "      <td>66.590556</td>\n",
       "    </tr>\n",
       "    <tr>\n",
       "      <th>Cluster 26</th>\n",
       "      <th>mean</th>\n",
       "      <td>56.700000</td>\n",
       "      <td>70.300000</td>\n",
       "      <td>1063.923000</td>\n",
       "    </tr>\n",
       "    <tr>\n",
       "      <th>Cluster 27</th>\n",
       "      <th>mean</th>\n",
       "      <td>16.416667</td>\n",
       "      <td>5.916667</td>\n",
       "      <td>234.003333</td>\n",
       "    </tr>\n",
       "    <tr>\n",
       "      <th>Cluster 28</th>\n",
       "      <th>mean</th>\n",
       "      <td>14.111111</td>\n",
       "      <td>32.111111</td>\n",
       "      <td>519.518889</td>\n",
       "    </tr>\n",
       "    <tr>\n",
       "      <th>Cluster 29</th>\n",
       "      <th>mean</th>\n",
       "      <td>2.833333</td>\n",
       "      <td>6.166667</td>\n",
       "      <td>514.475000</td>\n",
       "    </tr>\n",
       "    <tr>\n",
       "      <th>Cluster 30</th>\n",
       "      <th>mean</th>\n",
       "      <td>54.285714</td>\n",
       "      <td>5.142857</td>\n",
       "      <td>393.730000</td>\n",
       "    </tr>\n",
       "    <tr>\n",
       "      <th>Cluster 31</th>\n",
       "      <th>mean</th>\n",
       "      <td>3.571429</td>\n",
       "      <td>29.714286</td>\n",
       "      <td>126.871429</td>\n",
       "    </tr>\n",
       "    <tr>\n",
       "      <th>Cluster 32</th>\n",
       "      <th>mean</th>\n",
       "      <td>46.678571</td>\n",
       "      <td>71.607143</td>\n",
       "      <td>510.835357</td>\n",
       "    </tr>\n",
       "    <tr>\n",
       "      <th>Cluster 33</th>\n",
       "      <th>mean</th>\n",
       "      <td>4.090909</td>\n",
       "      <td>16.000000</td>\n",
       "      <td>253.488182</td>\n",
       "    </tr>\n",
       "    <tr>\n",
       "      <th>Cluster 34</th>\n",
       "      <th>mean</th>\n",
       "      <td>15.500000</td>\n",
       "      <td>14.166667</td>\n",
       "      <td>129.430833</td>\n",
       "    </tr>\n",
       "    <tr>\n",
       "      <th>Cluster 35</th>\n",
       "      <th>mean</th>\n",
       "      <td>44.411765</td>\n",
       "      <td>30.764706</td>\n",
       "      <td>270.807059</td>\n",
       "    </tr>\n",
       "    <tr>\n",
       "      <th>Cluster 36</th>\n",
       "      <th>mean</th>\n",
       "      <td>3.869565</td>\n",
       "      <td>16.695652</td>\n",
       "      <td>413.757826</td>\n",
       "    </tr>\n",
       "    <tr>\n",
       "      <th>Cluster 37</th>\n",
       "      <th>mean</th>\n",
       "      <td>16.642857</td>\n",
       "      <td>16.642857</td>\n",
       "      <td>1646.093571</td>\n",
       "    </tr>\n",
       "    <tr>\n",
       "      <th>Cluster 38</th>\n",
       "      <th>mean</th>\n",
       "      <td>3.666667</td>\n",
       "      <td>16.333333</td>\n",
       "      <td>1276.001667</td>\n",
       "    </tr>\n",
       "    <tr>\n",
       "      <th>Cluster 39</th>\n",
       "      <th>mean</th>\n",
       "      <td>42.900000</td>\n",
       "      <td>33.000000</td>\n",
       "      <td>141.075000</td>\n",
       "    </tr>\n",
       "    <tr>\n",
       "      <th>Cluster 40</th>\n",
       "      <th>mean</th>\n",
       "      <td>17.250000</td>\n",
       "      <td>5.583333</td>\n",
       "      <td>504.092500</td>\n",
       "    </tr>\n",
       "    <tr>\n",
       "      <th>Cluster 41</th>\n",
       "      <th>mean</th>\n",
       "      <td>41.771429</td>\n",
       "      <td>31.057143</td>\n",
       "      <td>496.673143</td>\n",
       "    </tr>\n",
       "    <tr>\n",
       "      <th>Cluster 42</th>\n",
       "      <th>mean</th>\n",
       "      <td>57.000000</td>\n",
       "      <td>56.750000</td>\n",
       "      <td>245.167500</td>\n",
       "    </tr>\n",
       "    <tr>\n",
       "      <th>Cluster 43</th>\n",
       "      <th>mean</th>\n",
       "      <td>55.550000</td>\n",
       "      <td>30.850000</td>\n",
       "      <td>503.061000</td>\n",
       "    </tr>\n",
       "    <tr>\n",
       "      <th>Cluster 44</th>\n",
       "      <th>mean</th>\n",
       "      <td>55.571429</td>\n",
       "      <td>74.500000</td>\n",
       "      <td>483.825000</td>\n",
       "    </tr>\n",
       "    <tr>\n",
       "      <th>Cluster 45</th>\n",
       "      <th>mean</th>\n",
       "      <td>54.962963</td>\n",
       "      <td>15.148148</td>\n",
       "      <td>92.988519</td>\n",
       "    </tr>\n",
       "    <tr>\n",
       "      <th>Cluster 46</th>\n",
       "      <th>mean</th>\n",
       "      <td>43.894737</td>\n",
       "      <td>6.000000</td>\n",
       "      <td>261.786842</td>\n",
       "    </tr>\n",
       "    <tr>\n",
       "      <th>Cluster 47</th>\n",
       "      <th>mean</th>\n",
       "      <td>14.400000</td>\n",
       "      <td>31.600000</td>\n",
       "      <td>136.892000</td>\n",
       "    </tr>\n",
       "    <tr>\n",
       "      <th>Cluster 48</th>\n",
       "      <th>mean</th>\n",
       "      <td>14.444444</td>\n",
       "      <td>66.370370</td>\n",
       "      <td>528.364815</td>\n",
       "    </tr>\n",
       "    <tr>\n",
       "      <th>Cluster 49</th>\n",
       "      <th>mean</th>\n",
       "      <td>39.125000</td>\n",
       "      <td>17.125000</td>\n",
       "      <td>1397.217500</td>\n",
       "    </tr>\n",
       "    <tr>\n",
       "      <th>Cluster 50</th>\n",
       "      <th>mean</th>\n",
       "      <td>4.083333</td>\n",
       "      <td>31.916667</td>\n",
       "      <td>280.638333</td>\n",
       "    </tr>\n",
       "    <tr>\n",
       "      <th>Cluster 51</th>\n",
       "      <th>mean</th>\n",
       "      <td>45.916667</td>\n",
       "      <td>17.333333</td>\n",
       "      <td>127.787500</td>\n",
       "    </tr>\n",
       "    <tr>\n",
       "      <th>Cluster 52</th>\n",
       "      <th>mean</th>\n",
       "      <td>56.636364</td>\n",
       "      <td>32.136364</td>\n",
       "      <td>245.122273</td>\n",
       "    </tr>\n",
       "    <tr>\n",
       "      <th>Cluster 53</th>\n",
       "      <th>mean</th>\n",
       "      <td>57.153846</td>\n",
       "      <td>32.153846</td>\n",
       "      <td>69.409231</td>\n",
       "    </tr>\n",
       "    <tr>\n",
       "      <th>Cluster 54</th>\n",
       "      <th>mean</th>\n",
       "      <td>12.333333</td>\n",
       "      <td>54.833333</td>\n",
       "      <td>268.785000</td>\n",
       "    </tr>\n",
       "    <tr>\n",
       "      <th>Cluster 55</th>\n",
       "      <th>mean</th>\n",
       "      <td>45.000000</td>\n",
       "      <td>58.571429</td>\n",
       "      <td>243.884286</td>\n",
       "    </tr>\n",
       "    <tr>\n",
       "      <th>Cluster 56</th>\n",
       "      <th>mean</th>\n",
       "      <td>2.333333</td>\n",
       "      <td>5.500000</td>\n",
       "      <td>1393.885000</td>\n",
       "    </tr>\n",
       "  </tbody>\n",
       "</table>\n",
       "</div>"
      ],
      "text/plain": [
       "                        Recency   Frequency     Monetary\n",
       "Outlier Cluster mean  32.041667   33.166667   799.417500\n",
       "Cluster 1       mean   2.833333   13.000000   112.156667\n",
       "Cluster 2       mean  56.468750    3.312500    17.094792\n",
       "Cluster 3       mean  55.000000   16.400000   958.776000\n",
       "Cluster 4       mean  44.080000   30.440000  1192.892000\n",
       "Cluster 5       mean   3.814815    2.388889    33.444444\n",
       "Cluster 6       mean  16.352941   34.470588  1709.327647\n",
       "Cluster 7       mean  14.418919  106.472973  3125.932027\n",
       "Cluster 8       mean  45.597015    3.731343    45.846119\n",
       "Cluster 9       mean   3.682692  142.846154  3700.706548\n",
       "Cluster 10      mean  44.409091   17.409091   490.862273\n",
       "Cluster 11      mean  56.086957   18.130435   447.711304\n",
       "Cluster 12      mean  42.866667   87.833333  1643.062000\n",
       "Cluster 13      mean   3.394737   31.421053   481.489500\n",
       "Cluster 14      mean  14.600000   30.200000   249.416500\n",
       "Cluster 15      mean   3.619048   70.428571   548.499524\n",
       "Cluster 16      mean  55.880000    5.960000   236.254800\n",
       "Cluster 17      mean   3.863636   32.636364  2282.522727\n",
       "Cluster 18      mean  55.808511   15.191489   255.965319\n",
       "Cluster 19      mean  55.400000   36.000000  1038.712000\n",
       "Cluster 20      mean  45.057692   15.653846   269.002500\n",
       "Cluster 21      mean  14.791667   16.208333   262.458125\n",
       "Cluster 22      mean  14.588235   17.764706   490.678235\n",
       "Cluster 23      mean  45.466667    5.400000   487.159333\n",
       "Cluster 24      mean   4.181818    4.818182   237.537273\n",
       "Cluster 25      mean  16.000000    4.333333    66.590556\n",
       "Cluster 26      mean  56.700000   70.300000  1063.923000\n",
       "Cluster 27      mean  16.416667    5.916667   234.003333\n",
       "Cluster 28      mean  14.111111   32.111111   519.518889\n",
       "Cluster 29      mean   2.833333    6.166667   514.475000\n",
       "Cluster 30      mean  54.285714    5.142857   393.730000\n",
       "Cluster 31      mean   3.571429   29.714286   126.871429\n",
       "Cluster 32      mean  46.678571   71.607143   510.835357\n",
       "Cluster 33      mean   4.090909   16.000000   253.488182\n",
       "Cluster 34      mean  15.500000   14.166667   129.430833\n",
       "Cluster 35      mean  44.411765   30.764706   270.807059\n",
       "Cluster 36      mean   3.869565   16.695652   413.757826\n",
       "Cluster 37      mean  16.642857   16.642857  1646.093571\n",
       "Cluster 38      mean   3.666667   16.333333  1276.001667\n",
       "Cluster 39      mean  42.900000   33.000000   141.075000\n",
       "Cluster 40      mean  17.250000    5.583333   504.092500\n",
       "Cluster 41      mean  41.771429   31.057143   496.673143\n",
       "Cluster 42      mean  57.000000   56.750000   245.167500\n",
       "Cluster 43      mean  55.550000   30.850000   503.061000\n",
       "Cluster 44      mean  55.571429   74.500000   483.825000\n",
       "Cluster 45      mean  54.962963   15.148148    92.988519\n",
       "Cluster 46      mean  43.894737    6.000000   261.786842\n",
       "Cluster 47      mean  14.400000   31.600000   136.892000\n",
       "Cluster 48      mean  14.444444   66.370370   528.364815\n",
       "Cluster 49      mean  39.125000   17.125000  1397.217500\n",
       "Cluster 50      mean   4.083333   31.916667   280.638333\n",
       "Cluster 51      mean  45.916667   17.333333   127.787500\n",
       "Cluster 52      mean  56.636364   32.136364   245.122273\n",
       "Cluster 53      mean  57.153846   32.153846    69.409231\n",
       "Cluster 54      mean  12.333333   54.833333   268.785000\n",
       "Cluster 55      mean  45.000000   58.571429   243.884286\n",
       "Cluster 56      mean   2.333333    5.500000  1393.885000"
      ]
     },
     "execution_count": 52,
     "metadata": {},
     "output_type": "execute_result"
    }
   ],
   "source": [
    "rfm_mean_df = rfm_details.rfm_mean_df\n",
    "rfm_mean_df"
   ]
  },
  {
   "cell_type": "code",
   "execution_count": 53,
   "metadata": {},
   "outputs": [
    {
     "data": {
      "text/plain": [
       "Recency       32.041667\n",
       "Frequency     33.166667\n",
       "Monetary     799.417500\n",
       "dtype: float64"
      ]
     },
     "execution_count": 53,
     "metadata": {},
     "output_type": "execute_result"
    }
   ],
   "source": [
    "rfm_df[rfm_df[\"DBSCAN y_pred\"] == -1][['Recency', 'Frequency', 'Monetary']].mean()"
   ]
  },
  {
   "cell_type": "code",
   "execution_count": 54,
   "metadata": {},
   "outputs": [
    {
     "data": {
      "application/vnd.plotly.v1+json": {
       "config": {
        "plotlyServerURL": "https://plot.ly"
       },
       "data": [
        {
         "name": "Recency",
         "type": "bar",
         "x": [
          "Outlier Cluster",
          "Cluster 1",
          "Cluster 2",
          "Cluster 3",
          "Cluster 4",
          "Cluster 5",
          "Cluster 6",
          "Cluster 7",
          "Cluster 8",
          "Cluster 9",
          "Cluster 10",
          "Cluster 11",
          "Cluster 12",
          "Cluster 13",
          "Cluster 14",
          "Cluster 15",
          "Cluster 16",
          "Cluster 17",
          "Cluster 18",
          "Cluster 19",
          "Cluster 20",
          "Cluster 21",
          "Cluster 22",
          "Cluster 23",
          "Cluster 24",
          "Cluster 25",
          "Cluster 26",
          "Cluster 27",
          "Cluster 28",
          "Cluster 29",
          "Cluster 30",
          "Cluster 31",
          "Cluster 32",
          "Cluster 33",
          "Cluster 34",
          "Cluster 35",
          "Cluster 36",
          "Cluster 37",
          "Cluster 38",
          "Cluster 39",
          "Cluster 40",
          "Cluster 41",
          "Cluster 42",
          "Cluster 43",
          "Cluster 44",
          "Cluster 45",
          "Cluster 46",
          "Cluster 47",
          "Cluster 48",
          "Cluster 49",
          "Cluster 50",
          "Cluster 51",
          "Cluster 52",
          "Cluster 53",
          "Cluster 54",
          "Cluster 55",
          "Cluster 56"
         ],
         "y": [
          32.041666666666664,
          2.8333333333333335,
          56.46875,
          55,
          44.08,
          3.814814814814815,
          16.352941176470587,
          14.41891891891892,
          45.59701492537314,
          3.6826923076923075,
          44.40909090909091,
          56.08695652173913,
          42.86666666666667,
          3.3947368421052633,
          14.6,
          3.619047619047619,
          55.88,
          3.8636363636363638,
          55.808510638297875,
          55.4,
          45.05769230769231,
          14.791666666666666,
          14.588235294117647,
          45.46666666666667,
          4.181818181818182,
          16,
          56.7,
          16.416666666666668,
          14.11111111111111,
          2.8333333333333335,
          54.285714285714285,
          3.5714285714285716,
          46.67857142857143,
          4.090909090909091,
          15.5,
          44.411764705882355,
          3.869565217391304,
          16.642857142857142,
          3.6666666666666665,
          42.9,
          17.25,
          41.77142857142857,
          57,
          55.55,
          55.57142857142857,
          54.96296296296296,
          43.89473684210526,
          14.4,
          14.444444444444445,
          39.125,
          4.083333333333333,
          45.916666666666664,
          56.63636363636363,
          57.15384615384615,
          12.333333333333334,
          45,
          2.3333333333333335
         ]
        },
        {
         "name": "Frequency",
         "type": "bar",
         "x": [
          "Outlier Cluster",
          "Cluster 1",
          "Cluster 2",
          "Cluster 3",
          "Cluster 4",
          "Cluster 5",
          "Cluster 6",
          "Cluster 7",
          "Cluster 8",
          "Cluster 9",
          "Cluster 10",
          "Cluster 11",
          "Cluster 12",
          "Cluster 13",
          "Cluster 14",
          "Cluster 15",
          "Cluster 16",
          "Cluster 17",
          "Cluster 18",
          "Cluster 19",
          "Cluster 20",
          "Cluster 21",
          "Cluster 22",
          "Cluster 23",
          "Cluster 24",
          "Cluster 25",
          "Cluster 26",
          "Cluster 27",
          "Cluster 28",
          "Cluster 29",
          "Cluster 30",
          "Cluster 31",
          "Cluster 32",
          "Cluster 33",
          "Cluster 34",
          "Cluster 35",
          "Cluster 36",
          "Cluster 37",
          "Cluster 38",
          "Cluster 39",
          "Cluster 40",
          "Cluster 41",
          "Cluster 42",
          "Cluster 43",
          "Cluster 44",
          "Cluster 45",
          "Cluster 46",
          "Cluster 47",
          "Cluster 48",
          "Cluster 49",
          "Cluster 50",
          "Cluster 51",
          "Cluster 52",
          "Cluster 53",
          "Cluster 54",
          "Cluster 55",
          "Cluster 56"
         ],
         "y": [
          33.166666666666664,
          13,
          3.3125,
          16.4,
          30.44,
          2.388888888888889,
          34.470588235294116,
          106.47297297297297,
          3.7313432835820897,
          142.84615384615384,
          17.40909090909091,
          18.130434782608695,
          87.83333333333333,
          31.42105263157895,
          30.2,
          70.42857142857143,
          5.96,
          32.63636363636363,
          15.191489361702128,
          36,
          15.653846153846153,
          16.208333333333332,
          17.764705882352942,
          5.4,
          4.818181818181818,
          4.333333333333333,
          70.3,
          5.916666666666667,
          32.111111111111114,
          6.166666666666667,
          5.142857142857143,
          29.714285714285715,
          71.60714285714286,
          16,
          14.166666666666666,
          30.764705882352942,
          16.695652173913043,
          16.642857142857142,
          16.333333333333332,
          33,
          5.583333333333333,
          31.057142857142857,
          56.75,
          30.85,
          74.5,
          15.148148148148149,
          6,
          31.6,
          66.37037037037037,
          17.125,
          31.916666666666668,
          17.333333333333332,
          32.13636363636363,
          32.15384615384615,
          54.833333333333336,
          58.57142857142857,
          5.5
         ]
        },
        {
         "name": "Monetary",
         "type": "bar",
         "x": [
          "Outlier Cluster",
          "Cluster 1",
          "Cluster 2",
          "Cluster 3",
          "Cluster 4",
          "Cluster 5",
          "Cluster 6",
          "Cluster 7",
          "Cluster 8",
          "Cluster 9",
          "Cluster 10",
          "Cluster 11",
          "Cluster 12",
          "Cluster 13",
          "Cluster 14",
          "Cluster 15",
          "Cluster 16",
          "Cluster 17",
          "Cluster 18",
          "Cluster 19",
          "Cluster 20",
          "Cluster 21",
          "Cluster 22",
          "Cluster 23",
          "Cluster 24",
          "Cluster 25",
          "Cluster 26",
          "Cluster 27",
          "Cluster 28",
          "Cluster 29",
          "Cluster 30",
          "Cluster 31",
          "Cluster 32",
          "Cluster 33",
          "Cluster 34",
          "Cluster 35",
          "Cluster 36",
          "Cluster 37",
          "Cluster 38",
          "Cluster 39",
          "Cluster 40",
          "Cluster 41",
          "Cluster 42",
          "Cluster 43",
          "Cluster 44",
          "Cluster 45",
          "Cluster 46",
          "Cluster 47",
          "Cluster 48",
          "Cluster 49",
          "Cluster 50",
          "Cluster 51",
          "Cluster 52",
          "Cluster 53",
          "Cluster 54",
          "Cluster 55",
          "Cluster 56"
         ],
         "y": [
          799.4175,
          112.15666666666668,
          17.094791666666655,
          958.7760000000001,
          1192.892,
          33.44444444444444,
          1709.3276470588232,
          3125.932027027027,
          45.846119402985074,
          3700.7065480769234,
          490.8622727272728,
          447.7113043478262,
          1643.0620000000004,
          481.48949999999985,
          249.41649999999996,
          548.4995238095239,
          236.25480000000005,
          2282.5227272727275,
          255.96531914893615,
          1038.712,
          269.00249999999994,
          262.45812500000005,
          490.6782352941177,
          487.1593333333333,
          237.53727272727272,
          66.59055555555555,
          1063.9230000000002,
          234.00333333333333,
          519.5188888888888,
          514.475,
          393.73,
          126.87142857142858,
          510.83535714285716,
          253.48818181818183,
          129.43083333333334,
          270.8070588235294,
          413.75782608695664,
          1646.0935714285713,
          1276.0016666666666,
          141.075,
          504.0924999999999,
          496.6731428571428,
          245.16750000000002,
          503.06100000000004,
          483.82499999999993,
          92.98851851851852,
          261.7868421052632,
          136.892,
          528.3648148148148,
          1397.2175000000002,
          280.6383333333334,
          127.78749999999998,
          245.12227272727276,
          69.40923076923077,
          268.78499999999997,
          243.8842857142857,
          1393.885
         ]
        }
       ],
       "layout": {
        "barmode": "stack",
        "template": {
         "data": {
          "bar": [
           {
            "error_x": {
             "color": "#2a3f5f"
            },
            "error_y": {
             "color": "#2a3f5f"
            },
            "marker": {
             "line": {
              "color": "#E5ECF6",
              "width": 0.5
             },
             "pattern": {
              "fillmode": "overlay",
              "size": 10,
              "solidity": 0.2
             }
            },
            "type": "bar"
           }
          ],
          "barpolar": [
           {
            "marker": {
             "line": {
              "color": "#E5ECF6",
              "width": 0.5
             },
             "pattern": {
              "fillmode": "overlay",
              "size": 10,
              "solidity": 0.2
             }
            },
            "type": "barpolar"
           }
          ],
          "carpet": [
           {
            "aaxis": {
             "endlinecolor": "#2a3f5f",
             "gridcolor": "white",
             "linecolor": "white",
             "minorgridcolor": "white",
             "startlinecolor": "#2a3f5f"
            },
            "baxis": {
             "endlinecolor": "#2a3f5f",
             "gridcolor": "white",
             "linecolor": "white",
             "minorgridcolor": "white",
             "startlinecolor": "#2a3f5f"
            },
            "type": "carpet"
           }
          ],
          "choropleth": [
           {
            "colorbar": {
             "outlinewidth": 0,
             "ticks": ""
            },
            "type": "choropleth"
           }
          ],
          "contour": [
           {
            "colorbar": {
             "outlinewidth": 0,
             "ticks": ""
            },
            "colorscale": [
             [
              0,
              "#0d0887"
             ],
             [
              0.1111111111111111,
              "#46039f"
             ],
             [
              0.2222222222222222,
              "#7201a8"
             ],
             [
              0.3333333333333333,
              "#9c179e"
             ],
             [
              0.4444444444444444,
              "#bd3786"
             ],
             [
              0.5555555555555556,
              "#d8576b"
             ],
             [
              0.6666666666666666,
              "#ed7953"
             ],
             [
              0.7777777777777778,
              "#fb9f3a"
             ],
             [
              0.8888888888888888,
              "#fdca26"
             ],
             [
              1,
              "#f0f921"
             ]
            ],
            "type": "contour"
           }
          ],
          "contourcarpet": [
           {
            "colorbar": {
             "outlinewidth": 0,
             "ticks": ""
            },
            "type": "contourcarpet"
           }
          ],
          "heatmap": [
           {
            "colorbar": {
             "outlinewidth": 0,
             "ticks": ""
            },
            "colorscale": [
             [
              0,
              "#0d0887"
             ],
             [
              0.1111111111111111,
              "#46039f"
             ],
             [
              0.2222222222222222,
              "#7201a8"
             ],
             [
              0.3333333333333333,
              "#9c179e"
             ],
             [
              0.4444444444444444,
              "#bd3786"
             ],
             [
              0.5555555555555556,
              "#d8576b"
             ],
             [
              0.6666666666666666,
              "#ed7953"
             ],
             [
              0.7777777777777778,
              "#fb9f3a"
             ],
             [
              0.8888888888888888,
              "#fdca26"
             ],
             [
              1,
              "#f0f921"
             ]
            ],
            "type": "heatmap"
           }
          ],
          "heatmapgl": [
           {
            "colorbar": {
             "outlinewidth": 0,
             "ticks": ""
            },
            "colorscale": [
             [
              0,
              "#0d0887"
             ],
             [
              0.1111111111111111,
              "#46039f"
             ],
             [
              0.2222222222222222,
              "#7201a8"
             ],
             [
              0.3333333333333333,
              "#9c179e"
             ],
             [
              0.4444444444444444,
              "#bd3786"
             ],
             [
              0.5555555555555556,
              "#d8576b"
             ],
             [
              0.6666666666666666,
              "#ed7953"
             ],
             [
              0.7777777777777778,
              "#fb9f3a"
             ],
             [
              0.8888888888888888,
              "#fdca26"
             ],
             [
              1,
              "#f0f921"
             ]
            ],
            "type": "heatmapgl"
           }
          ],
          "histogram": [
           {
            "marker": {
             "pattern": {
              "fillmode": "overlay",
              "size": 10,
              "solidity": 0.2
             }
            },
            "type": "histogram"
           }
          ],
          "histogram2d": [
           {
            "colorbar": {
             "outlinewidth": 0,
             "ticks": ""
            },
            "colorscale": [
             [
              0,
              "#0d0887"
             ],
             [
              0.1111111111111111,
              "#46039f"
             ],
             [
              0.2222222222222222,
              "#7201a8"
             ],
             [
              0.3333333333333333,
              "#9c179e"
             ],
             [
              0.4444444444444444,
              "#bd3786"
             ],
             [
              0.5555555555555556,
              "#d8576b"
             ],
             [
              0.6666666666666666,
              "#ed7953"
             ],
             [
              0.7777777777777778,
              "#fb9f3a"
             ],
             [
              0.8888888888888888,
              "#fdca26"
             ],
             [
              1,
              "#f0f921"
             ]
            ],
            "type": "histogram2d"
           }
          ],
          "histogram2dcontour": [
           {
            "colorbar": {
             "outlinewidth": 0,
             "ticks": ""
            },
            "colorscale": [
             [
              0,
              "#0d0887"
             ],
             [
              0.1111111111111111,
              "#46039f"
             ],
             [
              0.2222222222222222,
              "#7201a8"
             ],
             [
              0.3333333333333333,
              "#9c179e"
             ],
             [
              0.4444444444444444,
              "#bd3786"
             ],
             [
              0.5555555555555556,
              "#d8576b"
             ],
             [
              0.6666666666666666,
              "#ed7953"
             ],
             [
              0.7777777777777778,
              "#fb9f3a"
             ],
             [
              0.8888888888888888,
              "#fdca26"
             ],
             [
              1,
              "#f0f921"
             ]
            ],
            "type": "histogram2dcontour"
           }
          ],
          "mesh3d": [
           {
            "colorbar": {
             "outlinewidth": 0,
             "ticks": ""
            },
            "type": "mesh3d"
           }
          ],
          "parcoords": [
           {
            "line": {
             "colorbar": {
              "outlinewidth": 0,
              "ticks": ""
             }
            },
            "type": "parcoords"
           }
          ],
          "pie": [
           {
            "automargin": true,
            "type": "pie"
           }
          ],
          "scatter": [
           {
            "fillpattern": {
             "fillmode": "overlay",
             "size": 10,
             "solidity": 0.2
            },
            "type": "scatter"
           }
          ],
          "scatter3d": [
           {
            "line": {
             "colorbar": {
              "outlinewidth": 0,
              "ticks": ""
             }
            },
            "marker": {
             "colorbar": {
              "outlinewidth": 0,
              "ticks": ""
             }
            },
            "type": "scatter3d"
           }
          ],
          "scattercarpet": [
           {
            "marker": {
             "colorbar": {
              "outlinewidth": 0,
              "ticks": ""
             }
            },
            "type": "scattercarpet"
           }
          ],
          "scattergeo": [
           {
            "marker": {
             "colorbar": {
              "outlinewidth": 0,
              "ticks": ""
             }
            },
            "type": "scattergeo"
           }
          ],
          "scattergl": [
           {
            "marker": {
             "colorbar": {
              "outlinewidth": 0,
              "ticks": ""
             }
            },
            "type": "scattergl"
           }
          ],
          "scattermapbox": [
           {
            "marker": {
             "colorbar": {
              "outlinewidth": 0,
              "ticks": ""
             }
            },
            "type": "scattermapbox"
           }
          ],
          "scatterpolar": [
           {
            "marker": {
             "colorbar": {
              "outlinewidth": 0,
              "ticks": ""
             }
            },
            "type": "scatterpolar"
           }
          ],
          "scatterpolargl": [
           {
            "marker": {
             "colorbar": {
              "outlinewidth": 0,
              "ticks": ""
             }
            },
            "type": "scatterpolargl"
           }
          ],
          "scatterternary": [
           {
            "marker": {
             "colorbar": {
              "outlinewidth": 0,
              "ticks": ""
             }
            },
            "type": "scatterternary"
           }
          ],
          "surface": [
           {
            "colorbar": {
             "outlinewidth": 0,
             "ticks": ""
            },
            "colorscale": [
             [
              0,
              "#0d0887"
             ],
             [
              0.1111111111111111,
              "#46039f"
             ],
             [
              0.2222222222222222,
              "#7201a8"
             ],
             [
              0.3333333333333333,
              "#9c179e"
             ],
             [
              0.4444444444444444,
              "#bd3786"
             ],
             [
              0.5555555555555556,
              "#d8576b"
             ],
             [
              0.6666666666666666,
              "#ed7953"
             ],
             [
              0.7777777777777778,
              "#fb9f3a"
             ],
             [
              0.8888888888888888,
              "#fdca26"
             ],
             [
              1,
              "#f0f921"
             ]
            ],
            "type": "surface"
           }
          ],
          "table": [
           {
            "cells": {
             "fill": {
              "color": "#EBF0F8"
             },
             "line": {
              "color": "white"
             }
            },
            "header": {
             "fill": {
              "color": "#C8D4E3"
             },
             "line": {
              "color": "white"
             }
            },
            "type": "table"
           }
          ]
         },
         "layout": {
          "annotationdefaults": {
           "arrowcolor": "#2a3f5f",
           "arrowhead": 0,
           "arrowwidth": 1
          },
          "autotypenumbers": "strict",
          "coloraxis": {
           "colorbar": {
            "outlinewidth": 0,
            "ticks": ""
           }
          },
          "colorscale": {
           "diverging": [
            [
             0,
             "#8e0152"
            ],
            [
             0.1,
             "#c51b7d"
            ],
            [
             0.2,
             "#de77ae"
            ],
            [
             0.3,
             "#f1b6da"
            ],
            [
             0.4,
             "#fde0ef"
            ],
            [
             0.5,
             "#f7f7f7"
            ],
            [
             0.6,
             "#e6f5d0"
            ],
            [
             0.7,
             "#b8e186"
            ],
            [
             0.8,
             "#7fbc41"
            ],
            [
             0.9,
             "#4d9221"
            ],
            [
             1,
             "#276419"
            ]
           ],
           "sequential": [
            [
             0,
             "#0d0887"
            ],
            [
             0.1111111111111111,
             "#46039f"
            ],
            [
             0.2222222222222222,
             "#7201a8"
            ],
            [
             0.3333333333333333,
             "#9c179e"
            ],
            [
             0.4444444444444444,
             "#bd3786"
            ],
            [
             0.5555555555555556,
             "#d8576b"
            ],
            [
             0.6666666666666666,
             "#ed7953"
            ],
            [
             0.7777777777777778,
             "#fb9f3a"
            ],
            [
             0.8888888888888888,
             "#fdca26"
            ],
            [
             1,
             "#f0f921"
            ]
           ],
           "sequentialminus": [
            [
             0,
             "#0d0887"
            ],
            [
             0.1111111111111111,
             "#46039f"
            ],
            [
             0.2222222222222222,
             "#7201a8"
            ],
            [
             0.3333333333333333,
             "#9c179e"
            ],
            [
             0.4444444444444444,
             "#bd3786"
            ],
            [
             0.5555555555555556,
             "#d8576b"
            ],
            [
             0.6666666666666666,
             "#ed7953"
            ],
            [
             0.7777777777777778,
             "#fb9f3a"
            ],
            [
             0.8888888888888888,
             "#fdca26"
            ],
            [
             1,
             "#f0f921"
            ]
           ]
          },
          "colorway": [
           "#636efa",
           "#EF553B",
           "#00cc96",
           "#ab63fa",
           "#FFA15A",
           "#19d3f3",
           "#FF6692",
           "#B6E880",
           "#FF97FF",
           "#FECB52"
          ],
          "font": {
           "color": "#2a3f5f"
          },
          "geo": {
           "bgcolor": "white",
           "lakecolor": "white",
           "landcolor": "#E5ECF6",
           "showlakes": true,
           "showland": true,
           "subunitcolor": "white"
          },
          "hoverlabel": {
           "align": "left"
          },
          "hovermode": "closest",
          "mapbox": {
           "style": "light"
          },
          "paper_bgcolor": "white",
          "plot_bgcolor": "#E5ECF6",
          "polar": {
           "angularaxis": {
            "gridcolor": "white",
            "linecolor": "white",
            "ticks": ""
           },
           "bgcolor": "#E5ECF6",
           "radialaxis": {
            "gridcolor": "white",
            "linecolor": "white",
            "ticks": ""
           }
          },
          "scene": {
           "xaxis": {
            "backgroundcolor": "#E5ECF6",
            "gridcolor": "white",
            "gridwidth": 2,
            "linecolor": "white",
            "showbackground": true,
            "ticks": "",
            "zerolinecolor": "white"
           },
           "yaxis": {
            "backgroundcolor": "#E5ECF6",
            "gridcolor": "white",
            "gridwidth": 2,
            "linecolor": "white",
            "showbackground": true,
            "ticks": "",
            "zerolinecolor": "white"
           },
           "zaxis": {
            "backgroundcolor": "#E5ECF6",
            "gridcolor": "white",
            "gridwidth": 2,
            "linecolor": "white",
            "showbackground": true,
            "ticks": "",
            "zerolinecolor": "white"
           }
          },
          "shapedefaults": {
           "line": {
            "color": "#2a3f5f"
           }
          },
          "ternary": {
           "aaxis": {
            "gridcolor": "white",
            "linecolor": "white",
            "ticks": ""
           },
           "baxis": {
            "gridcolor": "white",
            "linecolor": "white",
            "ticks": ""
           },
           "bgcolor": "#E5ECF6",
           "caxis": {
            "gridcolor": "white",
            "linecolor": "white",
            "ticks": ""
           }
          },
          "title": {
           "x": 0.05
          },
          "xaxis": {
           "automargin": true,
           "gridcolor": "white",
           "linecolor": "white",
           "ticks": "",
           "title": {
            "standoff": 15
           },
           "zerolinecolor": "white",
           "zerolinewidth": 2
          },
          "yaxis": {
           "automargin": true,
           "gridcolor": "white",
           "linecolor": "white",
           "ticks": "",
           "title": {
            "standoff": 15
           },
           "zerolinecolor": "white",
           "zerolinewidth": 2
          }
         }
        },
        "title": {
         "text": "The RFM Mean for each Cluster"
        },
        "xaxis": {
         "tickangle": -90
        },
        "yaxis": {
         "visible": false
        }
       }
      },
      "text/html": [
       "<div>                            <div id=\"cdbc6876-6703-4311-b155-7b901f057644\" class=\"plotly-graph-div\" style=\"height:525px; width:100%;\"></div>            <script type=\"text/javascript\">                require([\"plotly\"], function(Plotly) {                    window.PLOTLYENV=window.PLOTLYENV || {};                                    if (document.getElementById(\"cdbc6876-6703-4311-b155-7b901f057644\")) {                    Plotly.newPlot(                        \"cdbc6876-6703-4311-b155-7b901f057644\",                        [{\"name\":\"Recency\",\"x\":[\"Outlier Cluster\",\"Cluster 1\",\"Cluster 2\",\"Cluster 3\",\"Cluster 4\",\"Cluster 5\",\"Cluster 6\",\"Cluster 7\",\"Cluster 8\",\"Cluster 9\",\"Cluster 10\",\"Cluster 11\",\"Cluster 12\",\"Cluster 13\",\"Cluster 14\",\"Cluster 15\",\"Cluster 16\",\"Cluster 17\",\"Cluster 18\",\"Cluster 19\",\"Cluster 20\",\"Cluster 21\",\"Cluster 22\",\"Cluster 23\",\"Cluster 24\",\"Cluster 25\",\"Cluster 26\",\"Cluster 27\",\"Cluster 28\",\"Cluster 29\",\"Cluster 30\",\"Cluster 31\",\"Cluster 32\",\"Cluster 33\",\"Cluster 34\",\"Cluster 35\",\"Cluster 36\",\"Cluster 37\",\"Cluster 38\",\"Cluster 39\",\"Cluster 40\",\"Cluster 41\",\"Cluster 42\",\"Cluster 43\",\"Cluster 44\",\"Cluster 45\",\"Cluster 46\",\"Cluster 47\",\"Cluster 48\",\"Cluster 49\",\"Cluster 50\",\"Cluster 51\",\"Cluster 52\",\"Cluster 53\",\"Cluster 54\",\"Cluster 55\",\"Cluster 56\"],\"y\":[32.041666666666664,2.8333333333333335,56.46875,55.0,44.08,3.814814814814815,16.352941176470587,14.41891891891892,45.59701492537314,3.6826923076923075,44.40909090909091,56.08695652173913,42.86666666666667,3.3947368421052633,14.6,3.619047619047619,55.88,3.8636363636363638,55.808510638297875,55.4,45.05769230769231,14.791666666666666,14.588235294117647,45.46666666666667,4.181818181818182,16.0,56.7,16.416666666666668,14.11111111111111,2.8333333333333335,54.285714285714285,3.5714285714285716,46.67857142857143,4.090909090909091,15.5,44.411764705882355,3.869565217391304,16.642857142857142,3.6666666666666665,42.9,17.25,41.77142857142857,57.0,55.55,55.57142857142857,54.96296296296296,43.89473684210526,14.4,14.444444444444445,39.125,4.083333333333333,45.916666666666664,56.63636363636363,57.15384615384615,12.333333333333334,45.0,2.3333333333333335],\"type\":\"bar\"},{\"name\":\"Frequency\",\"x\":[\"Outlier Cluster\",\"Cluster 1\",\"Cluster 2\",\"Cluster 3\",\"Cluster 4\",\"Cluster 5\",\"Cluster 6\",\"Cluster 7\",\"Cluster 8\",\"Cluster 9\",\"Cluster 10\",\"Cluster 11\",\"Cluster 12\",\"Cluster 13\",\"Cluster 14\",\"Cluster 15\",\"Cluster 16\",\"Cluster 17\",\"Cluster 18\",\"Cluster 19\",\"Cluster 20\",\"Cluster 21\",\"Cluster 22\",\"Cluster 23\",\"Cluster 24\",\"Cluster 25\",\"Cluster 26\",\"Cluster 27\",\"Cluster 28\",\"Cluster 29\",\"Cluster 30\",\"Cluster 31\",\"Cluster 32\",\"Cluster 33\",\"Cluster 34\",\"Cluster 35\",\"Cluster 36\",\"Cluster 37\",\"Cluster 38\",\"Cluster 39\",\"Cluster 40\",\"Cluster 41\",\"Cluster 42\",\"Cluster 43\",\"Cluster 44\",\"Cluster 45\",\"Cluster 46\",\"Cluster 47\",\"Cluster 48\",\"Cluster 49\",\"Cluster 50\",\"Cluster 51\",\"Cluster 52\",\"Cluster 53\",\"Cluster 54\",\"Cluster 55\",\"Cluster 56\"],\"y\":[33.166666666666664,13.0,3.3125,16.4,30.44,2.388888888888889,34.470588235294116,106.47297297297297,3.7313432835820897,142.84615384615384,17.40909090909091,18.130434782608695,87.83333333333333,31.42105263157895,30.2,70.42857142857143,5.96,32.63636363636363,15.191489361702128,36.0,15.653846153846153,16.208333333333332,17.764705882352942,5.4,4.818181818181818,4.333333333333333,70.3,5.916666666666667,32.111111111111114,6.166666666666667,5.142857142857143,29.714285714285715,71.60714285714286,16.0,14.166666666666666,30.764705882352942,16.695652173913043,16.642857142857142,16.333333333333332,33.0,5.583333333333333,31.057142857142857,56.75,30.85,74.5,15.148148148148149,6.0,31.6,66.37037037037037,17.125,31.916666666666668,17.333333333333332,32.13636363636363,32.15384615384615,54.833333333333336,58.57142857142857,5.5],\"type\":\"bar\"},{\"name\":\"Monetary\",\"x\":[\"Outlier Cluster\",\"Cluster 1\",\"Cluster 2\",\"Cluster 3\",\"Cluster 4\",\"Cluster 5\",\"Cluster 6\",\"Cluster 7\",\"Cluster 8\",\"Cluster 9\",\"Cluster 10\",\"Cluster 11\",\"Cluster 12\",\"Cluster 13\",\"Cluster 14\",\"Cluster 15\",\"Cluster 16\",\"Cluster 17\",\"Cluster 18\",\"Cluster 19\",\"Cluster 20\",\"Cluster 21\",\"Cluster 22\",\"Cluster 23\",\"Cluster 24\",\"Cluster 25\",\"Cluster 26\",\"Cluster 27\",\"Cluster 28\",\"Cluster 29\",\"Cluster 30\",\"Cluster 31\",\"Cluster 32\",\"Cluster 33\",\"Cluster 34\",\"Cluster 35\",\"Cluster 36\",\"Cluster 37\",\"Cluster 38\",\"Cluster 39\",\"Cluster 40\",\"Cluster 41\",\"Cluster 42\",\"Cluster 43\",\"Cluster 44\",\"Cluster 45\",\"Cluster 46\",\"Cluster 47\",\"Cluster 48\",\"Cluster 49\",\"Cluster 50\",\"Cluster 51\",\"Cluster 52\",\"Cluster 53\",\"Cluster 54\",\"Cluster 55\",\"Cluster 56\"],\"y\":[799.4175,112.15666666666668,17.094791666666655,958.7760000000001,1192.892,33.44444444444444,1709.3276470588232,3125.932027027027,45.846119402985074,3700.7065480769234,490.8622727272728,447.7113043478262,1643.0620000000004,481.48949999999985,249.41649999999996,548.4995238095239,236.25480000000005,2282.5227272727275,255.96531914893615,1038.712,269.00249999999994,262.45812500000005,490.6782352941177,487.1593333333333,237.53727272727272,66.59055555555555,1063.9230000000002,234.00333333333333,519.5188888888888,514.475,393.73,126.87142857142858,510.83535714285716,253.48818181818183,129.43083333333334,270.8070588235294,413.75782608695664,1646.0935714285713,1276.0016666666666,141.075,504.0924999999999,496.6731428571428,245.16750000000002,503.06100000000004,483.82499999999993,92.98851851851852,261.7868421052632,136.892,528.3648148148148,1397.2175000000002,280.6383333333334,127.78749999999998,245.12227272727276,69.40923076923077,268.78499999999997,243.8842857142857,1393.885],\"type\":\"bar\"}],                        {\"barmode\":\"stack\",\"title\":{\"text\":\"The RFM Mean for each Cluster\"},\"template\":{\"data\":{\"histogram2dcontour\":[{\"type\":\"histogram2dcontour\",\"colorbar\":{\"outlinewidth\":0,\"ticks\":\"\"},\"colorscale\":[[0.0,\"#0d0887\"],[0.1111111111111111,\"#46039f\"],[0.2222222222222222,\"#7201a8\"],[0.3333333333333333,\"#9c179e\"],[0.4444444444444444,\"#bd3786\"],[0.5555555555555556,\"#d8576b\"],[0.6666666666666666,\"#ed7953\"],[0.7777777777777778,\"#fb9f3a\"],[0.8888888888888888,\"#fdca26\"],[1.0,\"#f0f921\"]]}],\"choropleth\":[{\"type\":\"choropleth\",\"colorbar\":{\"outlinewidth\":0,\"ticks\":\"\"}}],\"histogram2d\":[{\"type\":\"histogram2d\",\"colorbar\":{\"outlinewidth\":0,\"ticks\":\"\"},\"colorscale\":[[0.0,\"#0d0887\"],[0.1111111111111111,\"#46039f\"],[0.2222222222222222,\"#7201a8\"],[0.3333333333333333,\"#9c179e\"],[0.4444444444444444,\"#bd3786\"],[0.5555555555555556,\"#d8576b\"],[0.6666666666666666,\"#ed7953\"],[0.7777777777777778,\"#fb9f3a\"],[0.8888888888888888,\"#fdca26\"],[1.0,\"#f0f921\"]]}],\"heatmap\":[{\"type\":\"heatmap\",\"colorbar\":{\"outlinewidth\":0,\"ticks\":\"\"},\"colorscale\":[[0.0,\"#0d0887\"],[0.1111111111111111,\"#46039f\"],[0.2222222222222222,\"#7201a8\"],[0.3333333333333333,\"#9c179e\"],[0.4444444444444444,\"#bd3786\"],[0.5555555555555556,\"#d8576b\"],[0.6666666666666666,\"#ed7953\"],[0.7777777777777778,\"#fb9f3a\"],[0.8888888888888888,\"#fdca26\"],[1.0,\"#f0f921\"]]}],\"heatmapgl\":[{\"type\":\"heatmapgl\",\"colorbar\":{\"outlinewidth\":0,\"ticks\":\"\"},\"colorscale\":[[0.0,\"#0d0887\"],[0.1111111111111111,\"#46039f\"],[0.2222222222222222,\"#7201a8\"],[0.3333333333333333,\"#9c179e\"],[0.4444444444444444,\"#bd3786\"],[0.5555555555555556,\"#d8576b\"],[0.6666666666666666,\"#ed7953\"],[0.7777777777777778,\"#fb9f3a\"],[0.8888888888888888,\"#fdca26\"],[1.0,\"#f0f921\"]]}],\"contourcarpet\":[{\"type\":\"contourcarpet\",\"colorbar\":{\"outlinewidth\":0,\"ticks\":\"\"}}],\"contour\":[{\"type\":\"contour\",\"colorbar\":{\"outlinewidth\":0,\"ticks\":\"\"},\"colorscale\":[[0.0,\"#0d0887\"],[0.1111111111111111,\"#46039f\"],[0.2222222222222222,\"#7201a8\"],[0.3333333333333333,\"#9c179e\"],[0.4444444444444444,\"#bd3786\"],[0.5555555555555556,\"#d8576b\"],[0.6666666666666666,\"#ed7953\"],[0.7777777777777778,\"#fb9f3a\"],[0.8888888888888888,\"#fdca26\"],[1.0,\"#f0f921\"]]}],\"surface\":[{\"type\":\"surface\",\"colorbar\":{\"outlinewidth\":0,\"ticks\":\"\"},\"colorscale\":[[0.0,\"#0d0887\"],[0.1111111111111111,\"#46039f\"],[0.2222222222222222,\"#7201a8\"],[0.3333333333333333,\"#9c179e\"],[0.4444444444444444,\"#bd3786\"],[0.5555555555555556,\"#d8576b\"],[0.6666666666666666,\"#ed7953\"],[0.7777777777777778,\"#fb9f3a\"],[0.8888888888888888,\"#fdca26\"],[1.0,\"#f0f921\"]]}],\"mesh3d\":[{\"type\":\"mesh3d\",\"colorbar\":{\"outlinewidth\":0,\"ticks\":\"\"}}],\"scatter\":[{\"fillpattern\":{\"fillmode\":\"overlay\",\"size\":10,\"solidity\":0.2},\"type\":\"scatter\"}],\"parcoords\":[{\"type\":\"parcoords\",\"line\":{\"colorbar\":{\"outlinewidth\":0,\"ticks\":\"\"}}}],\"scatterpolargl\":[{\"type\":\"scatterpolargl\",\"marker\":{\"colorbar\":{\"outlinewidth\":0,\"ticks\":\"\"}}}],\"bar\":[{\"error_x\":{\"color\":\"#2a3f5f\"},\"error_y\":{\"color\":\"#2a3f5f\"},\"marker\":{\"line\":{\"color\":\"#E5ECF6\",\"width\":0.5},\"pattern\":{\"fillmode\":\"overlay\",\"size\":10,\"solidity\":0.2}},\"type\":\"bar\"}],\"scattergeo\":[{\"type\":\"scattergeo\",\"marker\":{\"colorbar\":{\"outlinewidth\":0,\"ticks\":\"\"}}}],\"scatterpolar\":[{\"type\":\"scatterpolar\",\"marker\":{\"colorbar\":{\"outlinewidth\":0,\"ticks\":\"\"}}}],\"histogram\":[{\"marker\":{\"pattern\":{\"fillmode\":\"overlay\",\"size\":10,\"solidity\":0.2}},\"type\":\"histogram\"}],\"scattergl\":[{\"type\":\"scattergl\",\"marker\":{\"colorbar\":{\"outlinewidth\":0,\"ticks\":\"\"}}}],\"scatter3d\":[{\"type\":\"scatter3d\",\"line\":{\"colorbar\":{\"outlinewidth\":0,\"ticks\":\"\"}},\"marker\":{\"colorbar\":{\"outlinewidth\":0,\"ticks\":\"\"}}}],\"scattermapbox\":[{\"type\":\"scattermapbox\",\"marker\":{\"colorbar\":{\"outlinewidth\":0,\"ticks\":\"\"}}}],\"scatterternary\":[{\"type\":\"scatterternary\",\"marker\":{\"colorbar\":{\"outlinewidth\":0,\"ticks\":\"\"}}}],\"scattercarpet\":[{\"type\":\"scattercarpet\",\"marker\":{\"colorbar\":{\"outlinewidth\":0,\"ticks\":\"\"}}}],\"carpet\":[{\"aaxis\":{\"endlinecolor\":\"#2a3f5f\",\"gridcolor\":\"white\",\"linecolor\":\"white\",\"minorgridcolor\":\"white\",\"startlinecolor\":\"#2a3f5f\"},\"baxis\":{\"endlinecolor\":\"#2a3f5f\",\"gridcolor\":\"white\",\"linecolor\":\"white\",\"minorgridcolor\":\"white\",\"startlinecolor\":\"#2a3f5f\"},\"type\":\"carpet\"}],\"table\":[{\"cells\":{\"fill\":{\"color\":\"#EBF0F8\"},\"line\":{\"color\":\"white\"}},\"header\":{\"fill\":{\"color\":\"#C8D4E3\"},\"line\":{\"color\":\"white\"}},\"type\":\"table\"}],\"barpolar\":[{\"marker\":{\"line\":{\"color\":\"#E5ECF6\",\"width\":0.5},\"pattern\":{\"fillmode\":\"overlay\",\"size\":10,\"solidity\":0.2}},\"type\":\"barpolar\"}],\"pie\":[{\"automargin\":true,\"type\":\"pie\"}]},\"layout\":{\"autotypenumbers\":\"strict\",\"colorway\":[\"#636efa\",\"#EF553B\",\"#00cc96\",\"#ab63fa\",\"#FFA15A\",\"#19d3f3\",\"#FF6692\",\"#B6E880\",\"#FF97FF\",\"#FECB52\"],\"font\":{\"color\":\"#2a3f5f\"},\"hovermode\":\"closest\",\"hoverlabel\":{\"align\":\"left\"},\"paper_bgcolor\":\"white\",\"plot_bgcolor\":\"#E5ECF6\",\"polar\":{\"bgcolor\":\"#E5ECF6\",\"angularaxis\":{\"gridcolor\":\"white\",\"linecolor\":\"white\",\"ticks\":\"\"},\"radialaxis\":{\"gridcolor\":\"white\",\"linecolor\":\"white\",\"ticks\":\"\"}},\"ternary\":{\"bgcolor\":\"#E5ECF6\",\"aaxis\":{\"gridcolor\":\"white\",\"linecolor\":\"white\",\"ticks\":\"\"},\"baxis\":{\"gridcolor\":\"white\",\"linecolor\":\"white\",\"ticks\":\"\"},\"caxis\":{\"gridcolor\":\"white\",\"linecolor\":\"white\",\"ticks\":\"\"}},\"coloraxis\":{\"colorbar\":{\"outlinewidth\":0,\"ticks\":\"\"}},\"colorscale\":{\"sequential\":[[0.0,\"#0d0887\"],[0.1111111111111111,\"#46039f\"],[0.2222222222222222,\"#7201a8\"],[0.3333333333333333,\"#9c179e\"],[0.4444444444444444,\"#bd3786\"],[0.5555555555555556,\"#d8576b\"],[0.6666666666666666,\"#ed7953\"],[0.7777777777777778,\"#fb9f3a\"],[0.8888888888888888,\"#fdca26\"],[1.0,\"#f0f921\"]],\"sequentialminus\":[[0.0,\"#0d0887\"],[0.1111111111111111,\"#46039f\"],[0.2222222222222222,\"#7201a8\"],[0.3333333333333333,\"#9c179e\"],[0.4444444444444444,\"#bd3786\"],[0.5555555555555556,\"#d8576b\"],[0.6666666666666666,\"#ed7953\"],[0.7777777777777778,\"#fb9f3a\"],[0.8888888888888888,\"#fdca26\"],[1.0,\"#f0f921\"]],\"diverging\":[[0,\"#8e0152\"],[0.1,\"#c51b7d\"],[0.2,\"#de77ae\"],[0.3,\"#f1b6da\"],[0.4,\"#fde0ef\"],[0.5,\"#f7f7f7\"],[0.6,\"#e6f5d0\"],[0.7,\"#b8e186\"],[0.8,\"#7fbc41\"],[0.9,\"#4d9221\"],[1,\"#276419\"]]},\"xaxis\":{\"gridcolor\":\"white\",\"linecolor\":\"white\",\"ticks\":\"\",\"title\":{\"standoff\":15},\"zerolinecolor\":\"white\",\"automargin\":true,\"zerolinewidth\":2},\"yaxis\":{\"gridcolor\":\"white\",\"linecolor\":\"white\",\"ticks\":\"\",\"title\":{\"standoff\":15},\"zerolinecolor\":\"white\",\"automargin\":true,\"zerolinewidth\":2},\"scene\":{\"xaxis\":{\"backgroundcolor\":\"#E5ECF6\",\"gridcolor\":\"white\",\"linecolor\":\"white\",\"showbackground\":true,\"ticks\":\"\",\"zerolinecolor\":\"white\",\"gridwidth\":2},\"yaxis\":{\"backgroundcolor\":\"#E5ECF6\",\"gridcolor\":\"white\",\"linecolor\":\"white\",\"showbackground\":true,\"ticks\":\"\",\"zerolinecolor\":\"white\",\"gridwidth\":2},\"zaxis\":{\"backgroundcolor\":\"#E5ECF6\",\"gridcolor\":\"white\",\"linecolor\":\"white\",\"showbackground\":true,\"ticks\":\"\",\"zerolinecolor\":\"white\",\"gridwidth\":2}},\"shapedefaults\":{\"line\":{\"color\":\"#2a3f5f\"}},\"annotationdefaults\":{\"arrowcolor\":\"#2a3f5f\",\"arrowhead\":0,\"arrowwidth\":1},\"geo\":{\"bgcolor\":\"white\",\"landcolor\":\"#E5ECF6\",\"subunitcolor\":\"white\",\"showland\":true,\"showlakes\":true,\"lakecolor\":\"white\"},\"title\":{\"x\":0.05},\"mapbox\":{\"style\":\"light\"}}},\"yaxis\":{\"visible\":false},\"xaxis\":{\"tickangle\":-90}},                        {\"responsive\": true}                    ).then(function(){\n",
       "                            \n",
       "var gd = document.getElementById('cdbc6876-6703-4311-b155-7b901f057644');\n",
       "var x = new MutationObserver(function (mutations, observer) {{\n",
       "        var display = window.getComputedStyle(gd).display;\n",
       "        if (!display || display === 'none') {{\n",
       "            console.log([gd, 'removed!']);\n",
       "            Plotly.purge(gd);\n",
       "            observer.disconnect();\n",
       "        }}\n",
       "}});\n",
       "\n",
       "// Listen for the removal of the full notebook cells\n",
       "var notebookContainer = gd.closest('#notebook-container');\n",
       "if (notebookContainer) {{\n",
       "    x.observe(notebookContainer, {childList: true});\n",
       "}}\n",
       "\n",
       "// Listen for the clearing of the current output cell\n",
       "var outputEl = gd.closest('.output');\n",
       "if (outputEl) {{\n",
       "    x.observe(outputEl, {childList: true});\n",
       "}}\n",
       "\n",
       "                        })                };                });            </script>        </div>"
      ]
     },
     "metadata": {},
     "output_type": "display_data"
    }
   ],
   "source": [
    "stacked_bar_mean('DBSCAN y_pred')"
   ]
  },
  {
   "cell_type": "code",
   "execution_count": 55,
   "metadata": {},
   "outputs": [
    {
     "name": "stdout",
     "output_type": "stream",
     "text": [
      "0.9719222955802724\n"
     ]
    }
   ],
   "source": [
    "print(silhouette_score(X=X, labels=rfm_df['DBSCAN y_pred']))"
   ]
  },
  {
   "cell_type": "markdown",
   "metadata": {},
   "source": [
    "MiniBatchKMeans"
   ]
  },
  {
   "cell_type": "code",
   "execution_count": 58,
   "metadata": {},
   "outputs": [
    {
     "data": {
      "image/png": "[encoded data removed]",
      "text/plain": [
       "<Figure size 800x300 with 1 Axes>"
      ]
     },
     "metadata": {},
     "output_type": "display_data"
    }
   ],
   "source": [
    "import time\n",
    "import numpy as np\n",
    "import pandas as pd\n",
    "import matplotlib.pyplot as plt\n",
    "from sklearn.cluster import MiniBatchKMeans\n",
    "from sklearn.impute import SimpleImputer\n",
    "from sklearn.metrics.pairwise import pairwise_distances_argmin\n",
    "\n",
    "df=pd.read_excel('online_retail_II.xlsx')\n",
    "# Chọn ngẫu nhiên các điểm từ dữ liệu\n",
    "X_sample = df.sample(n=10, random_state=10)[['Quantity', 'Price', 'Customer ID']]\n",
    "\n",
    "# Xử lý giá trị thiếu bằng cách điền NaN bằng giá trị trung bình của mỗi cột\n",
    "imputer = SimpleImputer(strategy='mean')\n",
    "X_cleaned = imputer.fit_transform(X_sample)\n",
    "\n",
    "# MiniBatchKMeans\n",
    "mbk = MiniBatchKMeans(\n",
    "    init=\"k-means++\",\n",
    "    n_clusters=3,\n",
    "    batch_size=4,\n",
    "    n_init=5,\n",
    "    max_no_improvement=5,\n",
    "    verbose=0,\n",
    ")\n",
    "t0 = time.time()\n",
    "mbk.fit(X_cleaned)\n",
    "t_mini_batch = time.time() - t0\n",
    "\n",
    "# Sắp xếp lại các tâm cụm của MiniBatchKMeans theo thứ tự của tâm cụm KMeans\n",
    "order = pairwise_distances_argmin(mbk.cluster_centers_, mbk.cluster_centers_)\n",
    "mbk_ordered_cluster_centers = mbk.cluster_centers_[order]\n",
    "\n",
    "# Gán nhãn cho các điểm dữ liệu sử dụng các tâm cụm đã được sắp xếp\n",
    "mbk_labels = pairwise_distances_argmin(X_cleaned, mbk_ordered_cluster_centers)\n",
    "\n",
    "# Vẽ đồ thị\n",
    "fig = plt.figure(figsize=(8, 3))\n",
    "fig.subplots_adjust(left=0.2, right=0.98, bottom=0.05, top=0.9)\n",
    "\n",
    "# Thêm lưới kẻ\n",
    "plt.grid(which=\"both\", linewidth=0.5, alpha=0.5)\n",
    "\n",
    "# Đặt nhãn cho trục x và trục y\n",
    "plt.xlabel(\"Quantity\")\n",
    "plt.ylabel(\"Price\")\n",
    "\n",
    "# Chọn marker và màu sắc cho các cụm\n",
    "markers = [\"o\", \"^\", \"x\"]\n",
    "colors = [\"#4EACC5\", \"#FF9C34\", \"#4E9A06\"]\n",
    "\n",
    "# Vẽ các điểm dữ liệu\n",
    "for k, col, marker in zip(range(2), colors, markers):\n",
    "    my_members = mbk_labels == k\n",
    "    cluster_center = mbk_ordered_cluster_centers[k]\n",
    "    plt.scatter(X_cleaned[my_members, 0], X_cleaned[my_members, 1], c=col, marker=marker, label=f'Cluster {k + 1}')\n",
    "\n",
    "# Vẽ các tâm cụm\n",
    "for k, col in zip(range(2), colors):\n",
    "    plt.scatter(mbk_ordered_cluster_centers[k, 0], mbk_ordered_cluster_centers[k, 1], c=col, marker=\"*\", s=100, label=f'Centroid {k + 1}')\n",
    "\n",
    "# Hiển thị chú thích của cụm và tâm cụm\n",
    "plt.legend(loc='upper right', bbox_to_anchor=(1.25, 1.0))\n",
    "\n",
    "plt.show()\n"
   ]
  },
  {
   "cell_type": "code",
   "execution_count": 61,
   "metadata": {},
   "outputs": [
    {
     "name": "stdout",
     "output_type": "stream",
     "text": [
      " 0.7519034188597568\n"
     ]
    }
   ],
   "source": [
    "from sklearn.metrics import silhouette_score, davies_bouldin_score\n",
    "\n",
    "# Đánh giá silhouette score\n",
    "silhouette_avg = silhouette_score(X_cleaned, mbk_labels)\n",
    "print(f\" {silhouette_avg}\")\n"
   ]
  }
 ],
 "metadata": {
  "kernelspec": {
   "display_name": "base",
   "language": "python",
   "name": "python3"
  },
  "language_info": {
   "codemirror_mode": {
    "name": "ipython",
    "version": 3
   },
   "file_extension": ".py",
   "mimetype": "text/x-python",
   "name": "python",
   "nbconvert_exporter": "python",
   "pygments_lexer": "ipython3",
   "version": "3.9.13"
  }
 },
 "nbformat": 4,
 "nbformat_minor": 2
}
